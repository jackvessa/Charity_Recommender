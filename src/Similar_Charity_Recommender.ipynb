{
 "cells": [
  {
   "cell_type": "markdown",
   "metadata": {},
   "source": [
    "# Similar Charity Recommender - Built Using CharityNavigator Dataset"
   ]
  },
  {
   "cell_type": "markdown",
   "metadata": {},
   "source": [
    "## Imports"
   ]
  },
  {
   "cell_type": "code",
   "execution_count": 1,
   "metadata": {},
   "outputs": [],
   "source": [
    "import numpy as np\n",
    "import pandas as pd\n",
    "import datetime\n",
    "import math\n",
    "import random\n",
    "import sys\n",
    "from textwrap import wrap\n",
    "\n",
    "pd.options.display.max_columns = 50"
   ]
  },
  {
   "cell_type": "code",
   "execution_count": 2,
   "metadata": {},
   "outputs": [],
   "source": [
    "import scipy.sparse as sparse\n",
    "from scipy.sparse.linalg import spsolve\n",
    "from sklearn.preprocessing import MinMaxScaler\n",
    "from sklearn.model_selection import train_test_split"
   ]
  },
  {
   "cell_type": "code",
   "execution_count": 3,
   "metadata": {},
   "outputs": [],
   "source": [
    "# Plots\n",
    "import matplotlib.pyplot as plt\n",
    "import seaborn as sns\n",
    "from scipy import stats\n",
    "sns.set(color_codes=True)\n",
    "# import folium\n",
    "# import plotly.graph_objects as go\n"
   ]
  },
  {
   "cell_type": "code",
   "execution_count": 4,
   "metadata": {},
   "outputs": [],
   "source": [
    "import pprint\n",
    "from collections import defaultdict\n",
    "import gensim\n",
    "from gensim import corpora, models, similarities\n",
    "# NLTK Stop words\n",
    "from nltk.corpus import stopwords\n"
   ]
  },
  {
   "cell_type": "markdown",
   "metadata": {},
   "source": [
    "## Functions"
   ]
  },
  {
   "cell_type": "code",
   "execution_count": 5,
   "metadata": {},
   "outputs": [],
   "source": [
    "def sort_db_value(db,value,asc=False):\n",
    "    return db.sort_values(by = value, ascending = asc)\n",
    "\n",
    "def freq_array(freq_list):\n",
    "    freq = []\n",
    "    for i in freq_list:\n",
    "        freq.append(i)\n",
    "    return freq\n",
    "        \n",
    "def wrap_axis_labels(labels_list,wrap_length=13):\n",
    "    labels_list = [ '\\n'.join(wrap(l, wrap_length)) for l in labels_list]\n",
    "    return labels_list"
   ]
  },
  {
   "cell_type": "code",
   "execution_count": 6,
   "metadata": {},
   "outputs": [],
   "source": [
    "def set_labels(freq, ax,horz_shift=.2,vert_shift=1000,w=\"bold\",fsize=10,c=\"b\"):\n",
    "    '''\n",
    "    Function\n",
    "    --------\n",
    "    Set Frequency Labels on Bar Plot\n",
    "    \n",
    "    Parameters\n",
    "    ----------\n",
    "    freq : List of frequencies to plot for each bar\n",
    "    ax : Axis to Plot Frequency Labels on\n",
    "    horz_shift : Shift labels left/right\n",
    "    vert_shift : Shift labels up/down\n",
    "    w : \"weight\" -> Bold by defauly\n",
    "    fsize : fontsize\n",
    "    c : label color\n",
    "    '''\n",
    "    for i, v in enumerate(freq):\n",
    "        ax.text(i-horz_shift,v+vert_shift, str(round(v,2)), weight = w,fontsize=fsize,color = c)\n",
    "    pass"
   ]
  },
  {
   "cell_type": "code",
   "execution_count": 49,
   "metadata": {},
   "outputs": [],
   "source": [
    "def set_labels_horizontal(freq, ax,horz_shift=.2,vert_shift=1000,w=\"bold\",fsize=10,c=\"b\"):\n",
    "    '''\n",
    "    Function\n",
    "    --------\n",
    "    Set Frequency Labels on Bar Plot\n",
    "    \n",
    "    Parameters\n",
    "    ----------\n",
    "    freq : List of frequencies to plot for each bar\n",
    "    ax : Axis to Plot Frequency Labels on\n",
    "    horz_shift : Shift labels left/right\n",
    "    vert_shift : Shift labels up/down\n",
    "    w : \"weight\" -> Bold by defauly\n",
    "    fsize : fontsize\n",
    "    c : label color\n",
    "    '''\n",
    "    for i, v in enumerate(freq):\n",
    "        ax.text(v-horz_shift,i+vert_shift, str(round(v,2)), weight = w,fontsize=fsize,color = c)\n",
    "    pass"
   ]
  },
  {
   "cell_type": "code",
   "execution_count": 7,
   "metadata": {},
   "outputs": [],
   "source": [
    "def process_corpus(text_corpus,min_words=3,max_percent=0.1):\n",
    "    '''\n",
    "    Function\n",
    "    --------\n",
    "    Process corpus by removing stopwords, lowercasing tokenized words,\n",
    "        removing words ocurring in only 1 document or more than 10% of documents\n",
    "    \n",
    "    Parameters\n",
    "    ----------\n",
    "    text_corpus : Unprocessed Text Corpus\n",
    "    \n",
    "    Returns:\n",
    "    -------\n",
    "    processed_corpus : Processed Text Corpus\n",
    "    ''' \n",
    "    # Remove Stop Words\n",
    "    stop_words = stopwords.words('english')\n",
    "    stop_words.extend(['from', 'subject', 're', 'edu', 'use', 'not', 'would', 'say', 'could', '_',\n",
    "                   'be', 'know', 'good', 'go', 'get', 'do', 'done', 'try', 'many', 'some', 'nice', \n",
    "                   'thank', 'think', 'see', 'rather', 'easy', 'easily', 'lot', 'lack', 'make', 'want', \n",
    "                   'seem', 'run', 'need', 'even', 'right', 'line', 'even', 'also', 'may', 'take', 'come'])\n",
    "    \n",
    "    # Lowercase each document, split it by white space and filter out stopwords\n",
    "    texts = \"\"\n",
    "    texts = [[word for word in document.lower().split() if word not in stop_words] for document in text_corpus]\n",
    "    \n",
    "    # Count word frequencies\n",
    "    frequency = defaultdict(int)\n",
    "    for text in texts:\n",
    "        for token in text:\n",
    "            frequency[token] += 1\n",
    "        \n",
    "    # Only keep words that appear more than [min_words] times, \n",
    "    # are in less than [max_percent] of documents, and are alphabetical strings\n",
    "    max_percent_calc = (int(len(text_corpus)*(max_percent)))\n",
    "    \n",
    "    processed_corpus = []\n",
    "    for text in texts:\n",
    "        token_list = []\n",
    "        for token in text:\n",
    "            if frequency[token] > min_words and frequency[token] < max_percent_calc and str.isalpha(token):\n",
    "                token_list.append(token)\n",
    "        processed_corpus.append(token_list)\n",
    "    \n",
    "    return processed_corpus"
   ]
  },
  {
   "cell_type": "code",
   "execution_count": 8,
   "metadata": {},
   "outputs": [],
   "source": [
    "def create_index_from_corpus(processed_corpus):\n",
    "    '''\n",
    "    Function\n",
    "    --------\n",
    "    Trains model on processed corpus\n",
    "    \n",
    "    Also creates dictionary of words from processed corpus\n",
    "    \n",
    "    Parameters\n",
    "    ----------\n",
    "    processed_corpus : Processed Text Corpus\n",
    "    \n",
    "    Returns:\n",
    "    -------\n",
    "    \n",
    "    ''' \n",
    "    dictionary = corpora.Dictionary(processed_corpus)\n",
    "    features = (len(dictionary))\n",
    "    \n",
    "    # Convert documents into Bag of Words (BoW) format\n",
    "    bow_corpus = [dictionary.doc2bow(text) for text in processed_corpus]\n",
    "    \n",
    "    # train the model\n",
    "    tfidf = models.TfidfModel(bow_corpus)\n",
    "    \n",
    "    # Get cosine similarity of vectors of documents\n",
    "    index = similarities.SparseMatrixSimilarity(tfidf[bow_corpus], num_features=features)\n",
    "    \n",
    "    return index, dictionary, tfidf"
   ]
  },
  {
   "cell_type": "code",
   "execution_count": 9,
   "metadata": {},
   "outputs": [],
   "source": [
    "def find_similar_charities_category_score(train_df,test_df,column):\n",
    "    '''\n",
    "    Function\n",
    "    --------\n",
    "    Train Model on \"corpus\" column - composed of charity category, description, motto and state\n",
    "    \n",
    "    Parameters\n",
    "    ----------\n",
    "    train_df : DataFrame to Train LDA Model\n",
    "    test_df : DataFrame to Test and Score Model\n",
    "    \n",
    "    Returns:\n",
    "    -------\n",
    "    top_3_sim : DataFrame of Top 3 Most Similar Charities\n",
    "    '''\n",
    "    total = 0\n",
    "    category_counter = {1:0,2:0,3:0}\n",
    "    document_min_words_cutoff = 200\n",
    "    \n",
    "    print(\"1. Processing Training Corpus\")\n",
    "    \n",
    "    char_desc_trimmed = np.array(train_df[column])\n",
    "    corpus = char_desc_trimmed\n",
    "    \n",
    "    processed_corpus = process_corpus(corpus)\n",
    "    \n",
    "    print(\"2. Creating Model from Training Corpus\")\n",
    "    index, dictionary, tfidf = create_index_from_corpus(processed_corpus)\n",
    "    \n",
    "    print(\"3. Starting Test Corpus Category Analysis\\n\")\n",
    "    for ind, document in enumerate(test_df[column]):\n",
    "        total +=1 \n",
    "        if total % 500 == 0:\n",
    "            print(\"Analyzed\",total,\"documents...\")\n",
    "         \n",
    "        query_bow = dictionary.doc2bow(document.split())\n",
    "        sims = index[tfidf[query_bow]]\n",
    "        \n",
    "        top_3_sim = dict()\n",
    "        count = 3\n",
    "        \n",
    "        for document_number, score in sorted(enumerate(sims), key=lambda x: x[1], reverse=True)[1:4]:\n",
    "            \n",
    "            if count > 0:\n",
    "                top_3_sim[document_number] = score\n",
    "            count -= 1\n",
    "            \n",
    "        category_count = 1\n",
    "        \n",
    "        for doc, score in top_3_sim.items():\n",
    "            if train_df['category'].iloc[doc] == test_df['category'].iloc[ind]:\n",
    "                category_counter[category_count] += 1\n",
    "            category_count += 1\n",
    "        \n",
    "    first_rec_score = round((category_counter[1] / total)*100,2)\n",
    "    second_rec_score = round((category_counter[2] / total)*100,2)\n",
    "    third_rec_score = round((category_counter[3] / total)*100,2)\n",
    "    \n",
    "    print (\"\\nFirst Recommendation Score:\", first_rec_score,\"%\")\n",
    "    print (\"Second Recommendation Score:\", second_rec_score,\"%\")   \n",
    "    print (\"Third Recommendation Score:\", third_rec_score,\"%\\n\")\n",
    "    \n",
    "    print (\"AVG Recommendation Score:\", round((first_rec_score+second_rec_score+third_rec_score)/3,2),\"%\")\n",
    "    \n",
    "    return top_3_sim\n",
    "    "
   ]
  },
  {
   "cell_type": "code",
   "execution_count": 10,
   "metadata": {},
   "outputs": [],
   "source": [
    "def find_similar_charities_similar_score(train_df,test_df,column):\n",
    "    '''\n",
    "    Function\n",
    "    --------\n",
    "    Train Model on \"corpus\" column - composed of charity category, description, motto and state\n",
    "    \n",
    "    Parameters\n",
    "    ----------\n",
    "    train_df : DataFrame to Train LDA Model\n",
    "    test_df : DataFrame to Test and Score Model\n",
    "    \n",
    "    Returns:\n",
    "    -------\n",
    "    top_3_sim : DataFrame of Top 3 Most Similar Charities\n",
    "    '''\n",
    "    total = 0\n",
    "    category_counter = {1:0,2:0,3:0}\n",
    "    document_min_words_cutoff = 200\n",
    "    \n",
    "    print(\"1. Processing Training Corpus\")\n",
    "    \n",
    "    char_desc_trimmed = np.array(train_df[column])\n",
    "    \n",
    "    corpus = char_desc_trimmed\n",
    "    processed_corpus = process_corpus(corpus)\n",
    "    \n",
    "    print(\"2. Creating Model from Training Corpus\")\n",
    "    index, dictionary, tfidf = create_index_from_corpus(processed_corpus)\n",
    "    \n",
    "    print(\"3. Starting Test Corpus Similarity Analysis\\n\")\n",
    "    for ind, document in enumerate(test_df[column]):\n",
    "        total +=1 \n",
    "        if total % 500 == 0:\n",
    "            print(\"Analyzed\",total,\"documents...\")\n",
    "        \n",
    "        \n",
    "        query_bow = dictionary.doc2bow(document.split())\n",
    "        sims = index[tfidf[query_bow]]\n",
    "        \n",
    "        top_3_sim = dict()\n",
    "        count = 3\n",
    "        \n",
    "        for document_number, score in sorted(enumerate(sims), key=lambda x: x[1], reverse=True)[1:4]:\n",
    "            \n",
    "            if count > 0:\n",
    "                top_3_sim[document_number] = score\n",
    "            count -= 1\n",
    "            \n",
    "        category_count = 1\n",
    "        \n",
    "        for doc, score in top_3_sim.items():     \n",
    "            category_counter[category_count] += score\n",
    "            category_count +=1\n",
    "    \n",
    "    first_rec_score = round((category_counter[1] / total)*100,2)\n",
    "    second_rec_score = round((category_counter[2] / total)*100,2)\n",
    "    third_rec_score = round((category_counter[3] / total)*100,2)\n",
    "    \n",
    "    print (\"\\nFirst Recommendation Score:\", first_rec_score,\"%\")\n",
    "    print (\"Second Recommendation Score:\", second_rec_score,\"%\")   \n",
    "    print (\"Third Recommendation Score:\", third_rec_score,\"%\\n\")\n",
    "    \n",
    "    print (\"AVG Recommendation Score:\", round((first_rec_score+second_rec_score+third_rec_score)/3,2),\"%\")\n",
    "    \n",
    "    return top_3_sim\n",
    "    "
   ]
  },
  {
   "cell_type": "code",
   "execution_count": 11,
   "metadata": {},
   "outputs": [],
   "source": [
    "def find_similar_charities_from_search(train_df,search_text):\n",
    "    '''\n",
    "    Function\n",
    "    --------\n",
    "    Train Model on \"corpus\" column - composed of charity category, description, motto and state\n",
    "    \n",
    "    Parameters\n",
    "    ----------\n",
    "    train_df : DataFrame to Train LDA Model\n",
    "    test_df : DataFrame to Test and Score Model\n",
    "    \n",
    "    Returns:\n",
    "    -------\n",
    "    top_3_sim : DataFrame of Top 3 Most Similar Charities\n",
    "    '''\n",
    "    total = 0\n",
    "    category_counter = {1:0,2:0,3:0}\n",
    "    document_min_words_cutoff = 200\n",
    "    \n",
    "    print(\"1. Processing Training Corpus\")\n",
    "    \n",
    "    char_desc_trimmed = np.array(train_df['corpus'])\n",
    "    \n",
    "    corpus = char_desc_trimmed\n",
    "    processed_corpus = process_corpus(corpus)\n",
    "    \n",
    "    print(\"2. Creating Model from Training Corpus\")\n",
    "    index, dictionary, tfidf = create_index_from_corpus(processed_corpus)\n",
    "    \n",
    "    print(dictionary.values())\n",
    "    \n",
    "    print(\"3. Starting Test Corpus Similarity Analysis\\n\")\n",
    "    \n",
    "    total +=1 \n",
    "    if total % 500 == 0:\n",
    "        print(\"Analyzed\",total,\"documents...\")\n",
    "\n",
    "    query_bow = dictionary.doc2bow(search_text.split())\n",
    "    sims = index[tfidf[query_bow]]\n",
    "    \n",
    "    top_3_sim = dict()\n",
    "    count = 3\n",
    "\n",
    "    for document_number, score in sorted(enumerate(sims), key=lambda x: x[1], reverse=True)[1:4]:\n",
    "\n",
    "        if count > 0:\n",
    "            top_3_sim[document_number] = score\n",
    "        count -= 1\n",
    "\n",
    "    category_count = 1\n",
    "\n",
    "    for doc, score in top_3_sim.items():     \n",
    "        category_counter[category_count] += score\n",
    "        category_count +=1\n",
    "    \n",
    "    first_rec_score = round((category_counter[1] / total)*100,2)\n",
    "    second_rec_score = round((category_counter[2] / total)*100,2)\n",
    "    third_rec_score = round((category_counter[3] / total)*100,2)\n",
    "    \n",
    "    print (\"\\nFirst Recommendation Score:\", first_rec_score,\"%\")\n",
    "    print (\"Second Recommendation Score:\", second_rec_score,\"%\")   \n",
    "    print (\"Third Recommendation Score:\", third_rec_score,\"%\\n\")\n",
    "    \n",
    "    print (\"AVG Recommendation Score:\", round((first_rec_score+second_rec_score+third_rec_score)/3,2),\"%\")\n",
    "    \n",
    "    return top_3_sim\n",
    "    "
   ]
  },
  {
   "cell_type": "code",
   "execution_count": 12,
   "metadata": {},
   "outputs": [],
   "source": [
    "def create_sim_word_dict(text1, text2, dictionary):\n",
    "    '''\n",
    "    '''\n",
    "    text1_array = text1.split()\n",
    "    text2_array = text2.split()\n",
    "\n",
    "    dict_list = []\n",
    "    for i in range(len(dictionary)):\n",
    "        dict_list.append(dictionary[i])\n",
    "    dict_list = np.array(dict_list)\n",
    "\n",
    "    similar_words = dict()\n",
    "\n",
    "    for word in text1_array:\n",
    "        if word in text2_array and word in dict_list:\n",
    "            if word not in similar_words:\n",
    "                similar_words[word] = 1\n",
    "            else:\n",
    "                similar_words[word] +=1\n",
    "\n",
    "    return similar_words"
   ]
  },
  {
   "cell_type": "code",
   "execution_count": null,
   "metadata": {},
   "outputs": [],
   "source": []
  },
  {
   "cell_type": "markdown",
   "metadata": {},
   "source": [
    "## Loading Charity Navigator Data"
   ]
  },
  {
   "cell_type": "code",
   "execution_count": 13,
   "metadata": {},
   "outputs": [
    {
     "data": {
      "text/html": [
       "<div>\n",
       "<style scoped>\n",
       "    .dataframe tbody tr th:only-of-type {\n",
       "        vertical-align: middle;\n",
       "    }\n",
       "\n",
       "    .dataframe tbody tr th {\n",
       "        vertical-align: top;\n",
       "    }\n",
       "\n",
       "    .dataframe thead th {\n",
       "        text-align: right;\n",
       "    }\n",
       "</style>\n",
       "<table border=\"1\" class=\"dataframe\">\n",
       "  <thead>\n",
       "    <tr style=\"text-align: right;\">\n",
       "      <th></th>\n",
       "      <th>name</th>\n",
       "      <th>ein</th>\n",
       "      <th>category</th>\n",
       "      <th>description</th>\n",
       "      <th>motto</th>\n",
       "      <th>score</th>\n",
       "      <th>state</th>\n",
       "      <th>corpus</th>\n",
       "    </tr>\n",
       "  </thead>\n",
       "  <tbody>\n",
       "    <tr>\n",
       "      <td>0</td>\n",
       "      <td>1000 Friends of Oregon</td>\n",
       "      <td>930642086</td>\n",
       "      <td>Environment</td>\n",
       "      <td>Working with Oregonians to enhance our quality...</td>\n",
       "      <td>Great communities. Working lands. Iconic Places.</td>\n",
       "      <td>91.94</td>\n",
       "      <td>OR</td>\n",
       "      <td>Environment Working with Oregonians to enhance...</td>\n",
       "    </tr>\n",
       "    <tr>\n",
       "      <td>1</td>\n",
       "      <td>WYPR</td>\n",
       "      <td>311770828</td>\n",
       "      <td>Arts, Culture, Humanities</td>\n",
       "      <td>Serving the metropolitan Baltimore area and th...</td>\n",
       "      <td>88.1 FM -. Your NPR News Station</td>\n",
       "      <td>85.59</td>\n",
       "      <td>MD</td>\n",
       "      <td>Arts, Culture, Humanities Serving the metropol...</td>\n",
       "    </tr>\n",
       "    <tr>\n",
       "      <td>2</td>\n",
       "      <td>VSS Catholic Communications</td>\n",
       "      <td>911857425</td>\n",
       "      <td>Religion</td>\n",
       "      <td>VSS Catholic Communications is dedicated to an...</td>\n",
       "      <td>Spirit Catholic Radio Network</td>\n",
       "      <td>76.80</td>\n",
       "      <td>NE</td>\n",
       "      <td>Religion VSS Catholic Communications is dedica...</td>\n",
       "    </tr>\n",
       "    <tr>\n",
       "      <td>3</td>\n",
       "      <td>Utah Symphony &amp; Opera</td>\n",
       "      <td>510145980</td>\n",
       "      <td>Arts, Culture, Humanities</td>\n",
       "      <td>The mission of the Utah Symphony &amp; Opera is to...</td>\n",
       "      <td>Engaging, educating, and enriching lives</td>\n",
       "      <td>91.95</td>\n",
       "      <td>UT</td>\n",
       "      <td>Arts, Culture, Humanities The mission of the U...</td>\n",
       "    </tr>\n",
       "    <tr>\n",
       "      <td>4</td>\n",
       "      <td>Two Ten Footwear Foundation</td>\n",
       "      <td>222579809</td>\n",
       "      <td>Human Services</td>\n",
       "      <td>Funded solely by the footwear industry, Two Te...</td>\n",
       "      <td>Shoepeople Helping Shoepeople</td>\n",
       "      <td>90.26</td>\n",
       "      <td>MA</td>\n",
       "      <td>Human Services Funded solely by the footwear i...</td>\n",
       "    </tr>\n",
       "  </tbody>\n",
       "</table>\n",
       "</div>"
      ],
      "text/plain": [
       "                          name        ein                   category  \\\n",
       "0       1000 Friends of Oregon  930642086                Environment   \n",
       "1                         WYPR  311770828  Arts, Culture, Humanities   \n",
       "2  VSS Catholic Communications  911857425                   Religion   \n",
       "3        Utah Symphony & Opera  510145980  Arts, Culture, Humanities   \n",
       "4  Two Ten Footwear Foundation  222579809             Human Services   \n",
       "\n",
       "                                         description  \\\n",
       "0  Working with Oregonians to enhance our quality...   \n",
       "1  Serving the metropolitan Baltimore area and th...   \n",
       "2  VSS Catholic Communications is dedicated to an...   \n",
       "3  The mission of the Utah Symphony & Opera is to...   \n",
       "4  Funded solely by the footwear industry, Two Te...   \n",
       "\n",
       "                                              motto  score state  \\\n",
       "0  Great communities. Working lands. Iconic Places.  91.94    OR   \n",
       "1                  88.1 FM -. Your NPR News Station  85.59    MD   \n",
       "2                     Spirit Catholic Radio Network  76.80    NE   \n",
       "3          Engaging, educating, and enriching lives  91.95    UT   \n",
       "4                     Shoepeople Helping Shoepeople  90.26    MA   \n",
       "\n",
       "                                              corpus  \n",
       "0  Environment Working with Oregonians to enhance...  \n",
       "1  Arts, Culture, Humanities Serving the metropol...  \n",
       "2  Religion VSS Catholic Communications is dedica...  \n",
       "3  Arts, Culture, Humanities The mission of the U...  \n",
       "4  Human Services Funded solely by the footwear i...  "
      ]
     },
     "execution_count": 13,
     "metadata": {},
     "output_type": "execute_result"
    }
   ],
   "source": [
    "charity_navigator_df = pd.read_csv('../data/charities_rated_corpus.csv')\n",
    "charity_navigator_df.drop(columns=['Unnamed: 0'],inplace=True)\n",
    "charity_navigator_df.head()"
   ]
  },
  {
   "cell_type": "code",
   "execution_count": 14,
   "metadata": {},
   "outputs": [],
   "source": [
    "## Cleaning the Original Charity Navigator Data\n",
    "# charity_navigator_df = pd.read_csv('../data/CLEAN_charity_data.csv')\n",
    "# charity_navigator_df = charity_navigator_df[['name','ein','category','description','motto','score','state']]\n",
    "# charity_navigator_df['ein'] = charity_navigator_df['ein'].apply(lambda x: int(x.replace(\"-\",\"\")))\n",
    "# charity_navigator_df = charity_navigator_df.fillna(\"\")\n",
    "# charity_navigator_df['corpus'] = (charity_navigator_df['category'] + \" \" + charity_navigator_df['description'] + \" \" +charity_navigator_df['motto']+\" \"+ charity_navigator_df['state'])"
   ]
  },
  {
   "cell_type": "code",
   "execution_count": null,
   "metadata": {},
   "outputs": [],
   "source": []
  },
  {
   "cell_type": "markdown",
   "metadata": {},
   "source": [
    "# Exploratory Data Analysis"
   ]
  },
  {
   "cell_type": "code",
   "execution_count": 15,
   "metadata": {},
   "outputs": [
    {
     "data": {
      "text/html": [
       "<div>\n",
       "<style scoped>\n",
       "    .dataframe tbody tr th:only-of-type {\n",
       "        vertical-align: middle;\n",
       "    }\n",
       "\n",
       "    .dataframe tbody tr th {\n",
       "        vertical-align: top;\n",
       "    }\n",
       "\n",
       "    .dataframe thead th {\n",
       "        text-align: right;\n",
       "    }\n",
       "</style>\n",
       "<table border=\"1\" class=\"dataframe\">\n",
       "  <thead>\n",
       "    <tr style=\"text-align: right;\">\n",
       "      <th></th>\n",
       "      <th>name</th>\n",
       "      <th>ein</th>\n",
       "      <th>category</th>\n",
       "      <th>description</th>\n",
       "      <th>motto</th>\n",
       "      <th>score</th>\n",
       "      <th>state</th>\n",
       "      <th>corpus</th>\n",
       "    </tr>\n",
       "  </thead>\n",
       "  <tbody>\n",
       "    <tr>\n",
       "      <td>0</td>\n",
       "      <td>1000 Friends of Oregon</td>\n",
       "      <td>930642086</td>\n",
       "      <td>Environment</td>\n",
       "      <td>Working with Oregonians to enhance our quality...</td>\n",
       "      <td>Great communities. Working lands. Iconic Places.</td>\n",
       "      <td>91.94</td>\n",
       "      <td>OR</td>\n",
       "      <td>Environment Working with Oregonians to enhance...</td>\n",
       "    </tr>\n",
       "    <tr>\n",
       "      <td>1</td>\n",
       "      <td>WYPR</td>\n",
       "      <td>311770828</td>\n",
       "      <td>Arts, Culture, Humanities</td>\n",
       "      <td>Serving the metropolitan Baltimore area and th...</td>\n",
       "      <td>88.1 FM -. Your NPR News Station</td>\n",
       "      <td>85.59</td>\n",
       "      <td>MD</td>\n",
       "      <td>Arts, Culture, Humanities Serving the metropol...</td>\n",
       "    </tr>\n",
       "    <tr>\n",
       "      <td>2</td>\n",
       "      <td>VSS Catholic Communications</td>\n",
       "      <td>911857425</td>\n",
       "      <td>Religion</td>\n",
       "      <td>VSS Catholic Communications is dedicated to an...</td>\n",
       "      <td>Spirit Catholic Radio Network</td>\n",
       "      <td>76.80</td>\n",
       "      <td>NE</td>\n",
       "      <td>Religion VSS Catholic Communications is dedica...</td>\n",
       "    </tr>\n",
       "    <tr>\n",
       "      <td>3</td>\n",
       "      <td>Utah Symphony &amp; Opera</td>\n",
       "      <td>510145980</td>\n",
       "      <td>Arts, Culture, Humanities</td>\n",
       "      <td>The mission of the Utah Symphony &amp; Opera is to...</td>\n",
       "      <td>Engaging, educating, and enriching lives</td>\n",
       "      <td>91.95</td>\n",
       "      <td>UT</td>\n",
       "      <td>Arts, Culture, Humanities The mission of the U...</td>\n",
       "    </tr>\n",
       "    <tr>\n",
       "      <td>4</td>\n",
       "      <td>Two Ten Footwear Foundation</td>\n",
       "      <td>222579809</td>\n",
       "      <td>Human Services</td>\n",
       "      <td>Funded solely by the footwear industry, Two Te...</td>\n",
       "      <td>Shoepeople Helping Shoepeople</td>\n",
       "      <td>90.26</td>\n",
       "      <td>MA</td>\n",
       "      <td>Human Services Funded solely by the footwear i...</td>\n",
       "    </tr>\n",
       "  </tbody>\n",
       "</table>\n",
       "</div>"
      ],
      "text/plain": [
       "                          name        ein                   category  \\\n",
       "0       1000 Friends of Oregon  930642086                Environment   \n",
       "1                         WYPR  311770828  Arts, Culture, Humanities   \n",
       "2  VSS Catholic Communications  911857425                   Religion   \n",
       "3        Utah Symphony & Opera  510145980  Arts, Culture, Humanities   \n",
       "4  Two Ten Footwear Foundation  222579809             Human Services   \n",
       "\n",
       "                                         description  \\\n",
       "0  Working with Oregonians to enhance our quality...   \n",
       "1  Serving the metropolitan Baltimore area and th...   \n",
       "2  VSS Catholic Communications is dedicated to an...   \n",
       "3  The mission of the Utah Symphony & Opera is to...   \n",
       "4  Funded solely by the footwear industry, Two Te...   \n",
       "\n",
       "                                              motto  score state  \\\n",
       "0  Great communities. Working lands. Iconic Places.  91.94    OR   \n",
       "1                  88.1 FM -. Your NPR News Station  85.59    MD   \n",
       "2                     Spirit Catholic Radio Network  76.80    NE   \n",
       "3          Engaging, educating, and enriching lives  91.95    UT   \n",
       "4                     Shoepeople Helping Shoepeople  90.26    MA   \n",
       "\n",
       "                                              corpus  \n",
       "0  Environment Working with Oregonians to enhance...  \n",
       "1  Arts, Culture, Humanities Serving the metropol...  \n",
       "2  Religion VSS Catholic Communications is dedica...  \n",
       "3  Arts, Culture, Humanities The mission of the U...  \n",
       "4  Human Services Funded solely by the footwear i...  "
      ]
     },
     "execution_count": 15,
     "metadata": {},
     "output_type": "execute_result"
    }
   ],
   "source": [
    "charity_navigator_df.head()"
   ]
  },
  {
   "cell_type": "markdown",
   "metadata": {},
   "source": [
    "## Category"
   ]
  },
  {
   "cell_type": "code",
   "execution_count": 61,
   "metadata": {
    "scrolled": true
   },
   "outputs": [
    {
     "data": {
      "text/plain": [
       "category\n",
       "Human Services               2379\n",
       "Arts, Culture, Humanities    1218\n",
       "Health                        847\n",
       "Community Development         803\n",
       "Education                     667\n",
       "International                 610\n",
       "Animals                       454\n",
       "Religion                      450\n",
       "Environment                   429\n",
       "Human and Civil Rights        346\n",
       "dtype: int64"
      ]
     },
     "execution_count": 61,
     "metadata": {},
     "output_type": "execute_result"
    }
   ],
   "source": [
    "charity_navigator_df.groupby('category').size().sort_values(ascending=False)[:10]"
   ]
  },
  {
   "cell_type": "code",
   "execution_count": 106,
   "metadata": {},
   "outputs": [
    {
     "data": {
      "image/png": "[encoded data removed]",
      "text/plain": [
       "<Figure size 2880x1440 with 1 Axes>"
      ]
     },
     "metadata": {
      "needs_background": "light"
     },
     "output_type": "display_data"
    }
   ],
   "source": [
    "## Add Bar Chart\n",
    "\n",
    "category_count = charity_navigator_df.groupby('category').size().sort_values(ascending=False)[:7]\n",
    "categories = list(category_count.index.values)\n",
    "freq = freq_array(category_count)\n",
    "\n",
    "fig,ax = plt.subplots(figsize = (40,20))\n",
    "ax.bar(categories,freq, color = \"b\");\n",
    "\n",
    "# Title\n",
    "ax.set_title(\"Frequency of Charity Categories\", weight = \"bold\", fontsize = 100, y=1.03);\n",
    "\n",
    "# X-axis\n",
    "categories_wrapped = wrap_axis_labels(categories, wrap_length=13)\n",
    "ax.set_xticklabels(labels=categories_wrapped,weight='bold',fontsize=55)\n",
    "ax.set_xlabel(\"Category\", fontsize=80, weight = \"bold\");\n",
    "\n",
    "# Y-axis\n",
    "y_tick_nums = np.arange(0,np.max(category_count)+400,400)\n",
    "ax.set_yticks(y_tick_nums)\n",
    "ax.set_yticklabels(labels=y_tick_nums,weight='bold',fontsize=55)\n",
    "ax.set_ylabel(\"Frequency\", fontsize=80, weight = \"bold\");\n",
    "\n",
    "plt.tight_layout()\n",
    "\n",
    "set_labels(category_count,ax,0.2,-200,c=\"white\",fsize=80);\n",
    "\n",
    "# plt.savefig('../IMG/CN_Categories.png')"
   ]
  },
  {
   "cell_type": "code",
   "execution_count": 111,
   "metadata": {},
   "outputs": [
    {
     "data": {
      "image/png": "[encoded data removed]",
      "text/plain": [
       "<Figure size 2160x1440 with 1 Axes>"
      ]
     },
     "metadata": {
      "needs_background": "light"
     },
     "output_type": "display_data"
    }
   ],
   "source": [
    "## Add Bar Chart\n",
    "\n",
    "category_count = charity_navigator_df.groupby('category').size().sort_values(ascending=False)[:9]\n",
    "categories = list(category_count.index.values)\n",
    "freq = freq_array(category_count)\n",
    "\n",
    "fig,ax = plt.subplots(figsize = (30,20))\n",
    "ax.barh(categories,freq, color = \"b\");\n",
    "\n",
    "\n",
    "# Title\n",
    "ax.set_title(\"Charity Category Breakdown\", weight = \"bold\", fontsize = 90, y=1.02);\n",
    "\n",
    "# # X-axis\n",
    "x_tick_nums = np.arange(0,np.max(category_count)+400,400)\n",
    "ax.set_xticks(x_tick_nums)\n",
    "ax.set_xticklabels(labels=x_tick_nums,weight='bold',fontsize=70)\n",
    "ax.set_xlabel(\"Frequency\", fontsize=70, weight = \"bold\");\n",
    "\n",
    "# # Y-axis\n",
    "categories_wrapped = wrap_axis_labels(categories, wrap_length=15)\n",
    "ax.set_yticklabels(labels=categories_wrapped,weight='bold',fontsize=55)\n",
    "ax.set_ylabel(\"Category\", fontsize=70, weight = \"bold\");\n",
    "\n",
    "set_labels_horizontal(category_count,ax,250,.23,c=\"white\",fsize=70);\n",
    "\n",
    "ax.invert_yaxis()  # labels read top-to-bottom\n",
    "\n",
    "plt.tight_layout()\n",
    "\n",
    "# plt.savefig('../IMG/CN_Categories.png')"
   ]
  },
  {
   "cell_type": "code",
   "execution_count": 66,
   "metadata": {},
   "outputs": [
    {
     "data": {
      "text/plain": [
       "category\n",
       "Human Services               30.28\n",
       "Arts, Culture, Humanities    15.50\n",
       "Health                       10.78\n",
       "Community Development        10.22\n",
       "Education                     8.49\n",
       "International                 7.76\n",
       "Animals                       5.78\n",
       "Religion                      5.73\n",
       "Environment                   5.46\n",
       "dtype: float64"
      ]
     },
     "execution_count": 66,
     "metadata": {},
     "output_type": "execute_result"
    }
   ],
   "source": [
    "round(category_count / category_count.sum() * 100,2)"
   ]
  },
  {
   "cell_type": "markdown",
   "metadata": {},
   "source": [
    "## Score"
   ]
  },
  {
   "cell_type": "code",
   "execution_count": 83,
   "metadata": {
    "scrolled": true
   },
   "outputs": [
    {
     "data": {
      "text/plain": [
       "0       91.94\n",
       "1       85.59\n",
       "2       76.80\n",
       "3       91.95\n",
       "4       90.26\n",
       "        ...  \n",
       "8403    79.36\n",
       "8404    59.84\n",
       "8405    88.07\n",
       "8406    96.91\n",
       "8407    92.29\n",
       "Name: score, Length: 8408, dtype: float64"
      ]
     },
     "execution_count": 83,
     "metadata": {},
     "output_type": "execute_result"
    }
   ],
   "source": [
    "charity_navigator_df['score']"
   ]
  },
  {
   "cell_type": "code",
   "execution_count": 112,
   "metadata": {},
   "outputs": [
    {
     "data": {
      "image/png": "[encoded data removed]",
      "text/plain": [
       "<Figure size 864x576 with 1 Axes>"
      ]
     },
     "metadata": {
      "needs_background": "light"
     },
     "output_type": "display_data"
    }
   ],
   "source": [
    "# Histogram of Charity Navigator Scores\n",
    "fig, ax = plt.subplots(figsize=(12,8))\n",
    "\n",
    "ax = sns.distplot(charity_navigator_df['score'],color = 'g',kde=False,hist=True,norm_hist=False)\n",
    "\n",
    "# Title\n",
    "ax.set_title(label=\"Charity Navigator Scores\",weight='bold',fontsize=35, y=1.01)\n",
    "\n",
    "# X-axis\n",
    "x_tick_nums = np.arange(0,101,10)\n",
    "ax.set_xticks(x_tick_nums)\n",
    "ax.set_xticklabels(labels=x_tick_nums,weight='bold',fontsize=25)\n",
    "ax.set_xlabel(xlabel=\"Charity Scores\",weight='bold',fontsize=30)\n",
    "ax.set_xlim([50, 100])\n",
    "\n",
    "# Y-axis\n",
    "y_tick_nums = np.arange(0,1101,250)\n",
    "ax.set_yticks(y_tick_nums)\n",
    "ax.set_yticklabels(labels=y_tick_nums,weight='bold',fontsize=25)\n",
    "ax.set_ylabel(ylabel=\"Frequency\",weight='bold',fontsize=30)\n",
    "\n",
    "plt.tight_layout()\n",
    "\n",
    "plt.savefig('../IMG/CharityNavScores.png')"
   ]
  },
  {
   "cell_type": "code",
   "execution_count": 19,
   "metadata": {},
   "outputs": [],
   "source": [
    "# Add Histogram"
   ]
  },
  {
   "cell_type": "markdown",
   "metadata": {},
   "source": []
  },
  {
   "cell_type": "markdown",
   "metadata": {},
   "source": [
    "## State"
   ]
  },
  {
   "cell_type": "code",
   "execution_count": 120,
   "metadata": {},
   "outputs": [
    {
     "data": {
      "text/plain": [
       "state\n",
       "CA    992\n",
       "NY    963\n",
       "TX    465\n",
       "DC    447\n",
       "FL    423\n",
       "MA    344\n",
       "VA    316\n",
       "IL    309\n",
       "PA    293\n",
       "OH    250\n",
       "CO    246\n",
       "WA    213\n",
       "MN    209\n",
       "GA    207\n",
       "MI    201\n",
       "NC    195\n",
       "TN    176\n",
       "MD    167\n",
       "NJ    166\n",
       "MO    156\n",
       "CT    130\n",
       "IN    129\n",
       "WI    129\n",
       "AZ    124\n",
       "OR    115\n",
       "OK     80\n",
       "SC     75\n",
       "KY     73\n",
       "AL     66\n",
       "NE     61\n",
       "LA     60\n",
       "KS     57\n",
       "UT     50\n",
       "ME     48\n",
       "IA     47\n",
       "MT     44\n",
       "MS     37\n",
       "NM     36\n",
       "NV     33\n",
       "NH     33\n",
       "AR     31\n",
       "RI     31\n",
       "VT     30\n",
       "HI     28\n",
       "SD     23\n",
       "DE     23\n",
       "ID     20\n",
       "AK     17\n",
       "WV     15\n",
       "WY     13\n",
       "ND      8\n",
       "PR      3\n",
       "VI      1\n",
       "dtype: int64"
      ]
     },
     "execution_count": 120,
     "metadata": {},
     "output_type": "execute_result"
    }
   ],
   "source": [
    "state_count = charity_navigator_df.groupby('state').size().sort_values(ascending=False)\n",
    "state_count"
   ]
  },
  {
   "cell_type": "code",
   "execution_count": 154,
   "metadata": {},
   "outputs": [
    {
     "data": {
      "application/vnd.plotly.v1+json": {
       "config": {
        "plotlyServerURL": "https://plot.ly"
       },
       "data": [
        {
         "autocolorscale": false,
         "colorscale": [
          [
           0,
           "rgb(247,251,255)"
          ],
          [
           0.125,
           "rgb(222,235,247)"
          ],
          [
           0.25,
           "rgb(198,219,239)"
          ],
          [
           0.375,
           "rgb(158,202,225)"
          ],
          [
           0.5,
           "rgb(107,174,214)"
          ],
          [
           0.625,
           "rgb(66,146,198)"
          ],
          [
           0.75,
           "rgb(33,113,181)"
          ],
          [
           0.875,
           "rgb(8,81,156)"
          ],
          [
           1,
           "rgb(8,48,107)"
          ]
         ],
         "locationmode": "USA-states",
         "locations": [
          "CA",
          "NY",
          "TX",
          "DC",
          "FL",
          "MA",
          "VA",
          "IL",
          "PA",
          "OH",
          "CO",
          "WA",
          "MN",
          "GA",
          "MI",
          "NC",
          "TN",
          "MD",
          "NJ",
          "MO",
          "CT",
          "IN",
          "WI",
          "AZ",
          "OR",
          "OK",
          "SC",
          "KY",
          "AL",
          "NE",
          "LA",
          "KS",
          "UT",
          "ME",
          "IA",
          "MT",
          "MS",
          "NM",
          "NV",
          "NH",
          "AR",
          "RI",
          "VT",
          "HI",
          "SD",
          "DE",
          "ID",
          "AK",
          "WV",
          "WY",
          "ND",
          "PR",
          "VI"
         ],
         "marker": {
          "line": {
           "color": "black"
          }
         },
         "type": "choropleth",
         "z": [
          992,
          963,
          465,
          447,
          423,
          344,
          316,
          309,
          293,
          250,
          246,
          213,
          209,
          207,
          201,
          195,
          176,
          167,
          166,
          156,
          130,
          129,
          129,
          124,
          115,
          80,
          75,
          73,
          66,
          61,
          60,
          57,
          50,
          48,
          47,
          44,
          37,
          36,
          33,
          33,
          31,
          31,
          30,
          28,
          23,
          23,
          20,
          17,
          15,
          13,
          8,
          3,
          1
         ],
         "zmax": 1001,
         "zmin": 0
        }
       ],
       "layout": {
        "geo": {
         "lakecolor": "rgb(255, 255, 255)",
         "projection": {
          "type": "albers usa"
         },
         "scope": "usa",
         "showlakes": true
        },
        "template": {
         "data": {
          "bar": [
           {
            "error_x": {
             "color": "#2a3f5f"
            },
            "error_y": {
             "color": "#2a3f5f"
            },
            "marker": {
             "line": {
              "color": "#E5ECF6",
              "width": 0.5
             }
            },
            "type": "bar"
           }
          ],
          "barpolar": [
           {
            "marker": {
             "line": {
              "color": "#E5ECF6",
              "width": 0.5
             }
            },
            "type": "barpolar"
           }
          ],
          "carpet": [
           {
            "aaxis": {
             "endlinecolor": "#2a3f5f",
             "gridcolor": "white",
             "linecolor": "white",
             "minorgridcolor": "white",
             "startlinecolor": "#2a3f5f"
            },
            "baxis": {
             "endlinecolor": "#2a3f5f",
             "gridcolor": "white",
             "linecolor": "white",
             "minorgridcolor": "white",
             "startlinecolor": "#2a3f5f"
            },
            "type": "carpet"
           }
          ],
          "choropleth": [
           {
            "colorbar": {
             "outlinewidth": 0,
             "ticks": ""
            },
            "type": "choropleth"
           }
          ],
          "contour": [
           {
            "colorbar": {
             "outlinewidth": 0,
             "ticks": ""
            },
            "colorscale": [
             [
              0,
              "#0d0887"
             ],
             [
              0.1111111111111111,
              "#46039f"
             ],
             [
              0.2222222222222222,
              "#7201a8"
             ],
             [
              0.3333333333333333,
              "#9c179e"
             ],
             [
              0.4444444444444444,
              "#bd3786"
             ],
             [
              0.5555555555555556,
              "#d8576b"
             ],
             [
              0.6666666666666666,
              "#ed7953"
             ],
             [
              0.7777777777777778,
              "#fb9f3a"
             ],
             [
              0.8888888888888888,
              "#fdca26"
             ],
             [
              1,
              "#f0f921"
             ]
            ],
            "type": "contour"
           }
          ],
          "contourcarpet": [
           {
            "colorbar": {
             "outlinewidth": 0,
             "ticks": ""
            },
            "type": "contourcarpet"
           }
          ],
          "heatmap": [
           {
            "colorbar": {
             "outlinewidth": 0,
             "ticks": ""
            },
            "colorscale": [
             [
              0,
              "#0d0887"
             ],
             [
              0.1111111111111111,
              "#46039f"
             ],
             [
              0.2222222222222222,
              "#7201a8"
             ],
             [
              0.3333333333333333,
              "#9c179e"
             ],
             [
              0.4444444444444444,
              "#bd3786"
             ],
             [
              0.5555555555555556,
              "#d8576b"
             ],
             [
              0.6666666666666666,
              "#ed7953"
             ],
             [
              0.7777777777777778,
              "#fb9f3a"
             ],
             [
              0.8888888888888888,
              "#fdca26"
             ],
             [
              1,
              "#f0f921"
             ]
            ],
            "type": "heatmap"
           }
          ],
          "heatmapgl": [
           {
            "colorbar": {
             "outlinewidth": 0,
             "ticks": ""
            },
            "colorscale": [
             [
              0,
              "#0d0887"
             ],
             [
              0.1111111111111111,
              "#46039f"
             ],
             [
              0.2222222222222222,
              "#7201a8"
             ],
             [
              0.3333333333333333,
              "#9c179e"
             ],
             [
              0.4444444444444444,
              "#bd3786"
             ],
             [
              0.5555555555555556,
              "#d8576b"
             ],
             [
              0.6666666666666666,
              "#ed7953"
             ],
             [
              0.7777777777777778,
              "#fb9f3a"
             ],
             [
              0.8888888888888888,
              "#fdca26"
             ],
             [
              1,
              "#f0f921"
             ]
            ],
            "type": "heatmapgl"
           }
          ],
          "histogram": [
           {
            "marker": {
             "colorbar": {
              "outlinewidth": 0,
              "ticks": ""
             }
            },
            "type": "histogram"
           }
          ],
          "histogram2d": [
           {
            "colorbar": {
             "outlinewidth": 0,
             "ticks": ""
            },
            "colorscale": [
             [
              0,
              "#0d0887"
             ],
             [
              0.1111111111111111,
              "#46039f"
             ],
             [
              0.2222222222222222,
              "#7201a8"
             ],
             [
              0.3333333333333333,
              "#9c179e"
             ],
             [
              0.4444444444444444,
              "#bd3786"
             ],
             [
              0.5555555555555556,
              "#d8576b"
             ],
             [
              0.6666666666666666,
              "#ed7953"
             ],
             [
              0.7777777777777778,
              "#fb9f3a"
             ],
             [
              0.8888888888888888,
              "#fdca26"
             ],
             [
              1,
              "#f0f921"
             ]
            ],
            "type": "histogram2d"
           }
          ],
          "histogram2dcontour": [
           {
            "colorbar": {
             "outlinewidth": 0,
             "ticks": ""
            },
            "colorscale": [
             [
              0,
              "#0d0887"
             ],
             [
              0.1111111111111111,
              "#46039f"
             ],
             [
              0.2222222222222222,
              "#7201a8"
             ],
             [
              0.3333333333333333,
              "#9c179e"
             ],
             [
              0.4444444444444444,
              "#bd3786"
             ],
             [
              0.5555555555555556,
              "#d8576b"
             ],
             [
              0.6666666666666666,
              "#ed7953"
             ],
             [
              0.7777777777777778,
              "#fb9f3a"
             ],
             [
              0.8888888888888888,
              "#fdca26"
             ],
             [
              1,
              "#f0f921"
             ]
            ],
            "type": "histogram2dcontour"
           }
          ],
          "mesh3d": [
           {
            "colorbar": {
             "outlinewidth": 0,
             "ticks": ""
            },
            "type": "mesh3d"
           }
          ],
          "parcoords": [
           {
            "line": {
             "colorbar": {
              "outlinewidth": 0,
              "ticks": ""
             }
            },
            "type": "parcoords"
           }
          ],
          "pie": [
           {
            "automargin": true,
            "type": "pie"
           }
          ],
          "scatter": [
           {
            "marker": {
             "colorbar": {
              "outlinewidth": 0,
              "ticks": ""
             }
            },
            "type": "scatter"
           }
          ],
          "scatter3d": [
           {
            "line": {
             "colorbar": {
              "outlinewidth": 0,
              "ticks": ""
             }
            },
            "marker": {
             "colorbar": {
              "outlinewidth": 0,
              "ticks": ""
             }
            },
            "type": "scatter3d"
           }
          ],
          "scattercarpet": [
           {
            "marker": {
             "colorbar": {
              "outlinewidth": 0,
              "ticks": ""
             }
            },
            "type": "scattercarpet"
           }
          ],
          "scattergeo": [
           {
            "marker": {
             "colorbar": {
              "outlinewidth": 0,
              "ticks": ""
             }
            },
            "type": "scattergeo"
           }
          ],
          "scattergl": [
           {
            "marker": {
             "colorbar": {
              "outlinewidth": 0,
              "ticks": ""
             }
            },
            "type": "scattergl"
           }
          ],
          "scattermapbox": [
           {
            "marker": {
             "colorbar": {
              "outlinewidth": 0,
              "ticks": ""
             }
            },
            "type": "scattermapbox"
           }
          ],
          "scatterpolar": [
           {
            "marker": {
             "colorbar": {
              "outlinewidth": 0,
              "ticks": ""
             }
            },
            "type": "scatterpolar"
           }
          ],
          "scatterpolargl": [
           {
            "marker": {
             "colorbar": {
              "outlinewidth": 0,
              "ticks": ""
             }
            },
            "type": "scatterpolargl"
           }
          ],
          "scatterternary": [
           {
            "marker": {
             "colorbar": {
              "outlinewidth": 0,
              "ticks": ""
             }
            },
            "type": "scatterternary"
           }
          ],
          "surface": [
           {
            "colorbar": {
             "outlinewidth": 0,
             "ticks": ""
            },
            "colorscale": [
             [
              0,
              "#0d0887"
             ],
             [
              0.1111111111111111,
              "#46039f"
             ],
             [
              0.2222222222222222,
              "#7201a8"
             ],
             [
              0.3333333333333333,
              "#9c179e"
             ],
             [
              0.4444444444444444,
              "#bd3786"
             ],
             [
              0.5555555555555556,
              "#d8576b"
             ],
             [
              0.6666666666666666,
              "#ed7953"
             ],
             [
              0.7777777777777778,
              "#fb9f3a"
             ],
             [
              0.8888888888888888,
              "#fdca26"
             ],
             [
              1,
              "#f0f921"
             ]
            ],
            "type": "surface"
           }
          ],
          "table": [
           {
            "cells": {
             "fill": {
              "color": "#EBF0F8"
             },
             "line": {
              "color": "white"
             }
            },
            "header": {
             "fill": {
              "color": "#C8D4E3"
             },
             "line": {
              "color": "white"
             }
            },
            "type": "table"
           }
          ]
         },
         "layout": {
          "annotationdefaults": {
           "arrowcolor": "#2a3f5f",
           "arrowhead": 0,
           "arrowwidth": 1
          },
          "coloraxis": {
           "colorbar": {
            "outlinewidth": 0,
            "ticks": ""
           }
          },
          "colorscale": {
           "diverging": [
            [
             0,
             "#8e0152"
            ],
            [
             0.1,
             "#c51b7d"
            ],
            [
             0.2,
             "#de77ae"
            ],
            [
             0.3,
             "#f1b6da"
            ],
            [
             0.4,
             "#fde0ef"
            ],
            [
             0.5,
             "#f7f7f7"
            ],
            [
             0.6,
             "#e6f5d0"
            ],
            [
             0.7,
             "#b8e186"
            ],
            [
             0.8,
             "#7fbc41"
            ],
            [
             0.9,
             "#4d9221"
            ],
            [
             1,
             "#276419"
            ]
           ],
           "sequential": [
            [
             0,
             "#0d0887"
            ],
            [
             0.1111111111111111,
             "#46039f"
            ],
            [
             0.2222222222222222,
             "#7201a8"
            ],
            [
             0.3333333333333333,
             "#9c179e"
            ],
            [
             0.4444444444444444,
             "#bd3786"
            ],
            [
             0.5555555555555556,
             "#d8576b"
            ],
            [
             0.6666666666666666,
             "#ed7953"
            ],
            [
             0.7777777777777778,
             "#fb9f3a"
            ],
            [
             0.8888888888888888,
             "#fdca26"
            ],
            [
             1,
             "#f0f921"
            ]
           ],
           "sequentialminus": [
            [
             0,
             "#0d0887"
            ],
            [
             0.1111111111111111,
             "#46039f"
            ],
            [
             0.2222222222222222,
             "#7201a8"
            ],
            [
             0.3333333333333333,
             "#9c179e"
            ],
            [
             0.4444444444444444,
             "#bd3786"
            ],
            [
             0.5555555555555556,
             "#d8576b"
            ],
            [
             0.6666666666666666,
             "#ed7953"
            ],
            [
             0.7777777777777778,
             "#fb9f3a"
            ],
            [
             0.8888888888888888,
             "#fdca26"
            ],
            [
             1,
             "#f0f921"
            ]
           ]
          },
          "colorway": [
           "#636efa",
           "#EF553B",
           "#00cc96",
           "#ab63fa",
           "#FFA15A",
           "#19d3f3",
           "#FF6692",
           "#B6E880",
           "#FF97FF",
           "#FECB52"
          ],
          "font": {
           "color": "#2a3f5f"
          },
          "geo": {
           "bgcolor": "white",
           "lakecolor": "white",
           "landcolor": "#E5ECF6",
           "showlakes": true,
           "showland": true,
           "subunitcolor": "white"
          },
          "hoverlabel": {
           "align": "left"
          },
          "hovermode": "closest",
          "mapbox": {
           "style": "light"
          },
          "paper_bgcolor": "white",
          "plot_bgcolor": "#E5ECF6",
          "polar": {
           "angularaxis": {
            "gridcolor": "white",
            "linecolor": "white",
            "ticks": ""
           },
           "bgcolor": "#E5ECF6",
           "radialaxis": {
            "gridcolor": "white",
            "linecolor": "white",
            "ticks": ""
           }
          },
          "scene": {
           "xaxis": {
            "backgroundcolor": "#E5ECF6",
            "gridcolor": "white",
            "gridwidth": 2,
            "linecolor": "white",
            "showbackground": true,
            "ticks": "",
            "zerolinecolor": "white"
           },
           "yaxis": {
            "backgroundcolor": "#E5ECF6",
            "gridcolor": "white",
            "gridwidth": 2,
            "linecolor": "white",
            "showbackground": true,
            "ticks": "",
            "zerolinecolor": "white"
           },
           "zaxis": {
            "backgroundcolor": "#E5ECF6",
            "gridcolor": "white",
            "gridwidth": 2,
            "linecolor": "white",
            "showbackground": true,
            "ticks": "",
            "zerolinecolor": "white"
           }
          },
          "shapedefaults": {
           "line": {
            "color": "#2a3f5f"
           }
          },
          "ternary": {
           "aaxis": {
            "gridcolor": "white",
            "linecolor": "white",
            "ticks": ""
           },
           "baxis": {
            "gridcolor": "white",
            "linecolor": "white",
            "ticks": ""
           },
           "bgcolor": "#E5ECF6",
           "caxis": {
            "gridcolor": "white",
            "linecolor": "white",
            "ticks": ""
           }
          },
          "title": {
           "x": 0.05
          },
          "xaxis": {
           "automargin": true,
           "gridcolor": "white",
           "linecolor": "white",
           "ticks": "",
           "title": {
            "standoff": 15
           },
           "zerolinecolor": "white",
           "zerolinewidth": 2
          },
          "yaxis": {
           "automargin": true,
           "gridcolor": "white",
           "linecolor": "white",
           "ticks": "",
           "title": {
            "standoff": 15
           },
           "zerolinecolor": "white",
           "zerolinewidth": 2
          }
         }
        },
        "title": {
         "text": "Charity Counts by State"
        }
       }
      },
      "text/html": [
       "<div>\n",
       "        \n",
       "        \n",
       "            <div id=\"9789d55a-8da0-4484-a807-985341640946\" class=\"plotly-graph-div\" style=\"height:525px; width:100%;\"></div>\n",
       "            <script type=\"text/javascript\">\n",
       "                require([\"plotly\"], function(Plotly) {\n",
       "                    window.PLOTLYENV=window.PLOTLYENV || {};\n",
       "                    \n",
       "                if (document.getElementById(\"9789d55a-8da0-4484-a807-985341640946\")) {\n",
       "                    Plotly.newPlot(\n",
       "                        '9789d55a-8da0-4484-a807-985341640946',\n",
       "                        [{\"autocolorscale\": false, \"colorscale\": [[0.0, \"rgb(247,251,255)\"], [0.125, \"rgb(222,235,247)\"], [0.25, \"rgb(198,219,239)\"], [0.375, \"rgb(158,202,225)\"], [0.5, \"rgb(107,174,214)\"], [0.625, \"rgb(66,146,198)\"], [0.75, \"rgb(33,113,181)\"], [0.875, \"rgb(8,81,156)\"], [1.0, \"rgb(8,48,107)\"]], \"locationmode\": \"USA-states\", \"locations\": [\"CA\", \"NY\", \"TX\", \"DC\", \"FL\", \"MA\", \"VA\", \"IL\", \"PA\", \"OH\", \"CO\", \"WA\", \"MN\", \"GA\", \"MI\", \"NC\", \"TN\", \"MD\", \"NJ\", \"MO\", \"CT\", \"IN\", \"WI\", \"AZ\", \"OR\", \"OK\", \"SC\", \"KY\", \"AL\", \"NE\", \"LA\", \"KS\", \"UT\", \"ME\", \"IA\", \"MT\", \"MS\", \"NM\", \"NV\", \"NH\", \"AR\", \"RI\", \"VT\", \"HI\", \"SD\", \"DE\", \"ID\", \"AK\", \"WV\", \"WY\", \"ND\", \"PR\", \"VI\"], \"marker\": {\"line\": {\"color\": \"black\"}}, \"type\": \"choropleth\", \"z\": [992, 963, 465, 447, 423, 344, 316, 309, 293, 250, 246, 213, 209, 207, 201, 195, 176, 167, 166, 156, 130, 129, 129, 124, 115, 80, 75, 73, 66, 61, 60, 57, 50, 48, 47, 44, 37, 36, 33, 33, 31, 31, 30, 28, 23, 23, 20, 17, 15, 13, 8, 3, 1], \"zmax\": 1001, \"zmin\": 0}],\n",
       "                        {\"geo\": {\"lakecolor\": \"rgb(255, 255, 255)\", \"projection\": {\"type\": \"albers usa\"}, \"scope\": \"usa\", \"showlakes\": true}, \"template\": {\"data\": {\"bar\": [{\"error_x\": {\"color\": \"#2a3f5f\"}, \"error_y\": {\"color\": \"#2a3f5f\"}, \"marker\": {\"line\": {\"color\": \"#E5ECF6\", \"width\": 0.5}}, \"type\": \"bar\"}], \"barpolar\": [{\"marker\": {\"line\": {\"color\": \"#E5ECF6\", \"width\": 0.5}}, \"type\": \"barpolar\"}], \"carpet\": [{\"aaxis\": {\"endlinecolor\": \"#2a3f5f\", \"gridcolor\": \"white\", \"linecolor\": \"white\", \"minorgridcolor\": \"white\", \"startlinecolor\": \"#2a3f5f\"}, \"baxis\": {\"endlinecolor\": \"#2a3f5f\", \"gridcolor\": \"white\", \"linecolor\": \"white\", \"minorgridcolor\": \"white\", \"startlinecolor\": \"#2a3f5f\"}, \"type\": \"carpet\"}], \"choropleth\": [{\"colorbar\": {\"outlinewidth\": 0, \"ticks\": \"\"}, \"type\": \"choropleth\"}], \"contour\": [{\"colorbar\": {\"outlinewidth\": 0, \"ticks\": \"\"}, \"colorscale\": [[0.0, \"#0d0887\"], [0.1111111111111111, \"#46039f\"], [0.2222222222222222, \"#7201a8\"], [0.3333333333333333, \"#9c179e\"], [0.4444444444444444, \"#bd3786\"], [0.5555555555555556, \"#d8576b\"], [0.6666666666666666, \"#ed7953\"], [0.7777777777777778, \"#fb9f3a\"], [0.8888888888888888, \"#fdca26\"], [1.0, \"#f0f921\"]], \"type\": \"contour\"}], \"contourcarpet\": [{\"colorbar\": {\"outlinewidth\": 0, \"ticks\": \"\"}, \"type\": \"contourcarpet\"}], \"heatmap\": [{\"colorbar\": {\"outlinewidth\": 0, \"ticks\": \"\"}, \"colorscale\": [[0.0, \"#0d0887\"], [0.1111111111111111, \"#46039f\"], [0.2222222222222222, \"#7201a8\"], [0.3333333333333333, \"#9c179e\"], [0.4444444444444444, \"#bd3786\"], [0.5555555555555556, \"#d8576b\"], [0.6666666666666666, \"#ed7953\"], [0.7777777777777778, \"#fb9f3a\"], [0.8888888888888888, \"#fdca26\"], [1.0, \"#f0f921\"]], \"type\": \"heatmap\"}], \"heatmapgl\": [{\"colorbar\": {\"outlinewidth\": 0, \"ticks\": \"\"}, \"colorscale\": [[0.0, \"#0d0887\"], [0.1111111111111111, \"#46039f\"], [0.2222222222222222, \"#7201a8\"], [0.3333333333333333, \"#9c179e\"], [0.4444444444444444, \"#bd3786\"], [0.5555555555555556, \"#d8576b\"], [0.6666666666666666, \"#ed7953\"], [0.7777777777777778, \"#fb9f3a\"], [0.8888888888888888, \"#fdca26\"], [1.0, \"#f0f921\"]], \"type\": \"heatmapgl\"}], \"histogram\": [{\"marker\": {\"colorbar\": {\"outlinewidth\": 0, \"ticks\": \"\"}}, \"type\": \"histogram\"}], \"histogram2d\": [{\"colorbar\": {\"outlinewidth\": 0, \"ticks\": \"\"}, \"colorscale\": [[0.0, \"#0d0887\"], [0.1111111111111111, \"#46039f\"], [0.2222222222222222, \"#7201a8\"], [0.3333333333333333, \"#9c179e\"], [0.4444444444444444, \"#bd3786\"], [0.5555555555555556, \"#d8576b\"], [0.6666666666666666, \"#ed7953\"], [0.7777777777777778, \"#fb9f3a\"], [0.8888888888888888, \"#fdca26\"], [1.0, \"#f0f921\"]], \"type\": \"histogram2d\"}], \"histogram2dcontour\": [{\"colorbar\": {\"outlinewidth\": 0, \"ticks\": \"\"}, \"colorscale\": [[0.0, \"#0d0887\"], [0.1111111111111111, \"#46039f\"], [0.2222222222222222, \"#7201a8\"], [0.3333333333333333, \"#9c179e\"], [0.4444444444444444, \"#bd3786\"], [0.5555555555555556, \"#d8576b\"], [0.6666666666666666, \"#ed7953\"], [0.7777777777777778, \"#fb9f3a\"], [0.8888888888888888, \"#fdca26\"], [1.0, \"#f0f921\"]], \"type\": \"histogram2dcontour\"}], \"mesh3d\": [{\"colorbar\": {\"outlinewidth\": 0, \"ticks\": \"\"}, \"type\": \"mesh3d\"}], \"parcoords\": [{\"line\": {\"colorbar\": {\"outlinewidth\": 0, \"ticks\": \"\"}}, \"type\": \"parcoords\"}], \"pie\": [{\"automargin\": true, \"type\": \"pie\"}], \"scatter\": [{\"marker\": {\"colorbar\": {\"outlinewidth\": 0, \"ticks\": \"\"}}, \"type\": \"scatter\"}], \"scatter3d\": [{\"line\": {\"colorbar\": {\"outlinewidth\": 0, \"ticks\": \"\"}}, \"marker\": {\"colorbar\": {\"outlinewidth\": 0, \"ticks\": \"\"}}, \"type\": \"scatter3d\"}], \"scattercarpet\": [{\"marker\": {\"colorbar\": {\"outlinewidth\": 0, \"ticks\": \"\"}}, \"type\": \"scattercarpet\"}], \"scattergeo\": [{\"marker\": {\"colorbar\": {\"outlinewidth\": 0, \"ticks\": \"\"}}, \"type\": \"scattergeo\"}], \"scattergl\": [{\"marker\": {\"colorbar\": {\"outlinewidth\": 0, \"ticks\": \"\"}}, \"type\": \"scattergl\"}], \"scattermapbox\": [{\"marker\": {\"colorbar\": {\"outlinewidth\": 0, \"ticks\": \"\"}}, \"type\": \"scattermapbox\"}], \"scatterpolar\": [{\"marker\": {\"colorbar\": {\"outlinewidth\": 0, \"ticks\": \"\"}}, \"type\": \"scatterpolar\"}], \"scatterpolargl\": [{\"marker\": {\"colorbar\": {\"outlinewidth\": 0, \"ticks\": \"\"}}, \"type\": \"scatterpolargl\"}], \"scatterternary\": [{\"marker\": {\"colorbar\": {\"outlinewidth\": 0, \"ticks\": \"\"}}, \"type\": \"scatterternary\"}], \"surface\": [{\"colorbar\": {\"outlinewidth\": 0, \"ticks\": \"\"}, \"colorscale\": [[0.0, \"#0d0887\"], [0.1111111111111111, \"#46039f\"], [0.2222222222222222, \"#7201a8\"], [0.3333333333333333, \"#9c179e\"], [0.4444444444444444, \"#bd3786\"], [0.5555555555555556, \"#d8576b\"], [0.6666666666666666, \"#ed7953\"], [0.7777777777777778, \"#fb9f3a\"], [0.8888888888888888, \"#fdca26\"], [1.0, \"#f0f921\"]], \"type\": \"surface\"}], \"table\": [{\"cells\": {\"fill\": {\"color\": \"#EBF0F8\"}, \"line\": {\"color\": \"white\"}}, \"header\": {\"fill\": {\"color\": \"#C8D4E3\"}, \"line\": {\"color\": \"white\"}}, \"type\": \"table\"}]}, \"layout\": {\"annotationdefaults\": {\"arrowcolor\": \"#2a3f5f\", \"arrowhead\": 0, \"arrowwidth\": 1}, \"coloraxis\": {\"colorbar\": {\"outlinewidth\": 0, \"ticks\": \"\"}}, \"colorscale\": {\"diverging\": [[0, \"#8e0152\"], [0.1, \"#c51b7d\"], [0.2, \"#de77ae\"], [0.3, \"#f1b6da\"], [0.4, \"#fde0ef\"], [0.5, \"#f7f7f7\"], [0.6, \"#e6f5d0\"], [0.7, \"#b8e186\"], [0.8, \"#7fbc41\"], [0.9, \"#4d9221\"], [1, \"#276419\"]], \"sequential\": [[0.0, \"#0d0887\"], [0.1111111111111111, \"#46039f\"], [0.2222222222222222, \"#7201a8\"], [0.3333333333333333, \"#9c179e\"], [0.4444444444444444, \"#bd3786\"], [0.5555555555555556, \"#d8576b\"], [0.6666666666666666, \"#ed7953\"], [0.7777777777777778, \"#fb9f3a\"], [0.8888888888888888, \"#fdca26\"], [1.0, \"#f0f921\"]], \"sequentialminus\": [[0.0, \"#0d0887\"], [0.1111111111111111, \"#46039f\"], [0.2222222222222222, \"#7201a8\"], [0.3333333333333333, \"#9c179e\"], [0.4444444444444444, \"#bd3786\"], [0.5555555555555556, \"#d8576b\"], [0.6666666666666666, \"#ed7953\"], [0.7777777777777778, \"#fb9f3a\"], [0.8888888888888888, \"#fdca26\"], [1.0, \"#f0f921\"]]}, \"colorway\": [\"#636efa\", \"#EF553B\", \"#00cc96\", \"#ab63fa\", \"#FFA15A\", \"#19d3f3\", \"#FF6692\", \"#B6E880\", \"#FF97FF\", \"#FECB52\"], \"font\": {\"color\": \"#2a3f5f\"}, \"geo\": {\"bgcolor\": \"white\", \"lakecolor\": \"white\", \"landcolor\": \"#E5ECF6\", \"showlakes\": true, \"showland\": true, \"subunitcolor\": \"white\"}, \"hoverlabel\": {\"align\": \"left\"}, \"hovermode\": \"closest\", \"mapbox\": {\"style\": \"light\"}, \"paper_bgcolor\": \"white\", \"plot_bgcolor\": \"#E5ECF6\", \"polar\": {\"angularaxis\": {\"gridcolor\": \"white\", \"linecolor\": \"white\", \"ticks\": \"\"}, \"bgcolor\": \"#E5ECF6\", \"radialaxis\": {\"gridcolor\": \"white\", \"linecolor\": \"white\", \"ticks\": \"\"}}, \"scene\": {\"xaxis\": {\"backgroundcolor\": \"#E5ECF6\", \"gridcolor\": \"white\", \"gridwidth\": 2, \"linecolor\": \"white\", \"showbackground\": true, \"ticks\": \"\", \"zerolinecolor\": \"white\"}, \"yaxis\": {\"backgroundcolor\": \"#E5ECF6\", \"gridcolor\": \"white\", \"gridwidth\": 2, \"linecolor\": \"white\", \"showbackground\": true, \"ticks\": \"\", \"zerolinecolor\": \"white\"}, \"zaxis\": {\"backgroundcolor\": \"#E5ECF6\", \"gridcolor\": \"white\", \"gridwidth\": 2, \"linecolor\": \"white\", \"showbackground\": true, \"ticks\": \"\", \"zerolinecolor\": \"white\"}}, \"shapedefaults\": {\"line\": {\"color\": \"#2a3f5f\"}}, \"ternary\": {\"aaxis\": {\"gridcolor\": \"white\", \"linecolor\": \"white\", \"ticks\": \"\"}, \"baxis\": {\"gridcolor\": \"white\", \"linecolor\": \"white\", \"ticks\": \"\"}, \"bgcolor\": \"#E5ECF6\", \"caxis\": {\"gridcolor\": \"white\", \"linecolor\": \"white\", \"ticks\": \"\"}}, \"title\": {\"x\": 0.05}, \"xaxis\": {\"automargin\": true, \"gridcolor\": \"white\", \"linecolor\": \"white\", \"ticks\": \"\", \"title\": {\"standoff\": 15}, \"zerolinecolor\": \"white\", \"zerolinewidth\": 2}, \"yaxis\": {\"automargin\": true, \"gridcolor\": \"white\", \"linecolor\": \"white\", \"ticks\": \"\", \"title\": {\"standoff\": 15}, \"zerolinecolor\": \"white\", \"zerolinewidth\": 2}}}, \"title\": {\"text\": \"Charity Counts by State\"}},\n",
       "                        {\"responsive\": true}\n",
       "                    ).then(function(){\n",
       "                            \n",
       "var gd = document.getElementById('9789d55a-8da0-4484-a807-985341640946');\n",
       "var x = new MutationObserver(function (mutations, observer) {{\n",
       "        var display = window.getComputedStyle(gd).display;\n",
       "        if (!display || display === 'none') {{\n",
       "            console.log([gd, 'removed!']);\n",
       "            Plotly.purge(gd);\n",
       "            observer.disconnect();\n",
       "        }}\n",
       "}});\n",
       "\n",
       "// Listen for the removal of the full notebook cells\n",
       "var notebookContainer = gd.closest('#notebook-container');\n",
       "if (notebookContainer) {{\n",
       "    x.observe(notebookContainer, {childList: true});\n",
       "}}\n",
       "\n",
       "// Listen for the clearing of the current output cell\n",
       "var outputEl = gd.closest('.output');\n",
       "if (outputEl) {{\n",
       "    x.observe(outputEl, {childList: true});\n",
       "}}\n",
       "\n",
       "                        })\n",
       "                };\n",
       "                });\n",
       "            </script>\n",
       "        </div>"
      ]
     },
     "metadata": {},
     "output_type": "display_data"
    }
   ],
   "source": [
    "# import folium\n",
    "import plotly.graph_objects as go\n",
    "## Add Choropleth Map\n",
    "\n",
    "state_count = charity_navigator_df.groupby('state').size().sort_values(ascending=False)\n",
    "ColorScale = 'blues'\n",
    "\n",
    "fig = go.Figure(data=go.Choropleth(\n",
    "    locations = state_count.index,\n",
    "    z=state_count,\n",
    "    zmax=1001,\n",
    "    zmin=0,\n",
    "    locationmode='USA-states',\n",
    "    colorscale=ColorScale,\n",
    "    autocolorscale=False,\n",
    "    marker_line_color='black', # line markers between states\n",
    "#     colorbar_title=\"Charity Counts\"\n",
    "))\n",
    "\n",
    "fig.update_layout(\n",
    "    title_text='Charity Counts by State',\n",
    "    geo = dict(\n",
    "        scope='usa',\n",
    "        projection=go.layout.geo.Projection(type = 'albers usa'),\n",
    "        showlakes=True, # lakes\n",
    "        lakecolor='rgb(255, 255, 255)'),\n",
    ")\n",
    "\n",
    "fig.show()"
   ]
  },
  {
   "cell_type": "code",
   "execution_count": null,
   "metadata": {},
   "outputs": [],
   "source": []
  },
  {
   "cell_type": "markdown",
   "metadata": {},
   "source": [
    "## Character Lengths"
   ]
  },
  {
   "cell_type": "code",
   "execution_count": 22,
   "metadata": {},
   "outputs": [
    {
     "data": {
      "text/plain": [
       "690.0"
      ]
     },
     "execution_count": 22,
     "metadata": {},
     "output_type": "execute_result"
    }
   ],
   "source": [
    "char_corp_lengths = []\n",
    "for i in charity_navigator_df['corpus']:\n",
    "    char_corp_lengths.append(len(i))\n",
    "char_corp_lengths = np.array(char_corp_lengths)\n",
    "np.median(char_corp_lengths)"
   ]
  },
  {
   "cell_type": "code",
   "execution_count": 116,
   "metadata": {},
   "outputs": [
    {
     "data": {
      "image/png": "[encoded data removed]",
      "text/plain": [
       "<Figure size 864x576 with 1 Axes>"
      ]
     },
     "metadata": {
      "needs_background": "light"
     },
     "output_type": "display_data"
    }
   ],
   "source": [
    "# Histogram of Charity Document Charity Lengths\n",
    "fig, ax = plt.subplots(figsize=(12,8))\n",
    "\n",
    "ax = sns.distplot(char_corp_lengths,color = 'b',kde=False,hist=True,norm_hist=False)\n",
    "\n",
    "# Title\n",
    "ax.set_title(label=\"Charity Description Character Lengths\",weight='bold',fontsize=35, y=1.01)\n",
    "\n",
    "# X-axis\n",
    "x_tick_nums = np.arange(0,1601,200)\n",
    "ax.set_xticks(x_tick_nums)\n",
    "ax.set_xticklabels(labels=x_tick_nums,weight='bold',fontsize=25)\n",
    "ax.set_xlabel(xlabel=\"Character Lengths\",weight='bold',fontsize=30)\n",
    "ax.set_xlim([0,1400])\n",
    "\n",
    "# Y-axis\n",
    "y_tick_nums = np.arange(0,701,100)\n",
    "ax.set_yticks(y_tick_nums)\n",
    "ax.set_yticklabels(labels=y_tick_nums,weight='bold',fontsize=25)\n",
    "ax.set_ylabel(ylabel=\"Frequency\",weight='bold',fontsize=30)\n",
    "\n",
    "plt.tight_layout()\n",
    "\n",
    "plt.savefig('../IMG/CharityDescCharacterLengths.png')"
   ]
  },
  {
   "cell_type": "code",
   "execution_count": 30,
   "metadata": {},
   "outputs": [],
   "source": [
    "# There are 11 Categories Total\n",
    "## A \"Random Guess\" Baseline is 1/11 = 9.09%"
   ]
  },
  {
   "cell_type": "code",
   "execution_count": null,
   "metadata": {},
   "outputs": [],
   "source": []
  },
  {
   "cell_type": "markdown",
   "metadata": {},
   "source": [
    "## Modeling"
   ]
  },
  {
   "cell_type": "markdown",
   "metadata": {},
   "source": [
    "## Evaluating Model on Same Category Accuracy"
   ]
  },
  {
   "cell_type": "code",
   "execution_count": 31,
   "metadata": {},
   "outputs": [],
   "source": [
    "# find_similar_charities_category_score(charity_navigator_df,charity_navigator_df,\"description\")"
   ]
  },
  {
   "cell_type": "code",
   "execution_count": 32,
   "metadata": {},
   "outputs": [],
   "source": [
    "# find_similar_charities_category_score(charity_navigator_df,charity_navigator_df,\"corpus\")"
   ]
  },
  {
   "cell_type": "code",
   "execution_count": 33,
   "metadata": {},
   "outputs": [],
   "source": [
    "# find_similar_charities_category_score(charity_navigator_df,charity_navigator_df,\"motto\")"
   ]
  },
  {
   "cell_type": "code",
   "execution_count": 34,
   "metadata": {
    "scrolled": true
   },
   "outputs": [],
   "source": [
    "# find_similar_charities_category_score(charity_navigator_df,charity_navigator_df,\"category\")"
   ]
  },
  {
   "cell_type": "code",
   "execution_count": null,
   "metadata": {},
   "outputs": [],
   "source": []
  },
  {
   "cell_type": "markdown",
   "metadata": {},
   "source": [
    "## Evaluating Model on Similarity Score Accuracy"
   ]
  },
  {
   "cell_type": "code",
   "execution_count": 35,
   "metadata": {
    "scrolled": false
   },
   "outputs": [],
   "source": [
    "# find_similar_charities_similar_score(charity_navigator_df,charity_navigator_df,\"description\")"
   ]
  },
  {
   "cell_type": "code",
   "execution_count": 36,
   "metadata": {
    "scrolled": true
   },
   "outputs": [],
   "source": [
    "# find_similar_charities_similar_score(charity_navigator_df,charity_navigator_df,\"corpus\")"
   ]
  },
  {
   "cell_type": "code",
   "execution_count": 37,
   "metadata": {
    "scrolled": true
   },
   "outputs": [],
   "source": [
    "# # Word Needs to Be in at least 4 documents:\n",
    "# find_similar_charities_similar_score(charity_navigator_df,charity_navigator_df,\"corpus\")"
   ]
  },
  {
   "cell_type": "code",
   "execution_count": 38,
   "metadata": {
    "scrolled": true
   },
   "outputs": [],
   "source": [
    "# find_similar_charities_similar_score(charity_navigator_df,charity_navigator_df,\"motto\")"
   ]
  },
  {
   "cell_type": "code",
   "execution_count": null,
   "metadata": {},
   "outputs": [],
   "source": []
  },
  {
   "cell_type": "markdown",
   "metadata": {},
   "source": [
    "# LDA Topic Modeling"
   ]
  },
  {
   "cell_type": "code",
   "execution_count": 39,
   "metadata": {},
   "outputs": [
    {
     "name": "stdout",
     "output_type": "stream",
     "text": [
      "1. Processing Training Corpus\n"
     ]
    }
   ],
   "source": [
    "print(\"1. Processing Training Corpus\")\n",
    "    \n",
    "char_desc_trimmed = np.array(charity_navigator_df['corpus'])\n",
    "\n",
    "corpus = char_desc_trimmed\n",
    "processed_corpus = process_corpus(corpus)\n",
    "\n",
    "dictionary = corpora.Dictionary(processed_corpus)\n",
    "features = (len(dictionary))\n",
    "\n",
    "# Convert documents into Bag of Words (BoW) format\n",
    "bow_corpus = [dictionary.doc2bow(text) for text in processed_corpus]\n",
    "\n",
    "# print(\"2. Creating Model from Training Corpus\")\n",
    "# index, dictionary, tfidf = create_index_from_corpus(processed_corpus)"
   ]
  },
  {
   "cell_type": "code",
   "execution_count": 40,
   "metadata": {
    "scrolled": false
   },
   "outputs": [
    {
     "name": "stdout",
     "output_type": "stream",
     "text": [
      "Topic: 0 \n",
      "Words: 0.011*\"habitat\" + 0.009*\"build\" + 0.009*\"building\" + 0.008*\"women\" + 0.008*\"county\" + 0.007*\"humanity\" + 0.007*\"affordable\" + 0.006*\"homes\" + 0.005*\"house\" + 0.004*\"service\"\n",
      "Topic: 1 \n",
      "Words: 0.013*\"strong\" + 0.010*\"homeless\" + 0.007*\"build\" + 0.006*\"healthy\" + 0.006*\"medical\" + 0.006*\"ymca\" + 0.004*\"home\" + 0.004*\"animal\" + 0.004*\"county\" + 0.004*\"child\"\n",
      "Topic: 2 \n",
      "Words: 0.016*\"build\" + 0.012*\"habitat\" + 0.011*\"healthy\" + 0.011*\"ymca\" + 0.008*\"together\" + 0.007*\"christian\" + 0.007*\"humanity\" + 0.007*\"homes\" + 0.007*\"strong\" + 0.007*\"home\"\n",
      "Topic: 3 \n",
      "Words: 0.007*\"habitat\" + 0.005*\"county\" + 0.005*\"american\" + 0.005*\"building\" + 0.005*\"serve\" + 0.004*\"greater\" + 0.004*\"humanity\" + 0.004*\"science\" + 0.004*\"rights\" + 0.004*\"girls\"\n",
      "Topic: 4 \n",
      "Words: 0.006*\"free\" + 0.005*\"museum\" + 0.004*\"helping\" + 0.004*\"around\" + 0.004*\"vision\" + 0.004*\"ywca\" + 0.004*\"women\" + 0.004*\"library\" + 0.004*\"empowering\" + 0.004*\"seniors\"\n",
      "Topic: 5 \n",
      "Words: 0.008*\"students\" + 0.005*\"artists\" + 0.005*\"cultural\" + 0.004*\"resources\" + 0.004*\"yellowstone\" + 0.004*\"financial\" + 0.004*\"opportunities\" + 0.004*\"create\" + 0.004*\"media\" + 0.004*\"training\"\n",
      "Topic: 6 \n",
      "Words: 0.007*\"helping\" + 0.005*\"heartland\" + 0.005*\"christ\" + 0.004*\"women\" + 0.004*\"shelter\" + 0.004*\"film\" + 0.004*\"domestic\" + 0.004*\"resources\" + 0.004*\"serving\" + 0.004*\"humane\"\n",
      "Topic: 7 \n",
      "Words: 0.015*\"habitat\" + 0.012*\"humanity\" + 0.009*\"build\" + 0.006*\"housing\" + 0.005*\"christian\" + 0.005*\"service\" + 0.005*\"serving\" + 0.005*\"building\" + 0.005*\"affordable\" + 0.005*\"strong\"\n"
     ]
    }
   ],
   "source": [
    "lda_model = gensim.models.LdaMulticore(bow_corpus, num_topics=8, id2word=dictionary, passes=2, workers=2)\n",
    "\n",
    "for idx, topic in lda_model.print_topics(-1):\n",
    "    print('Topic: {} \\nWords: {}'.format(idx, topic))"
   ]
  },
  {
   "cell_type": "code",
   "execution_count": null,
   "metadata": {},
   "outputs": [],
   "source": []
  },
  {
   "cell_type": "code",
   "execution_count": null,
   "metadata": {},
   "outputs": [],
   "source": []
  },
  {
   "cell_type": "markdown",
   "metadata": {},
   "source": [
    "# Pickling Models"
   ]
  },
  {
   "cell_type": "code",
   "execution_count": 41,
   "metadata": {},
   "outputs": [],
   "source": [
    "import pickle"
   ]
  },
  {
   "cell_type": "code",
   "execution_count": 42,
   "metadata": {},
   "outputs": [
    {
     "data": {
      "text/html": [
       "<div>\n",
       "<style scoped>\n",
       "    .dataframe tbody tr th:only-of-type {\n",
       "        vertical-align: middle;\n",
       "    }\n",
       "\n",
       "    .dataframe tbody tr th {\n",
       "        vertical-align: top;\n",
       "    }\n",
       "\n",
       "    .dataframe thead th {\n",
       "        text-align: right;\n",
       "    }\n",
       "</style>\n",
       "<table border=\"1\" class=\"dataframe\">\n",
       "  <thead>\n",
       "    <tr style=\"text-align: right;\">\n",
       "      <th></th>\n",
       "      <th>name</th>\n",
       "      <th>ein</th>\n",
       "      <th>category</th>\n",
       "      <th>description</th>\n",
       "      <th>motto</th>\n",
       "      <th>score</th>\n",
       "      <th>state</th>\n",
       "      <th>corpus</th>\n",
       "    </tr>\n",
       "  </thead>\n",
       "  <tbody>\n",
       "    <tr>\n",
       "      <td>0</td>\n",
       "      <td>1000 Friends of Oregon</td>\n",
       "      <td>930642086</td>\n",
       "      <td>Environment</td>\n",
       "      <td>Working with Oregonians to enhance our quality...</td>\n",
       "      <td>Great communities. Working lands. Iconic Places.</td>\n",
       "      <td>91.94</td>\n",
       "      <td>OR</td>\n",
       "      <td>Environment Working with Oregonians to enhance...</td>\n",
       "    </tr>\n",
       "    <tr>\n",
       "      <td>1</td>\n",
       "      <td>WYPR</td>\n",
       "      <td>311770828</td>\n",
       "      <td>Arts, Culture, Humanities</td>\n",
       "      <td>Serving the metropolitan Baltimore area and th...</td>\n",
       "      <td>88.1 FM -. Your NPR News Station</td>\n",
       "      <td>85.59</td>\n",
       "      <td>MD</td>\n",
       "      <td>Arts, Culture, Humanities Serving the metropol...</td>\n",
       "    </tr>\n",
       "    <tr>\n",
       "      <td>2</td>\n",
       "      <td>VSS Catholic Communications</td>\n",
       "      <td>911857425</td>\n",
       "      <td>Religion</td>\n",
       "      <td>VSS Catholic Communications is dedicated to an...</td>\n",
       "      <td>Spirit Catholic Radio Network</td>\n",
       "      <td>76.80</td>\n",
       "      <td>NE</td>\n",
       "      <td>Religion VSS Catholic Communications is dedica...</td>\n",
       "    </tr>\n",
       "    <tr>\n",
       "      <td>3</td>\n",
       "      <td>Utah Symphony &amp; Opera</td>\n",
       "      <td>510145980</td>\n",
       "      <td>Arts, Culture, Humanities</td>\n",
       "      <td>The mission of the Utah Symphony &amp; Opera is to...</td>\n",
       "      <td>Engaging, educating, and enriching lives</td>\n",
       "      <td>91.95</td>\n",
       "      <td>UT</td>\n",
       "      <td>Arts, Culture, Humanities The mission of the U...</td>\n",
       "    </tr>\n",
       "    <tr>\n",
       "      <td>4</td>\n",
       "      <td>Two Ten Footwear Foundation</td>\n",
       "      <td>222579809</td>\n",
       "      <td>Human Services</td>\n",
       "      <td>Funded solely by the footwear industry, Two Te...</td>\n",
       "      <td>Shoepeople Helping Shoepeople</td>\n",
       "      <td>90.26</td>\n",
       "      <td>MA</td>\n",
       "      <td>Human Services Funded solely by the footwear i...</td>\n",
       "    </tr>\n",
       "  </tbody>\n",
       "</table>\n",
       "</div>"
      ],
      "text/plain": [
       "                          name        ein                   category  \\\n",
       "0       1000 Friends of Oregon  930642086                Environment   \n",
       "1                         WYPR  311770828  Arts, Culture, Humanities   \n",
       "2  VSS Catholic Communications  911857425                   Religion   \n",
       "3        Utah Symphony & Opera  510145980  Arts, Culture, Humanities   \n",
       "4  Two Ten Footwear Foundation  222579809             Human Services   \n",
       "\n",
       "                                         description  \\\n",
       "0  Working with Oregonians to enhance our quality...   \n",
       "1  Serving the metropolitan Baltimore area and th...   \n",
       "2  VSS Catholic Communications is dedicated to an...   \n",
       "3  The mission of the Utah Symphony & Opera is to...   \n",
       "4  Funded solely by the footwear industry, Two Te...   \n",
       "\n",
       "                                              motto  score state  \\\n",
       "0  Great communities. Working lands. Iconic Places.  91.94    OR   \n",
       "1                  88.1 FM -. Your NPR News Station  85.59    MD   \n",
       "2                     Spirit Catholic Radio Network  76.80    NE   \n",
       "3          Engaging, educating, and enriching lives  91.95    UT   \n",
       "4                     Shoepeople Helping Shoepeople  90.26    MA   \n",
       "\n",
       "                                              corpus  \n",
       "0  Environment Working with Oregonians to enhance...  \n",
       "1  Arts, Culture, Humanities Serving the metropol...  \n",
       "2  Religion VSS Catholic Communications is dedica...  \n",
       "3  Arts, Culture, Humanities The mission of the U...  \n",
       "4  Human Services Funded solely by the footwear i...  "
      ]
     },
     "execution_count": 42,
     "metadata": {},
     "output_type": "execute_result"
    }
   ],
   "source": [
    "charity_navigator_df.head()"
   ]
  },
  {
   "cell_type": "code",
   "execution_count": null,
   "metadata": {},
   "outputs": [],
   "source": []
  },
  {
   "cell_type": "code",
   "execution_count": null,
   "metadata": {},
   "outputs": [],
   "source": []
  },
  {
   "cell_type": "code",
   "execution_count": null,
   "metadata": {},
   "outputs": [],
   "source": []
  },
  {
   "cell_type": "code",
   "execution_count": 69,
   "metadata": {},
   "outputs": [
    {
     "name": "stdout",
     "output_type": "stream",
     "text": [
      "CPU times: user 1.1 ms, sys: 2.04 ms, total: 3.13 ms\n",
      "Wall time: 3.01 ms\n"
     ]
    }
   ],
   "source": [
    "%%time\n",
    "char_desc_trimmed = np.array(charity_navigator_df['corpus'])\n"
   ]
  },
  {
   "cell_type": "code",
   "execution_count": 70,
   "metadata": {},
   "outputs": [
    {
     "name": "stdout",
     "output_type": "stream",
     "text": [
      "CPU times: user 193 µs, sys: 3 µs, total: 196 µs\n",
      "Wall time: 201 µs\n"
     ]
    }
   ],
   "source": [
    "%%time\n",
    "corpus = char_desc_trimmed\n"
   ]
  },
  {
   "cell_type": "code",
   "execution_count": 71,
   "metadata": {},
   "outputs": [
    {
     "name": "stdout",
     "output_type": "stream",
     "text": [
      "CPU times: user 2.26 s, sys: 122 ms, total: 2.38 s\n",
      "Wall time: 2.49 s\n"
     ]
    }
   ],
   "source": [
    "%%time\n",
    "processed_corpus = process_corpus(corpus)\n"
   ]
  },
  {
   "cell_type": "code",
   "execution_count": 72,
   "metadata": {},
   "outputs": [
    {
     "name": "stdout",
     "output_type": "stream",
     "text": [
      "CPU times: user 2.58 s, sys: 41.7 ms, total: 2.62 s\n",
      "Wall time: 2.64 s\n"
     ]
    }
   ],
   "source": [
    "%%time\n",
    "index, dictionary, tfidf = create_index_from_corpus(processed_corpus)"
   ]
  },
  {
   "cell_type": "code",
   "execution_count": 43,
   "metadata": {},
   "outputs": [
    {
     "name": "stdout",
     "output_type": "stream",
     "text": [
      "1. Processing Training Corpus\n",
      "2. Creating Model from Training Corpus\n"
     ]
    }
   ],
   "source": [
    "# Train Model\n",
    "\n",
    "print(\"1. Processing Training Corpus\")\n",
    "    \n",
    "char_desc_trimmed = np.array(charity_navigator_df['corpus'])\n",
    "corpus = char_desc_trimmed\n",
    "\n",
    "processed_corpus = process_corpus(corpus)\n",
    "\n",
    "print(\"2. Creating Model from Training Corpus\")\n",
    "index, dictionary, tfidf = create_index_from_corpus(processed_corpus)"
   ]
  },
  {
   "cell_type": "code",
   "execution_count": 48,
   "metadata": {},
   "outputs": [
    {
     "data": {
      "text/plain": [
       "<gensim.similarities.docsim.SparseMatrixSimilarity at 0x1a1ad638d0>"
      ]
     },
     "execution_count": 48,
     "metadata": {},
     "output_type": "execute_result"
    }
   ],
   "source": [
    "index"
   ]
  },
  {
   "cell_type": "code",
   "execution_count": 44,
   "metadata": {},
   "outputs": [
    {
     "data": {
      "text/plain": [
       "<gensim.models.tfidfmodel.TfidfModel at 0x1a1a5f3ed0>"
      ]
     },
     "execution_count": 44,
     "metadata": {},
     "output_type": "execute_result"
    }
   ],
   "source": [
    "tfidf"
   ]
  },
  {
   "cell_type": "code",
   "execution_count": null,
   "metadata": {},
   "outputs": [],
   "source": []
  },
  {
   "cell_type": "code",
   "execution_count": 45,
   "metadata": {},
   "outputs": [],
   "source": [
    "# Save the model to disk\n",
    "filename = 'finalized_model.sav'\n",
    "pickle.dump(tfidf, open(filename, 'wb'))\n",
    " "
   ]
  },
  {
   "cell_type": "code",
   "execution_count": 74,
   "metadata": {},
   "outputs": [],
   "source": [
    "# load the model from disk\n",
    "loaded_model = pickle.load(open('finalized_model.sav', 'rb'))"
   ]
  },
  {
   "cell_type": "code",
   "execution_count": 73,
   "metadata": {},
   "outputs": [],
   "source": [
    "# Save the index to disk\n",
    "filename = 'finalized_index.sav'\n",
    "pickle.dump(index, open(filename, 'wb'))"
   ]
  },
  {
   "cell_type": "code",
   "execution_count": 75,
   "metadata": {},
   "outputs": [],
   "source": [
    "# load the index from disk\n",
    "loaded_index = pickle.load(open('finalized_index.sav', 'rb'))"
   ]
  },
  {
   "cell_type": "code",
   "execution_count": 76,
   "metadata": {},
   "outputs": [],
   "source": [
    "# Save the dictionary to disk\n",
    "filename = 'finalized_dict.sav'\n",
    "pickle.dump(dictionary, open(filename, 'wb'))"
   ]
  },
  {
   "cell_type": "code",
   "execution_count": 77,
   "metadata": {},
   "outputs": [],
   "source": [
    "# load the dictionary from disk\n",
    "loaded_dict = pickle.load(open('finalized_dict.sav', 'rb'))"
   ]
  },
  {
   "cell_type": "code",
   "execution_count": null,
   "metadata": {},
   "outputs": [],
   "source": []
  },
  {
   "cell_type": "code",
   "execution_count": null,
   "metadata": {},
   "outputs": [],
   "source": []
  },
  {
   "cell_type": "code",
   "execution_count": null,
   "metadata": {},
   "outputs": [],
   "source": []
  },
  {
   "cell_type": "code",
   "execution_count": 47,
   "metadata": {},
   "outputs": [
    {
     "data": {
      "text/plain": [
       "<gensim.models.tfidfmodel.TfidfModel at 0x1038a2290>"
      ]
     },
     "execution_count": 47,
     "metadata": {},
     "output_type": "execute_result"
    }
   ],
   "source": [
    "loaded_model"
   ]
  },
  {
   "cell_type": "code",
   "execution_count": 62,
   "metadata": {},
   "outputs": [],
   "source": [
    "document = ('Founded in 1974 by veterans, Swords to Plowshares is a community-based not-for-profit 501(c)(3) organization that provides needs assessment and case management, employment and training, housing, and legal assistance to approximately 3,000 veterans in the San Francisco Bay Area each year.')"
   ]
  },
  {
   "cell_type": "code",
   "execution_count": 78,
   "metadata": {},
   "outputs": [
    {
     "name": "stdout",
     "output_type": "stream",
     "text": [
      "6152 0.31632933\n",
      "1701 0.3056355\n",
      "4172 0.27560914\n",
      "CPU times: user 9.61 ms, sys: 1.95 ms, total: 11.6 ms\n",
      "Wall time: 9.86 ms\n"
     ]
    }
   ],
   "source": [
    "%%time\n",
    "query_bow = loaded_dict.doc2bow(document.split())\n",
    "\n",
    "sims = loaded_index[loaded_model[query_bow]]\n",
    "\n",
    "for document_number, score in sorted(enumerate(sims), key=lambda x: x[1], reverse=True)[1:4]:\n",
    "    print(document_number, score)"
   ]
  },
  {
   "cell_type": "code",
   "execution_count": 67,
   "metadata": {},
   "outputs": [
    {
     "name": "stdout",
     "output_type": "stream",
     "text": [
      "6152 0.31632933\n",
      "1701 0.3056355\n",
      "4172 0.27560914\n"
     ]
    }
   ],
   "source": [
    "sims = index[tfidf[query_bow]]\n",
    "        \n",
    "top_3_sim = dict()\n",
    "count = 3\n",
    "\n",
    "for document_number, score in sorted(enumerate(sims), key=lambda x: x[1], reverse=True)[1:4]:\n",
    "    print(document_number, score)"
   ]
  },
  {
   "cell_type": "code",
   "execution_count": 68,
   "metadata": {},
   "outputs": [
    {
     "name": "stdout",
     "output_type": "stream",
     "text": [
      "6152 0.31632933\n",
      "1701 0.3056355\n",
      "4172 0.27560914\n"
     ]
    }
   ],
   "source": [
    "sims = index[loaded_model[query_bow]]\n",
    "        \n",
    "top_3_sim = dict()\n",
    "count = 3\n",
    "\n",
    "for document_number, score in sorted(enumerate(sims), key=lambda x: x[1], reverse=True)[1:4]:\n",
    "    print(document_number, score)"
   ]
  },
  {
   "cell_type": "code",
   "execution_count": null,
   "metadata": {},
   "outputs": [],
   "source": []
  },
  {
   "cell_type": "code",
   "execution_count": null,
   "metadata": {},
   "outputs": [],
   "source": []
  },
  {
   "cell_type": "code",
   "execution_count": null,
   "metadata": {},
   "outputs": [],
   "source": [
    "def create_index_from_corpus(processed_corpus):\n",
    "    '''\n",
    "    '''\n",
    "    dictionary = corpora.Dictionary(processed_corpus)\n",
    "    features = (len(dictionary))\n",
    "\n",
    "    bow_corpus = [dictionary.doc2bow(text) for text in processed_corpus]\n",
    "\n",
    "    # train the model\n",
    "    tfidf = models.TfidfModel(bow_corpus)\n",
    "\n",
    "    index = similarities.SparseMatrixSimilarity(tfidf[bow_corpus], num_features=features)\n",
    "\n",
    "    return index, dictionary, tfidf"
   ]
  },
  {
   "cell_type": "code",
   "execution_count": null,
   "metadata": {},
   "outputs": [],
   "source": [
    "# Get cosine similarity of vectors of documents\n",
    "index = similarities.SparseMatrixSimilarity(loaded_model[bow_corpus], num_features=features)"
   ]
  },
  {
   "cell_type": "code",
   "execution_count": null,
   "metadata": {},
   "outputs": [],
   "source": []
  },
  {
   "cell_type": "code",
   "execution_count": 91,
   "metadata": {},
   "outputs": [],
   "source": [
    "def get_recs_from_pickled_model(document):\n",
    "    '''\n",
    "    '''\n",
    "    # load the model from disk\n",
    "    loaded_model = pickle.load(open('finalized_model.sav', 'rb'))\n",
    "    # load the index from disk\n",
    "    loaded_index = pickle.load(open('finalized_index.sav', 'rb'))\n",
    "    # load the dictionary from disk\n",
    "    loaded_dict = pickle.load(open('finalized_dict.sav', 'rb'))\n",
    "    \n",
    "    print(document)\n",
    "    \n",
    "    query_bow = loaded_dict.doc2bow(document.split())\n",
    "\n",
    "    sims = loaded_index[loaded_model[query_bow]]\n",
    "\n",
    "    top_3_sim = dict()\n",
    "    \n",
    "    for document_number, score in sorted(enumerate(sims), key=lambda x: x[1], reverse=True)[1:4]:\n",
    "        top_3_sim[document_number] = score\n",
    "        \n",
    "    return top_3_sim"
   ]
  },
  {
   "cell_type": "code",
   "execution_count": 92,
   "metadata": {},
   "outputs": [
    {
     "name": "stdout",
     "output_type": "stream",
     "text": [
      "Founded in 1974 by veterans, Swords to Plowshares is a community-based not-for-profit 501(c)(3) organization that provides needs assessment and case management, employment and training, housing, and legal assistance to approximately 3,000 veterans in the San Francisco Bay Area each year.\n"
     ]
    },
    {
     "data": {
      "text/plain": [
       "{6152: 0.31632933, 1701: 0.3056355, 4172: 0.27560914}"
      ]
     },
     "execution_count": 92,
     "metadata": {},
     "output_type": "execute_result"
    }
   ],
   "source": [
    "get_recs_from_pickled_model(document)"
   ]
  },
  {
   "cell_type": "code",
   "execution_count": 95,
   "metadata": {},
   "outputs": [
    {
     "name": "stdout",
     "output_type": "stream",
     "text": [
      "And I think to myself, what a wonderful world\n"
     ]
    },
    {
     "data": {
      "text/plain": [
       "{4617: 0.21756671, 7042: 0.20503633, 7255: 0.2020858}"
      ]
     },
     "execution_count": 95,
     "metadata": {},
     "output_type": "execute_result"
    }
   ],
   "source": [
    "get_recs_from_pickled_model(\"And I think to myself, what a wonderful world\")"
   ]
  },
  {
   "cell_type": "code",
   "execution_count": 96,
   "metadata": {},
   "outputs": [
    {
     "data": {
      "text/plain": [
       "['And', 'I', 'think', 'to', 'myself,', 'what', 'a', 'wonderful', 'world']"
      ]
     },
     "execution_count": 96,
     "metadata": {},
     "output_type": "execute_result"
    }
   ],
   "source": [
    "(\"And I think to myself, what a wonderful world\").split()"
   ]
  },
  {
   "cell_type": "code",
   "execution_count": null,
   "metadata": {},
   "outputs": [],
   "source": []
  }
 ],
 "metadata": {
  "kernelspec": {
   "display_name": "Python 3",
   "language": "python",
   "name": "python3"
  },
  "language_info": {
   "codemirror_mode": {
    "name": "ipython",
    "version": 3
   },
   "file_extension": ".py",
   "mimetype": "text/x-python",
   "name": "python",
   "nbconvert_exporter": "python",
   "pygments_lexer": "ipython3",
   "version": "3.7.4"
  }
 },
 "nbformat": 4,
 "nbformat_minor": 2
}
