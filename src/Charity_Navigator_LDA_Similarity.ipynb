{
 "cells": [
  {
   "cell_type": "markdown",
   "metadata": {},
   "source": [
    "## Imports"
   ]
  },
  {
   "cell_type": "code",
   "execution_count": 4,
   "metadata": {},
   "outputs": [],
   "source": [
    "import numpy as np\n",
    "import pandas as pd\n",
    "import datetime\n",
    "import math\n",
    "import random\n",
    "import sys\n",
    "\n",
    "pd.options.display.max_columns = 50"
   ]
  },
  {
   "cell_type": "code",
   "execution_count": 5,
   "metadata": {},
   "outputs": [],
   "source": [
    "import scipy.sparse as sparse\n",
    "from scipy.sparse.linalg import spsolve\n",
    "from sklearn.preprocessing import MinMaxScaler\n",
    "from sklearn.model_selection import train_test_split"
   ]
  },
  {
   "cell_type": "code",
   "execution_count": 6,
   "metadata": {},
   "outputs": [],
   "source": [
    "# Plots\n",
    "import matplotlib.pyplot as plt\n",
    "import seaborn as sns\n",
    "from scipy import stats\n",
    "sns.set(color_codes=True)"
   ]
  },
  {
   "cell_type": "code",
   "execution_count": 240,
   "metadata": {},
   "outputs": [],
   "source": [
    "import pprint\n",
    "from collections import defaultdict\n",
    "import gensim\n",
    "from gensim import corpora, models, similarities\n",
    "# NLTK Stop words\n",
    "from nltk.corpus import stopwords\n"
   ]
  },
  {
   "cell_type": "markdown",
   "metadata": {},
   "source": [
    "## Functions"
   ]
  },
  {
   "cell_type": "code",
   "execution_count": 73,
   "metadata": {},
   "outputs": [],
   "source": [
    "def set_labels(freq, ax,horz_shift=.2,vert_shift=1000,w=\"bold\",fsize=10,c=\"b\"):\n",
    "    '''\n",
    "    Function\n",
    "    --------\n",
    "    Set Frequency Labels on Bar Plot\n",
    "    \n",
    "    Parameters\n",
    "    ----------\n",
    "    freq : List of frequencies to plot for each bar\n",
    "    ax : Axis to Plot Frequency Labels on\n",
    "    horz_shift : Shift labels left/right\n",
    "    vert_shift : Shift labels up/down\n",
    "    w : \"weight\" -> Bold by defauly\n",
    "    fsize : fontsize\n",
    "    c : label color\n",
    "    \n",
    "    '''\n",
    "    for i, v in enumerate(freq):\n",
    "        ax.text(i-horz_shift,v+vert_shift, str(round(v,2)), weight = w,fontsize=fsize,color = c)"
   ]
  },
  {
   "cell_type": "code",
   "execution_count": 115,
   "metadata": {},
   "outputs": [],
   "source": [
    "def process_corpus(text_corpus,min_words=3,max_percent=0.1):\n",
    "    '''\n",
    "    Function\n",
    "    --------\n",
    "    Process corpus by removing stopwords, lowercasing tokenized words,\n",
    "        removing words ocurring in only 1 document or more than 10% of documents\n",
    "    \n",
    "    Parameters\n",
    "    ----------\n",
    "    text_corpus : Unprocessed Text Corpus\n",
    "    \n",
    "    Returns:\n",
    "    -------\n",
    "    processed_corpus : Processed Text Corpus\n",
    "    ''' \n",
    "    # Remove Stop Words\n",
    "    stop_words = stopwords.words('english')\n",
    "    stop_words.extend(['from', 'subject', 're', 'edu', 'use', 'not', 'would', 'say', 'could', '_',\n",
    "                   'be', 'know', 'good', 'go', 'get', 'do', 'done', 'try', 'many', 'some', 'nice', \n",
    "                   'thank', 'think', 'see', 'rather', 'easy', 'easily', 'lot', 'lack', 'make', 'want', \n",
    "                   'seem', 'run', 'need', 'even', 'right', 'line', 'even', 'also', 'may', 'take', 'come'])\n",
    "    \n",
    "    # Lowercase each document, split it by white space and filter out stopwords\n",
    "    texts = \"\"\n",
    "    texts = [[word for word in document.lower().split() if word not in stop_words] for document in text_corpus]\n",
    "    \n",
    "    # Count word frequencies\n",
    "    frequency = defaultdict(int)\n",
    "    for text in texts:\n",
    "        for token in text:\n",
    "            frequency[token] += 1\n",
    "        \n",
    "    # Only keep words that appear more than [min_words] times, \n",
    "    # are in less than [max_percent] of documents, and are alphabetical strings\n",
    "    max_percent_calc = (int(len(text_corpus)*(max_percent)))\n",
    "    \n",
    "    processed_corpus = []\n",
    "    for text in texts:\n",
    "        token_list = []\n",
    "        for token in text:\n",
    "            if frequency[token] > min_words and frequency[token] < max_percent_calc and str.isalpha(token):\n",
    "                token_list.append(token)\n",
    "        processed_corpus.append(token_list)\n",
    "    \n",
    "    return processed_corpus"
   ]
  },
  {
   "cell_type": "code",
   "execution_count": 116,
   "metadata": {},
   "outputs": [],
   "source": [
    "def create_index_from_corpus(processed_corpus):\n",
    "    '''\n",
    "    Function\n",
    "    --------\n",
    "    Trains model on processed corpus\n",
    "    \n",
    "    Also creates dictionary of words from processed corpus\n",
    "    \n",
    "    Parameters\n",
    "    ----------\n",
    "    processed_corpus : Processed Text Corpus\n",
    "    \n",
    "    Returns:\n",
    "    -------\n",
    "    \n",
    "    ''' \n",
    "    dictionary = corpora.Dictionary(processed_corpus)\n",
    "    features = (len(dictionary))\n",
    "    \n",
    "    # Convert documents into Bag of Words (BoW) format\n",
    "    bow_corpus = [dictionary.doc2bow(text) for text in processed_corpus]\n",
    "    \n",
    "    # train the model\n",
    "    tfidf = models.TfidfModel(bow_corpus)\n",
    "    \n",
    "    # Get cosine similarity of vectors of documents\n",
    "    index = similarities.SparseMatrixSimilarity(tfidf[bow_corpus], num_features=features)\n",
    "    \n",
    "    return index, dictionary, tfidf"
   ]
  },
  {
   "cell_type": "code",
   "execution_count": 114,
   "metadata": {},
   "outputs": [],
   "source": [
    "def find_similar_charities_category_score(train_df,test_df,column):\n",
    "    '''\n",
    "    Function\n",
    "    --------\n",
    "    Train Model on \"corpus\" column - composed of charity category, description, motto and state\n",
    "    \n",
    "    Parameters\n",
    "    ----------\n",
    "    train_df : DataFrame to Train LDA Model\n",
    "    test_df : DataFrame to Test and Score Model\n",
    "    \n",
    "    Returns:\n",
    "    -------\n",
    "    top_3_sim : DataFrame of Top 3 Most Similar Charities\n",
    "    '''\n",
    "    total = 0\n",
    "    category_counter = {1:0,2:0,3:0}\n",
    "    document_min_words_cutoff = 200\n",
    "    \n",
    "    print(\"1. Processing Training Corpus\")\n",
    "    \n",
    "    char_desc_trimmed = np.array(train_df[column])\n",
    "    corpus = char_desc_trimmed\n",
    "    \n",
    "    processed_corpus = process_corpus(corpus)\n",
    "    \n",
    "    print(\"2. Creating Model from Training Corpus\")\n",
    "    index, dictionary, tfidf = create_index_from_corpus(processed_corpus)\n",
    "    \n",
    "    print(\"3. Starting Test Corpus Category Analysis\\n\")\n",
    "    for ind, document in enumerate(test_df[column]):\n",
    "        total +=1 \n",
    "        if total % 500 == 0:\n",
    "            print(\"Analyzed\",total,\"documents...\")\n",
    "        \n",
    "        \n",
    "        query_bow = dictionary.doc2bow(document.split())\n",
    "        sims = index[tfidf[query_bow]]\n",
    "        \n",
    "        top_3_sim = dict()\n",
    "        count = 3\n",
    "        \n",
    "        for document_number, score in sorted(enumerate(sims), key=lambda x: x[1], reverse=True)[1:4]:\n",
    "            \n",
    "            if count > 0:\n",
    "                top_3_sim[document_number] = score\n",
    "            count -= 1\n",
    "            \n",
    "        category_count = 1\n",
    "        \n",
    "        for doc, score in top_3_sim.items():\n",
    "            if train_df['category'].iloc[doc] == test_df['category'].iloc[ind]:\n",
    "                category_counter[category_count] += 1\n",
    "            category_count += 1\n",
    "        \n",
    "    \n",
    "    first_rec_score = round((category_counter[1] / total)*100,2)\n",
    "    second_rec_score = round((category_counter[2] / total)*100,2)\n",
    "    third_rec_score = round((category_counter[3] / total)*100,2)\n",
    "    \n",
    "    print (\"\\nFirst Recommendation Score:\", first_rec_score,\"%\")\n",
    "    print (\"Second Recommendation Score:\", second_rec_score,\"%\")   \n",
    "    print (\"Third Recommendation Score:\", third_rec_score,\"%\\n\")\n",
    "    \n",
    "    print (\"AVG Recommendation Score:\", round((first_rec_score+second_rec_score+third_rec_score)/3,2),\"%\")\n",
    "    \n",
    "    return top_3_sim\n",
    "    "
   ]
  },
  {
   "cell_type": "code",
   "execution_count": 93,
   "metadata": {},
   "outputs": [],
   "source": [
    "def find_similar_charities_similar_score(train_df,test_df,column):\n",
    "    '''\n",
    "    Function\n",
    "    --------\n",
    "    Train Model on \"corpus\" column - composed of charity category, description, motto and state\n",
    "    \n",
    "    Parameters\n",
    "    ----------\n",
    "    train_df : DataFrame to Train LDA Model\n",
    "    test_df : DataFrame to Test and Score Model\n",
    "    \n",
    "    Returns:\n",
    "    -------\n",
    "    top_3_sim : DataFrame of Top 3 Most Similar Charities\n",
    "    '''\n",
    "    total = 0\n",
    "    category_counter = {1:0,2:0,3:0}\n",
    "    document_min_words_cutoff = 200\n",
    "    \n",
    "    print(\"1. Processing Training Corpus\")\n",
    "    \n",
    "    char_desc_trimmed = np.array(train_df[column])\n",
    "    \n",
    "    corpus = char_desc_trimmed\n",
    "    processed_corpus = process_corpus(corpus)\n",
    "    \n",
    "    print(\"2. Creating Model from Training Corpus\")\n",
    "    index, dictionary, tfidf = create_index_from_corpus(processed_corpus)\n",
    "    \n",
    "    print(\"3. Starting Test Corpus Similarity Analysis\\n\")\n",
    "    for ind, document in enumerate(test_df[column]):\n",
    "        total +=1 \n",
    "        if total % 500 == 0:\n",
    "            print(\"Analyzed\",total,\"documents...\")\n",
    "        \n",
    "        \n",
    "        query_bow = dictionary.doc2bow(document.split())\n",
    "        sims = index[tfidf[query_bow]]\n",
    "        \n",
    "        top_3_sim = dict()\n",
    "        count = 3\n",
    "        \n",
    "        for document_number, score in sorted(enumerate(sims), key=lambda x: x[1], reverse=True)[1:4]:\n",
    "            \n",
    "            if count > 0:\n",
    "                top_3_sim[document_number] = score\n",
    "            count -= 1\n",
    "            \n",
    "        category_count = 1\n",
    "        \n",
    "        for doc, score in top_3_sim.items():     \n",
    "            category_counter[category_count] += score\n",
    "            category_count +=1\n",
    "    \n",
    "    first_rec_score = round((category_counter[1] / total)*100,2)\n",
    "    second_rec_score = round((category_counter[2] / total)*100,2)\n",
    "    third_rec_score = round((category_counter[3] / total)*100,2)\n",
    "    \n",
    "    print (\"\\nFirst Recommendation Score:\", first_rec_score,\"%\")\n",
    "    print (\"Second Recommendation Score:\", second_rec_score,\"%\")   \n",
    "    print (\"Third Recommendation Score:\", third_rec_score,\"%\\n\")\n",
    "    \n",
    "    print (\"AVG Recommendation Score:\", round((first_rec_score+second_rec_score+third_rec_score)/3,2),\"%\")\n",
    "    \n",
    "    return top_3_sim\n",
    "    "
   ]
  },
  {
   "cell_type": "code",
   "execution_count": 169,
   "metadata": {},
   "outputs": [],
   "source": [
    "def find_similar_charities_from_search(train_df,search_text):\n",
    "    '''\n",
    "    Function\n",
    "    --------\n",
    "    Train Model on \"corpus\" column - composed of charity category, description, motto and state\n",
    "    \n",
    "    Parameters\n",
    "    ----------\n",
    "    train_df : DataFrame to Train LDA Model\n",
    "    test_df : DataFrame to Test and Score Model\n",
    "    \n",
    "    Returns:\n",
    "    -------\n",
    "    top_3_sim : DataFrame of Top 3 Most Similar Charities\n",
    "    '''\n",
    "    total = 0\n",
    "    category_counter = {1:0,2:0,3:0}\n",
    "    document_min_words_cutoff = 200\n",
    "    \n",
    "    print(\"1. Processing Training Corpus\")\n",
    "    \n",
    "    char_desc_trimmed = np.array(train_df['corpus'])\n",
    "    \n",
    "    corpus = char_desc_trimmed\n",
    "    processed_corpus = process_corpus(corpus)\n",
    "    \n",
    "    print(\"2. Creating Model from Training Corpus\")\n",
    "    index, dictionary, tfidf = create_index_from_corpus(processed_corpus)\n",
    "    \n",
    "    print(dictionary.values())\n",
    "    \n",
    "    print(\"3. Starting Test Corpus Similarity Analysis\\n\")\n",
    "    \n",
    "    total +=1 \n",
    "    if total % 500 == 0:\n",
    "        print(\"Analyzed\",total,\"documents...\")\n",
    "\n",
    "    query_bow = dictionary.doc2bow(search_text.split())\n",
    "    sims = index[tfidf[query_bow]]\n",
    "    \n",
    "    top_3_sim = dict()\n",
    "    count = 3\n",
    "\n",
    "    for document_number, score in sorted(enumerate(sims), key=lambda x: x[1], reverse=True)[1:4]:\n",
    "\n",
    "        if count > 0:\n",
    "            top_3_sim[document_number] = score\n",
    "        count -= 1\n",
    "\n",
    "    category_count = 1\n",
    "\n",
    "    for doc, score in top_3_sim.items():     \n",
    "        category_counter[category_count] += score\n",
    "        category_count +=1\n",
    "    \n",
    "    first_rec_score = round((category_counter[1] / total)*100,2)\n",
    "    second_rec_score = round((category_counter[2] / total)*100,2)\n",
    "    third_rec_score = round((category_counter[3] / total)*100,2)\n",
    "    \n",
    "    print (\"\\nFirst Recommendation Score:\", first_rec_score,\"%\")\n",
    "    print (\"Second Recommendation Score:\", second_rec_score,\"%\")   \n",
    "    print (\"Third Recommendation Score:\", third_rec_score,\"%\\n\")\n",
    "    \n",
    "    print (\"AVG Recommendation Score:\", round((first_rec_score+second_rec_score+third_rec_score)/3,2),\"%\")\n",
    "    \n",
    "    return top_3_sim\n",
    "    "
   ]
  },
  {
   "cell_type": "code",
   "execution_count": 182,
   "metadata": {},
   "outputs": [],
   "source": [
    "def create_sim_word_dict(text1, text2, dictionary):\n",
    "    '''\n",
    "    '''\n",
    "    text1_array = text1.split()\n",
    "    text2_array = text2.split()\n",
    "\n",
    "    dict_list = []\n",
    "    for i in range(len(dictionary)):\n",
    "        dict_list.append(dictionary[i])\n",
    "    dict_list = np.array(dict_list)\n",
    "\n",
    "    similar_words = dict()\n",
    "\n",
    "    for word in text1_array:\n",
    "        if word in text2_array and word in dict_list:\n",
    "            if word not in similar_words:\n",
    "                similar_words[word] = 1\n",
    "            else:\n",
    "                similar_words[word] +=1\n",
    "\n",
    "    return similar_words"
   ]
  },
  {
   "cell_type": "code",
   "execution_count": null,
   "metadata": {},
   "outputs": [],
   "source": []
  },
  {
   "cell_type": "code",
   "execution_count": 238,
   "metadata": {},
   "outputs": [
    {
     "name": "stdout",
     "output_type": "stream",
     "text": [
      "1. Processing Training Corpus\n"
     ]
    }
   ],
   "source": [
    "print(\"1. Processing Training Corpus\")\n",
    "    \n",
    "char_desc_trimmed = np.array(charity_navigator_df['corpus'])\n",
    "\n",
    "corpus = char_desc_trimmed\n",
    "processed_corpus = process_corpus(corpus)\n",
    "\n",
    "dictionary = corpora.Dictionary(processed_corpus)\n",
    "features = (len(dictionary))\n",
    "\n",
    "# Convert documents into Bag of Words (BoW) format\n",
    "bow_corpus = [dictionary.doc2bow(text) for text in processed_corpus]\n",
    "\n",
    "# print(\"2. Creating Model from Training Corpus\")\n",
    "# index, dictionary, tfidf = create_index_from_corpus(processed_corpus)"
   ]
  },
  {
   "cell_type": "code",
   "execution_count": 244,
   "metadata": {},
   "outputs": [
    {
     "name": "stdout",
     "output_type": "stream",
     "text": [
      "Topic: 0 \n",
      "Words: 0.010*\"museum\" + 0.009*\"american\" + 0.008*\"art\" + 0.006*\"history\" + 0.005*\"cultural\" + 0.004*\"policy\" + 0.004*\"environment\" + 0.004*\"film\" + 0.003*\"natural\" + 0.003*\"build\"\n",
      "Topic: 1 \n",
      "Words: 0.009*\"students\" + 0.006*\"high\" + 0.006*\"girls\" + 0.005*\"science\" + 0.004*\"boys\" + 0.004*\"big\" + 0.004*\"service\" + 0.004*\"environment\" + 0.004*\"media\" + 0.004*\"free\"\n",
      "Topic: 2 \n",
      "Words: 0.005*\"hearing\" + 0.004*\"animal\" + 0.004*\"service\" + 0.004*\"helping\" + 0.004*\"humane\" + 0.003*\"area\" + 0.003*\"medical\" + 0.003*\"around\" + 0.003*\"independent\" + 0.003*\"students\"\n",
      "Topic: 3 \n",
      "Words: 0.043*\"habitat\" + 0.029*\"humanity\" + 0.021*\"build\" + 0.018*\"homes\" + 0.018*\"building\" + 0.016*\"affordable\" + 0.016*\"housing\" + 0.011*\"together\" + 0.010*\"county\" + 0.008*\"partnership\"\n",
      "Topic: 4 \n",
      "Words: 0.010*\"music\" + 0.007*\"cancer\" + 0.005*\"schools\" + 0.005*\"students\" + 0.004*\"yellowstone\" + 0.004*\"harvard\" + 0.004*\"free\" + 0.004*\"musical\" + 0.004*\"high\" + 0.003*\"park\"\n",
      "Topic: 5 \n",
      "Words: 0.017*\"ymca\" + 0.016*\"strong\" + 0.015*\"healthy\" + 0.013*\"build\" + 0.006*\"improve\" + 0.006*\"child\" + 0.005*\"christian\" + 0.005*\"serving\" + 0.005*\"body\" + 0.005*\"mind\"\n",
      "Topic: 6 \n",
      "Words: 0.009*\"jesus\" + 0.009*\"christ\" + 0.008*\"religion\" + 0.008*\"christian\" + 0.006*\"ministry\" + 0.005*\"ministries\" + 0.005*\"home\" + 0.004*\"hope\" + 0.004*\"church\" + 0.004*\"cultural\"\n",
      "Topic: 7 \n",
      "Words: 0.012*\"women\" + 0.009*\"rights\" + 0.006*\"civil\" + 0.006*\"empowering\" + 0.006*\"theatre\" + 0.006*\"domestic\" + 0.005*\"ywca\" + 0.005*\"resources\" + 0.005*\"shelter\" + 0.005*\"promoting\"\n"
     ]
    }
   ],
   "source": [
    "lda_model = gensim.models.LdaMulticore(bow_corpus, num_topics=8, id2word=dictionary, passes=2, workers=2)\n",
    "\n",
    "for idx, topic in lda_model.print_topics(-1):\n",
    "    print('Topic: {} \\nWords: {}'.format(idx, topic))"
   ]
  },
  {
   "cell_type": "code",
   "execution_count": null,
   "metadata": {},
   "outputs": [],
   "source": []
  },
  {
   "cell_type": "code",
   "execution_count": null,
   "metadata": {},
   "outputs": [],
   "source": []
  },
  {
   "cell_type": "markdown",
   "metadata": {},
   "source": [
    "## Loading Charity Navigator Data"
   ]
  },
  {
   "cell_type": "code",
   "execution_count": 78,
   "metadata": {},
   "outputs": [],
   "source": [
    "charity_navigator_df = pd.read_csv('../data/CLEAN_charity_data.csv')\n",
    "charity_navigator_df = charity_navigator_df[['name','ein','category','description','motto','score','state']]\n",
    "charity_navigator_df['ein'] = charity_navigator_df['ein'].apply(lambda x: int(x.replace(\"-\",\"\")))\n",
    "charity_navigator_df = charity_navigator_df.fillna(\"\")\n",
    "charity_navigator_df['corpus'] = (charity_navigator_df['category'] + \" \" + charity_navigator_df['description'] + \" \" +charity_navigator_df['motto']+\" \"+ charity_navigator_df['state'])"
   ]
  },
  {
   "cell_type": "code",
   "execution_count": 79,
   "metadata": {},
   "outputs": [],
   "source": [
    "temp_df = pd.read_csv('../data/charities_rated_corpus.csv')\n",
    "temp_df.drop(columns=['Unnamed: 0'],inplace=True)\n",
    "temp_df['corpus'] = (temp_df['category'] + \" \" + temp_df['description'] + \" \" +temp_df['motto']+\" \"+ temp_df['state'])"
   ]
  },
  {
   "cell_type": "code",
   "execution_count": 55,
   "metadata": {},
   "outputs": [
    {
     "data": {
      "text/html": [
       "<div>\n",
       "<style scoped>\n",
       "    .dataframe tbody tr th:only-of-type {\n",
       "        vertical-align: middle;\n",
       "    }\n",
       "\n",
       "    .dataframe tbody tr th {\n",
       "        vertical-align: top;\n",
       "    }\n",
       "\n",
       "    .dataframe thead th {\n",
       "        text-align: right;\n",
       "    }\n",
       "</style>\n",
       "<table border=\"1\" class=\"dataframe\">\n",
       "  <thead>\n",
       "    <tr style=\"text-align: right;\">\n",
       "      <th></th>\n",
       "      <th>name</th>\n",
       "      <th>ein</th>\n",
       "      <th>category</th>\n",
       "      <th>description</th>\n",
       "      <th>motto</th>\n",
       "      <th>score</th>\n",
       "      <th>state</th>\n",
       "      <th>corpus</th>\n",
       "    </tr>\n",
       "  </thead>\n",
       "  <tbody>\n",
       "    <tr>\n",
       "      <td>0</td>\n",
       "      <td>1000 Friends of Oregon</td>\n",
       "      <td>930642086</td>\n",
       "      <td>Environment</td>\n",
       "      <td>Working with Oregonians to enhance our quality...</td>\n",
       "      <td>Great communities. Working lands. Iconic Places.</td>\n",
       "      <td>91.94</td>\n",
       "      <td>OR</td>\n",
       "      <td>Environment Working with Oregonians to enhance...</td>\n",
       "    </tr>\n",
       "    <tr>\n",
       "      <td>1</td>\n",
       "      <td>WYPR</td>\n",
       "      <td>311770828</td>\n",
       "      <td>Arts, Culture, Humanities</td>\n",
       "      <td>Serving the metropolitan Baltimore area and th...</td>\n",
       "      <td>88.1 FM -. Your NPR News Station</td>\n",
       "      <td>85.59</td>\n",
       "      <td>MD</td>\n",
       "      <td>Arts, Culture, Humanities Serving the metropol...</td>\n",
       "    </tr>\n",
       "    <tr>\n",
       "      <td>2</td>\n",
       "      <td>VSS Catholic Communications</td>\n",
       "      <td>911857425</td>\n",
       "      <td>Religion</td>\n",
       "      <td>VSS Catholic Communications is dedicated to an...</td>\n",
       "      <td>Spirit Catholic Radio Network</td>\n",
       "      <td>76.80</td>\n",
       "      <td>NE</td>\n",
       "      <td>Religion VSS Catholic Communications is dedica...</td>\n",
       "    </tr>\n",
       "    <tr>\n",
       "      <td>3</td>\n",
       "      <td>Utah Symphony &amp; Opera</td>\n",
       "      <td>510145980</td>\n",
       "      <td>Arts, Culture, Humanities</td>\n",
       "      <td>The mission of the Utah Symphony &amp; Opera is to...</td>\n",
       "      <td>Engaging, educating, and enriching lives</td>\n",
       "      <td>91.95</td>\n",
       "      <td>UT</td>\n",
       "      <td>Arts, Culture, Humanities The mission of the U...</td>\n",
       "    </tr>\n",
       "    <tr>\n",
       "      <td>4</td>\n",
       "      <td>Two Ten Footwear Foundation</td>\n",
       "      <td>222579809</td>\n",
       "      <td>Human Services</td>\n",
       "      <td>Funded solely by the footwear industry, Two Te...</td>\n",
       "      <td>Shoepeople Helping Shoepeople</td>\n",
       "      <td>90.26</td>\n",
       "      <td>MA</td>\n",
       "      <td>Human Services Funded solely by the footwear i...</td>\n",
       "    </tr>\n",
       "  </tbody>\n",
       "</table>\n",
       "</div>"
      ],
      "text/plain": [
       "                          name        ein                   category  \\\n",
       "0       1000 Friends of Oregon  930642086                Environment   \n",
       "1                         WYPR  311770828  Arts, Culture, Humanities   \n",
       "2  VSS Catholic Communications  911857425                   Religion   \n",
       "3        Utah Symphony & Opera  510145980  Arts, Culture, Humanities   \n",
       "4  Two Ten Footwear Foundation  222579809             Human Services   \n",
       "\n",
       "                                         description  \\\n",
       "0  Working with Oregonians to enhance our quality...   \n",
       "1  Serving the metropolitan Baltimore area and th...   \n",
       "2  VSS Catholic Communications is dedicated to an...   \n",
       "3  The mission of the Utah Symphony & Opera is to...   \n",
       "4  Funded solely by the footwear industry, Two Te...   \n",
       "\n",
       "                                              motto  score state  \\\n",
       "0  Great communities. Working lands. Iconic Places.  91.94    OR   \n",
       "1                  88.1 FM -. Your NPR News Station  85.59    MD   \n",
       "2                     Spirit Catholic Radio Network  76.80    NE   \n",
       "3          Engaging, educating, and enriching lives  91.95    UT   \n",
       "4                     Shoepeople Helping Shoepeople  90.26    MA   \n",
       "\n",
       "                                              corpus  \n",
       "0  Environment Working with Oregonians to enhance...  \n",
       "1  Arts, Culture, Humanities Serving the metropol...  \n",
       "2  Religion VSS Catholic Communications is dedica...  \n",
       "3  Arts, Culture, Humanities The mission of the U...  \n",
       "4  Human Services Funded solely by the footwear i...  "
      ]
     },
     "execution_count": 55,
     "metadata": {},
     "output_type": "execute_result"
    }
   ],
   "source": [
    "temp_df.head()"
   ]
  },
  {
   "cell_type": "code",
   "execution_count": 71,
   "metadata": {},
   "outputs": [
    {
     "data": {
      "text/html": [
       "<div>\n",
       "<style scoped>\n",
       "    .dataframe tbody tr th:only-of-type {\n",
       "        vertical-align: middle;\n",
       "    }\n",
       "\n",
       "    .dataframe tbody tr th {\n",
       "        vertical-align: top;\n",
       "    }\n",
       "\n",
       "    .dataframe thead th {\n",
       "        text-align: right;\n",
       "    }\n",
       "</style>\n",
       "<table border=\"1\" class=\"dataframe\">\n",
       "  <thead>\n",
       "    <tr style=\"text-align: right;\">\n",
       "      <th></th>\n",
       "      <th>name</th>\n",
       "      <th>ein</th>\n",
       "      <th>category</th>\n",
       "      <th>description</th>\n",
       "      <th>motto</th>\n",
       "      <th>score</th>\n",
       "      <th>state</th>\n",
       "      <th>corpus</th>\n",
       "    </tr>\n",
       "  </thead>\n",
       "  <tbody>\n",
       "    <tr>\n",
       "      <td>0</td>\n",
       "      <td>1000 Friends of Oregon</td>\n",
       "      <td>930642086</td>\n",
       "      <td>Environment</td>\n",
       "      <td>Working with Oregonians to enhance our quality...</td>\n",
       "      <td>Great communities. Working lands. Iconic Places.</td>\n",
       "      <td>91.94</td>\n",
       "      <td>OR</td>\n",
       "      <td>Environment Working with Oregonians to enhance...</td>\n",
       "    </tr>\n",
       "    <tr>\n",
       "      <td>1</td>\n",
       "      <td>WYPR</td>\n",
       "      <td>311770828</td>\n",
       "      <td>Arts, Culture, Humanities</td>\n",
       "      <td>Serving the metropolitan Baltimore area and th...</td>\n",
       "      <td>88.1 FM -. Your NPR News Station</td>\n",
       "      <td>85.59</td>\n",
       "      <td>MD</td>\n",
       "      <td>Arts, Culture, Humanities Serving the metropol...</td>\n",
       "    </tr>\n",
       "    <tr>\n",
       "      <td>2</td>\n",
       "      <td>VSS Catholic Communications</td>\n",
       "      <td>911857425</td>\n",
       "      <td>Religion</td>\n",
       "      <td>VSS Catholic Communications is dedicated to an...</td>\n",
       "      <td>Spirit Catholic Radio Network</td>\n",
       "      <td>76.80</td>\n",
       "      <td>NE</td>\n",
       "      <td>Religion VSS Catholic Communications is dedica...</td>\n",
       "    </tr>\n",
       "    <tr>\n",
       "      <td>3</td>\n",
       "      <td>Utah Symphony &amp; Opera</td>\n",
       "      <td>510145980</td>\n",
       "      <td>Arts, Culture, Humanities</td>\n",
       "      <td>The mission of the Utah Symphony &amp; Opera is to...</td>\n",
       "      <td>Engaging, educating, and enriching lives</td>\n",
       "      <td>91.95</td>\n",
       "      <td>UT</td>\n",
       "      <td>Arts, Culture, Humanities The mission of the U...</td>\n",
       "    </tr>\n",
       "    <tr>\n",
       "      <td>4</td>\n",
       "      <td>Two Ten Footwear Foundation</td>\n",
       "      <td>222579809</td>\n",
       "      <td>Human Services</td>\n",
       "      <td>Funded solely by the footwear industry, Two Te...</td>\n",
       "      <td>Shoepeople Helping Shoepeople</td>\n",
       "      <td>90.26</td>\n",
       "      <td>MA</td>\n",
       "      <td>Human Services Funded solely by the footwear i...</td>\n",
       "    </tr>\n",
       "  </tbody>\n",
       "</table>\n",
       "</div>"
      ],
      "text/plain": [
       "                          name        ein                   category  \\\n",
       "0       1000 Friends of Oregon  930642086                Environment   \n",
       "1                         WYPR  311770828  Arts, Culture, Humanities   \n",
       "2  VSS Catholic Communications  911857425                   Religion   \n",
       "3        Utah Symphony & Opera  510145980  Arts, Culture, Humanities   \n",
       "4  Two Ten Footwear Foundation  222579809             Human Services   \n",
       "\n",
       "                                         description  \\\n",
       "0  Working with Oregonians to enhance our quality...   \n",
       "1  Serving the metropolitan Baltimore area and th...   \n",
       "2  VSS Catholic Communications is dedicated to an...   \n",
       "3  The mission of the Utah Symphony & Opera is to...   \n",
       "4  Funded solely by the footwear industry, Two Te...   \n",
       "\n",
       "                                              motto  score state  \\\n",
       "0  Great communities. Working lands. Iconic Places.  91.94    OR   \n",
       "1                  88.1 FM -. Your NPR News Station  85.59    MD   \n",
       "2                     Spirit Catholic Radio Network  76.80    NE   \n",
       "3          Engaging, educating, and enriching lives  91.95    UT   \n",
       "4                     Shoepeople Helping Shoepeople  90.26    MA   \n",
       "\n",
       "                                              corpus  \n",
       "0  Environment Working with Oregonians to enhance...  \n",
       "1  Arts, Culture, Humanities Serving the metropol...  \n",
       "2  Religion VSS Catholic Communications is dedica...  \n",
       "3  Arts, Culture, Humanities The mission of the U...  \n",
       "4  Human Services Funded solely by the footwear i...  "
      ]
     },
     "execution_count": 71,
     "metadata": {},
     "output_type": "execute_result"
    }
   ],
   "source": [
    "charity_navigator_df.head()"
   ]
  },
  {
   "cell_type": "code",
   "execution_count": 45,
   "metadata": {},
   "outputs": [
    {
     "data": {
      "text/plain": [
       "category\n",
       "Human Services                2379\n",
       "Arts, Culture, Humanities     1218\n",
       "Health                         847\n",
       "Community Development          803\n",
       "Education                      667\n",
       "International                  610\n",
       "Animals                        454\n",
       "Religion                       450\n",
       "Environment                    429\n",
       "Human and Civil Rights         346\n",
       "Research and Public Policy     205\n",
       "dtype: int64"
      ]
     },
     "execution_count": 45,
     "metadata": {},
     "output_type": "execute_result"
    }
   ],
   "source": [
    "charity_navigator_df.groupby('category').size().sort_values(ascending=False)"
   ]
  },
  {
   "cell_type": "code",
   "execution_count": 59,
   "metadata": {},
   "outputs": [
    {
     "data": {
      "text/plain": [
       "672.0"
      ]
     },
     "execution_count": 59,
     "metadata": {},
     "output_type": "execute_result"
    }
   ],
   "source": [
    "char_corp_lengths = []\n",
    "for i in temp_df2['corpus']:\n",
    "    char_corp_lengths.append(len(i))\n",
    "char_corp_lengths = np.array(char_corp_lengths)\n",
    "np.median(char_corp_lengths)"
   ]
  },
  {
   "cell_type": "code",
   "execution_count": 58,
   "metadata": {},
   "outputs": [
    {
     "data": {
      "image/png": "[encoded data removed]",
      "text/plain": [
       "<Figure size 864x576 with 1 Axes>"
      ]
     },
     "metadata": {
      "needs_background": "light"
     },
     "output_type": "display_data"
    }
   ],
   "source": [
    "# Histogram of Charity Document Charity Lengths\n",
    "fig, ax = plt.subplots(figsize=(12,8))\n",
    "\n",
    "ax = sns.distplot(char_corp_lengths,color = 'b',kde=False,hist=True,norm_hist=False)\n",
    "\n",
    "# Title\n",
    "ax.set_title(label=\"Charity Document Character Lengths\",weight='bold',fontsize=35)\n",
    "\n",
    "# X-axis\n",
    "x_tick_nums = np.arange(0,1601,200)\n",
    "ax.set_xticks(x_tick_nums)\n",
    "ax.set_xticklabels(labels=x_tick_nums,weight='bold',fontsize=25)\n",
    "ax.set_xlabel(xlabel=\"Document Lengths (Characters)\",weight='bold',fontsize=30)\n",
    "\n",
    "# Y-axis\n",
    "y_tick_nums = np.arange(0,701,100)\n",
    "ax.set_yticks(y_tick_nums)\n",
    "ax.set_yticklabels(labels=y_tick_nums,weight='bold',fontsize=25)\n",
    "ax.set_ylabel(ylabel=\"Frequency\",weight='bold',fontsize=30)\n",
    "\n",
    "plt.tight_layout()\n",
    "\n",
    "# plt.savefig('CharityDescCharacterLengths.png')"
   ]
  },
  {
   "cell_type": "code",
   "execution_count": 10,
   "metadata": {},
   "outputs": [],
   "source": [
    "# There are 11 Categories Total\n",
    "## A \"Random Guess\" Baseline is 1/11 = 9.09%"
   ]
  },
  {
   "cell_type": "code",
   "execution_count": null,
   "metadata": {},
   "outputs": [],
   "source": []
  },
  {
   "cell_type": "markdown",
   "metadata": {},
   "source": [
    "## Modeling"
   ]
  },
  {
   "cell_type": "markdown",
   "metadata": {},
   "source": [
    "## Evaluating Model on Same Category Accuracy"
   ]
  },
  {
   "cell_type": "code",
   "execution_count": 94,
   "metadata": {},
   "outputs": [
    {
     "name": "stdout",
     "output_type": "stream",
     "text": [
      "1. Processing Training Corpus\n",
      "2. Creating Index from Training Corpus\n",
      "3. Starting Test Corpus Similarity Analysis\n",
      "\n",
      "Analyzed 500 documents...\n",
      "Analyzed 1000 documents...\n",
      "Analyzed 1500 documents...\n",
      "Analyzed 2000 documents...\n",
      "Analyzed 2500 documents...\n",
      "Analyzed 3000 documents...\n",
      "Analyzed 3500 documents...\n",
      "Analyzed 4000 documents...\n",
      "Analyzed 4500 documents...\n",
      "Analyzed 5000 documents...\n",
      "Analyzed 5500 documents...\n",
      "Analyzed 6000 documents...\n",
      "Analyzed 6500 documents...\n",
      "Analyzed 7000 documents...\n",
      "Analyzed 7500 documents...\n",
      "Analyzed 8000 documents...\n",
      "\n",
      "First Recommendation Score: 64.18 %\n",
      "Second Recommendation Score: 62.65 %\n",
      "Third Recommendation Score: 61.55 %\n",
      "\n",
      "AVG Recommendation Score: 62.79 %\n"
     ]
    },
    {
     "data": {
      "text/plain": [
       "{4463: 0.34888342, 4566: 0.26108187, 5495: 0.23793216}"
      ]
     },
     "execution_count": 94,
     "metadata": {},
     "output_type": "execute_result"
    }
   ],
   "source": [
    "find_similar_charities_category_score(charity_navigator_df,charity_navigator_df,\"description\")"
   ]
  },
  {
   "cell_type": "code",
   "execution_count": 95,
   "metadata": {},
   "outputs": [
    {
     "name": "stdout",
     "output_type": "stream",
     "text": [
      "1. Processing Training Corpus\n",
      "2. Creating Index from Training Corpus\n",
      "3. Starting Test Corpus Similarity Analysis\n",
      "\n",
      "Analyzed 500 documents...\n",
      "Analyzed 1000 documents...\n",
      "Analyzed 1500 documents...\n",
      "Analyzed 2000 documents...\n",
      "Analyzed 2500 documents...\n",
      "Analyzed 3000 documents...\n",
      "Analyzed 3500 documents...\n",
      "Analyzed 4000 documents...\n",
      "Analyzed 4500 documents...\n",
      "Analyzed 5000 documents...\n",
      "Analyzed 5500 documents...\n",
      "Analyzed 6000 documents...\n",
      "Analyzed 6500 documents...\n",
      "Analyzed 7000 documents...\n",
      "Analyzed 7500 documents...\n",
      "Analyzed 8000 documents...\n",
      "\n",
      "First Recommendation Score: 66.2 %\n",
      "Second Recommendation Score: 63.59 %\n",
      "Third Recommendation Score: 63.31 %\n",
      "\n",
      "AVG Recommendation Score: 64.37 %\n"
     ]
    },
    {
     "data": {
      "text/plain": [
       "{4463: 0.276772, 4566: 0.21008909, 7388: 0.18323708}"
      ]
     },
     "execution_count": 95,
     "metadata": {},
     "output_type": "execute_result"
    }
   ],
   "source": [
    "find_similar_charities_category_score(charity_navigator_df,charity_navigator_df,\"corpus\")"
   ]
  },
  {
   "cell_type": "code",
   "execution_count": 96,
   "metadata": {},
   "outputs": [
    {
     "name": "stdout",
     "output_type": "stream",
     "text": [
      "1. Processing Training Corpus\n",
      "2. Creating Index from Training Corpus\n",
      "3. Starting Test Corpus Similarity Analysis\n",
      "\n",
      "Analyzed 500 documents...\n",
      "Analyzed 1000 documents...\n",
      "Analyzed 1500 documents...\n",
      "Analyzed 2000 documents...\n",
      "Analyzed 2500 documents...\n",
      "Analyzed 3000 documents...\n",
      "Analyzed 3500 documents...\n",
      "Analyzed 4000 documents...\n",
      "Analyzed 4500 documents...\n",
      "Analyzed 5000 documents...\n",
      "Analyzed 5500 documents...\n",
      "Analyzed 6000 documents...\n",
      "Analyzed 6500 documents...\n",
      "Analyzed 7000 documents...\n",
      "Analyzed 7500 documents...\n",
      "Analyzed 8000 documents...\n",
      "\n",
      "First Recommendation Score: 40.02 %\n",
      "Second Recommendation Score: 34.17 %\n",
      "Third Recommendation Score: 34.63 %\n",
      "\n",
      "AVG Recommendation Score: 36.27 %\n"
     ]
    },
    {
     "data": {
      "text/plain": [
       "{5666: 0.7845843, 5880: 0.74907124, 3050: 0.65272915}"
      ]
     },
     "execution_count": 96,
     "metadata": {},
     "output_type": "execute_result"
    }
   ],
   "source": [
    "find_similar_charities_category_score(charity_navigator_df,charity_navigator_df,\"motto\")"
   ]
  },
  {
   "cell_type": "code",
   "execution_count": 108,
   "metadata": {},
   "outputs": [
    {
     "name": "stdout",
     "output_type": "stream",
     "text": [
      "description 62.79\n",
      "corpus 64.37\n",
      "motto 36.27\n"
     ]
    }
   ],
   "source": [
    "category_dict = dict()\n",
    "category_dict['description'] = 62.79\n",
    "category_dict['corpus'] = 64.37\n",
    "category_dict['motto'] = 36.27\n",
    "for key,val in category_dict.items():\n",
    "    print(key, val)"
   ]
  },
  {
   "cell_type": "code",
   "execution_count": null,
   "metadata": {},
   "outputs": [],
   "source": []
  },
  {
   "cell_type": "markdown",
   "metadata": {},
   "source": [
    "## Evaluating Model on Similarity Score Accuracy"
   ]
  },
  {
   "cell_type": "code",
   "execution_count": 87,
   "metadata": {
    "scrolled": false
   },
   "outputs": [
    {
     "name": "stdout",
     "output_type": "stream",
     "text": [
      "1. Processing Training Corpus\n",
      "2. Creating Index from Training Corpus\n",
      "3. Starting Test Corpus Similarity Analysis\n",
      "\n",
      "Analyzed 500 documents...\n",
      "Analyzed 1000 documents...\n",
      "Analyzed 1500 documents...\n",
      "Analyzed 2000 documents...\n",
      "Analyzed 2500 documents...\n",
      "Analyzed 3000 documents...\n",
      "Analyzed 3500 documents...\n",
      "Analyzed 4000 documents...\n",
      "Analyzed 4500 documents...\n",
      "Analyzed 5000 documents...\n",
      "Analyzed 5500 documents...\n",
      "Analyzed 6000 documents...\n",
      "Analyzed 6500 documents...\n",
      "Analyzed 7000 documents...\n",
      "Analyzed 7500 documents...\n",
      "Analyzed 8000 documents...\n",
      "\n",
      "First Recommendation Score: 27.81 %\n",
      "Second Recommendation Score: 24.0 %\n",
      "Third Recommendation Score: 22.09 %\n",
      "\n",
      "AVG Recommendation Score: 24.63 %\n"
     ]
    },
    {
     "data": {
      "text/plain": [
       "{4463: 0.34888342, 4566: 0.26108187, 5495: 0.23793216}"
      ]
     },
     "execution_count": 87,
     "metadata": {},
     "output_type": "execute_result"
    }
   ],
   "source": [
    "find_similar_charities_similar_score(charity_navigator_df,charity_navigator_df,\"description\")"
   ]
  },
  {
   "cell_type": "code",
   "execution_count": 117,
   "metadata": {},
   "outputs": [
    {
     "name": "stdout",
     "output_type": "stream",
     "text": [
      "1. Processing Training Corpus\n",
      "2. Creating Index from Training Corpus\n",
      "3. Starting Test Corpus Similarity Analysis\n",
      "\n",
      "Analyzed 500 documents...\n",
      "Analyzed 1000 documents...\n",
      "Analyzed 1500 documents...\n",
      "Analyzed 2000 documents...\n",
      "Analyzed 2500 documents...\n",
      "Analyzed 3000 documents...\n",
      "Analyzed 3500 documents...\n",
      "Analyzed 4000 documents...\n",
      "Analyzed 4500 documents...\n",
      "Analyzed 5000 documents...\n",
      "Analyzed 5500 documents...\n",
      "Analyzed 6000 documents...\n",
      "Analyzed 6500 documents...\n",
      "Analyzed 7000 documents...\n",
      "Analyzed 7500 documents...\n",
      "Analyzed 8000 documents...\n",
      "\n",
      "First Recommendation Score: 30.4 %\n",
      "Second Recommendation Score: 26.53 %\n",
      "Third Recommendation Score: 24.52 %\n",
      "\n",
      "AVG Recommendation Score: 27.15 %\n"
     ]
    },
    {
     "data": {
      "text/plain": [
       "{4463: 0.276772, 4566: 0.2360477, 7388: 0.18839781}"
      ]
     },
     "execution_count": 117,
     "metadata": {},
     "output_type": "execute_result"
    }
   ],
   "source": [
    "# Word Needs to Be in at least 4 documents:\n",
    "find_similar_charities_similar_score(charity_navigator_df,charity_navigator_df,\"corpus\")"
   ]
  },
  {
   "cell_type": "code",
   "execution_count": 89,
   "metadata": {
    "scrolled": false
   },
   "outputs": [
    {
     "name": "stdout",
     "output_type": "stream",
     "text": [
      "1. Processing Training Corpus\n",
      "2. Creating Index from Training Corpus\n",
      "3. Starting Test Corpus Similarity Analysis\n",
      "\n",
      "Analyzed 500 documents...\n",
      "Analyzed 1000 documents...\n",
      "Analyzed 1500 documents...\n",
      "Analyzed 2000 documents...\n",
      "Analyzed 2500 documents...\n",
      "Analyzed 3000 documents...\n",
      "Analyzed 3500 documents...\n",
      "Analyzed 4000 documents...\n",
      "Analyzed 4500 documents...\n",
      "Analyzed 5000 documents...\n",
      "Analyzed 5500 documents...\n",
      "Analyzed 6000 documents...\n",
      "Analyzed 6500 documents...\n",
      "Analyzed 7000 documents...\n",
      "Analyzed 7500 documents...\n",
      "Analyzed 8000 documents...\n",
      "\n",
      "First Recommendation Score: 49.13 %\n",
      "Second Recommendation Score: 44.25 %\n",
      "Third Recommendation Score: 40.96 %\n",
      "\n",
      "AVG Recommendation Score: 44.78 %\n"
     ]
    },
    {
     "data": {
      "text/plain": [
       "{5666: 0.7845843, 5880: 0.74907124, 3050: 0.65272915}"
      ]
     },
     "execution_count": 89,
     "metadata": {},
     "output_type": "execute_result"
    }
   ],
   "source": [
    "find_similar_charities_similar_score(charity_navigator_df,charity_navigator_df,\"motto\")"
   ]
  },
  {
   "cell_type": "code",
   "execution_count": 109,
   "metadata": {},
   "outputs": [
    {
     "name": "stdout",
     "output_type": "stream",
     "text": [
      "description 24.63\n",
      "corpus 25.72\n",
      "motto 44.78\n"
     ]
    }
   ],
   "source": [
    "similar_dict = dict()\n",
    "similar_dict['description'] = 24.63\n",
    "similar_dict['corpus'] = 25.72\n",
    "similar_dict['motto'] = 44.78\n",
    "for key,val in similar_dict.items():\n",
    "    print(key, val)"
   ]
  },
  {
   "cell_type": "code",
   "execution_count": null,
   "metadata": {},
   "outputs": [],
   "source": []
  },
  {
   "cell_type": "code",
   "execution_count": 170,
   "metadata": {},
   "outputs": [
    {
     "name": "stdout",
     "output_type": "stream",
     "text": [
      "1. Processing Training Corpus\n",
      "2. Creating Model from Training Corpus\n",
      "ValuesView(<gensim.corpora.dictionary.Dictionary object at 0x1a2c231c50>)\n",
      "3. Starting Test Corpus Similarity Analysis\n",
      "\n",
      "\n",
      "First Recommendation Score: 21.27 %\n",
      "Second Recommendation Score: 15.5 %\n",
      "Third Recommendation Score: 14.48 %\n",
      "\n",
      "AVG Recommendation Score: 17.08 %\n"
     ]
    },
    {
     "data": {
      "text/plain": [
       "{7243: 0.21273313, 1557: 0.15501666, 7368: 0.14479208}"
      ]
     },
     "execution_count": 170,
     "metadata": {},
     "output_type": "execute_result"
    }
   ],
   "source": [
    "find_similar_charities_from_search(charity_navigator_df,\"This thing about fantastic 4 was super exciting\")"
   ]
  },
  {
   "cell_type": "code",
   "execution_count": null,
   "metadata": {},
   "outputs": [],
   "source": []
  },
  {
   "cell_type": "code",
   "execution_count": 208,
   "metadata": {},
   "outputs": [],
   "source": [
    "texts = [['human', 'interface', 'computer', 'determine']]\n",
    "dct = Dictionary(texts)"
   ]
  },
  {
   "cell_type": "code",
   "execution_count": 209,
   "metadata": {},
   "outputs": [
    {
     "data": {
      "text/plain": [
       "<gensim.corpora.dictionary.Dictionary at 0x1a27c01fd0>"
      ]
     },
     "execution_count": 209,
     "metadata": {},
     "output_type": "execute_result"
    }
   ],
   "source": [
    "dct"
   ]
  },
  {
   "cell_type": "code",
   "execution_count": 210,
   "metadata": {},
   "outputs": [],
   "source": [
    "dict_list = []\n",
    "for i in range(len(dct)):\n",
    "    dict_list.append(dct[i])\n",
    "dict_list = np.array(dict_list)"
   ]
  },
  {
   "cell_type": "code",
   "execution_count": 211,
   "metadata": {},
   "outputs": [
    {
     "data": {
      "text/plain": [
       "array(['computer', 'determine', 'human', 'interface'], dtype='<U9')"
      ]
     },
     "execution_count": 211,
     "metadata": {},
     "output_type": "execute_result"
    }
   ],
   "source": [
    "dict_list"
   ]
  },
  {
   "cell_type": "code",
   "execution_count": 212,
   "metadata": {},
   "outputs": [
    {
     "data": {
      "text/plain": [
       "'Here we lie on the edge of the world, and try to determine if the existence of life is futile already'"
      ]
     },
     "execution_count": 212,
     "metadata": {},
     "output_type": "execute_result"
    }
   ],
   "source": [
    "text2"
   ]
  },
  {
   "cell_type": "code",
   "execution_count": 213,
   "metadata": {},
   "outputs": [
    {
     "data": {
      "text/plain": [
       "'Some text to analyze similarity for and determine if there is any cosine similarity to documents already in the database'"
      ]
     },
     "execution_count": 213,
     "metadata": {},
     "output_type": "execute_result"
    }
   ],
   "source": [
    "text1"
   ]
  },
  {
   "cell_type": "code",
   "execution_count": 215,
   "metadata": {},
   "outputs": [],
   "source": [
    "dctx = create_sim_word_dict(text1, text2, dct)"
   ]
  },
  {
   "cell_type": "code",
   "execution_count": 217,
   "metadata": {},
   "outputs": [
    {
     "data": {
      "text/plain": [
       "{'determine': 1}"
      ]
     },
     "execution_count": 217,
     "metadata": {},
     "output_type": "execute_result"
    }
   ],
   "source": [
    "dctx"
   ]
  },
  {
   "cell_type": "code",
   "execution_count": 220,
   "metadata": {},
   "outputs": [
    {
     "name": "stdout",
     "output_type": "stream",
     "text": [
      "determine : 1\n"
     ]
    }
   ],
   "source": [
    "for i in sorted (dctx) : \n",
    "    print (i,\":\", dctx[i])"
   ]
  },
  {
   "cell_type": "code",
   "execution_count": 221,
   "metadata": {},
   "outputs": [],
   "source": [
    "text1 = 'The mission of the National Veterans Foundation (NVF) is to serve the crisis management, information and referral needs of all U.S. Veterans and their families through: Management and operation of the nations only toll-free helpline for all veterans and their families. Public awareness programs that shine a consistent spotlight on the needs of Americas veterans. NVF offers outreach services that provide veterans and families in need with food, clothing, transportation, employment, and other essential resources. The founder of the National Veterans Foundation, Floyd Shad Meshad has been working with Veterans since 1970. Meshad was a Medical Service Officer during the Vietnam War, where he counseled soldiers in the field who were suffering from a multitude of psychological and emotional problems resulting from their experiences in combat, including what would later become known as Post Traumatic Stress Disorder, or PTSD.'"
   ]
  },
  {
   "cell_type": "code",
   "execution_count": null,
   "metadata": {},
   "outputs": [],
   "source": []
  },
  {
   "cell_type": "code",
   "execution_count": 224,
   "metadata": {
    "collapsed": true
   },
   "outputs": [
    {
     "data": {
      "text/plain": [
       "['the',\n",
       " 'mission',\n",
       " 'of',\n",
       " 'the',\n",
       " 'national',\n",
       " 'veterans',\n",
       " 'foundation',\n",
       " '(nvf)',\n",
       " 'is',\n",
       " 'to',\n",
       " 'serve',\n",
       " 'the',\n",
       " 'crisis',\n",
       " 'management,',\n",
       " 'information',\n",
       " 'and',\n",
       " 'referral',\n",
       " 'needs',\n",
       " 'of',\n",
       " 'all',\n",
       " 'u.s.',\n",
       " 'veterans',\n",
       " 'and',\n",
       " 'their',\n",
       " 'families',\n",
       " 'through:',\n",
       " 'management',\n",
       " 'and',\n",
       " 'operation',\n",
       " 'of',\n",
       " 'the',\n",
       " 'nations',\n",
       " 'only',\n",
       " 'toll-free',\n",
       " 'helpline',\n",
       " 'for',\n",
       " 'all',\n",
       " 'veterans',\n",
       " 'and',\n",
       " 'their',\n",
       " 'families.',\n",
       " 'public',\n",
       " 'awareness',\n",
       " 'programs',\n",
       " 'that',\n",
       " 'shine',\n",
       " 'a',\n",
       " 'consistent',\n",
       " 'spotlight',\n",
       " 'on',\n",
       " 'the',\n",
       " 'needs',\n",
       " 'of',\n",
       " 'americas',\n",
       " 'veterans.',\n",
       " 'nvf',\n",
       " 'offers',\n",
       " 'outreach',\n",
       " 'services',\n",
       " 'that',\n",
       " 'provide',\n",
       " 'veterans',\n",
       " 'and',\n",
       " 'families',\n",
       " 'in',\n",
       " 'need',\n",
       " 'with',\n",
       " 'food,',\n",
       " 'clothing,',\n",
       " 'transportation,',\n",
       " 'employment,',\n",
       " 'and',\n",
       " 'other',\n",
       " 'essential',\n",
       " 'resources.',\n",
       " 'the',\n",
       " 'founder',\n",
       " 'of',\n",
       " 'the',\n",
       " 'national',\n",
       " 'veterans',\n",
       " 'foundation,',\n",
       " 'floyd',\n",
       " 'shad',\n",
       " 'meshad',\n",
       " 'has',\n",
       " 'been',\n",
       " 'working',\n",
       " 'with',\n",
       " 'veterans',\n",
       " 'since',\n",
       " '1970.',\n",
       " 'meshad',\n",
       " 'was',\n",
       " 'a',\n",
       " 'medical',\n",
       " 'service',\n",
       " 'officer',\n",
       " 'during',\n",
       " 'the',\n",
       " 'vietnam',\n",
       " 'war,',\n",
       " 'where',\n",
       " 'he',\n",
       " 'counseled',\n",
       " 'soldiers',\n",
       " 'in',\n",
       " 'the',\n",
       " 'field',\n",
       " 'who',\n",
       " 'were',\n",
       " 'suffering',\n",
       " 'from',\n",
       " 'a',\n",
       " 'multitude',\n",
       " 'of',\n",
       " 'psychological',\n",
       " 'and',\n",
       " 'emotional',\n",
       " 'problems',\n",
       " 'resulting',\n",
       " 'from',\n",
       " 'their',\n",
       " 'experiences',\n",
       " 'in',\n",
       " 'combat,',\n",
       " 'including',\n",
       " 'what',\n",
       " 'would',\n",
       " 'later',\n",
       " 'become',\n",
       " 'known',\n",
       " 'as',\n",
       " 'post',\n",
       " 'traumatic',\n",
       " 'stress',\n",
       " 'disorder,',\n",
       " 'or',\n",
       " 'ptsd.']"
      ]
     },
     "execution_count": 224,
     "metadata": {},
     "output_type": "execute_result"
    }
   ],
   "source": [
    "text1.lower().split()"
   ]
  },
  {
   "cell_type": "code",
   "execution_count": 235,
   "metadata": {},
   "outputs": [],
   "source": [
    "t1 = charity_navigator_df.corpus[1]"
   ]
  },
  {
   "cell_type": "code",
   "execution_count": 234,
   "metadata": {},
   "outputs": [],
   "source": [
    "t2 = charity_navigator_df.corpus[3]"
   ]
  },
  {
   "cell_type": "code",
   "execution_count": 236,
   "metadata": {},
   "outputs": [],
   "source": [
    "dctx = create_sim_word_dict(text1, text2, dct)"
   ]
  },
  {
   "cell_type": "code",
   "execution_count": 237,
   "metadata": {},
   "outputs": [
    {
     "data": {
      "text/plain": [
       "{}"
      ]
     },
     "execution_count": 237,
     "metadata": {},
     "output_type": "execute_result"
    }
   ],
   "source": [
    "dctx"
   ]
  },
  {
   "cell_type": "code",
   "execution_count": null,
   "metadata": {},
   "outputs": [],
   "source": []
  }
 ],
 "metadata": {
  "kernelspec": {
   "display_name": "Python 3",
   "language": "python",
   "name": "python3"
  },
  "language_info": {
   "codemirror_mode": {
    "name": "ipython",
    "version": 3
   },
   "file_extension": ".py",
   "mimetype": "text/x-python",
   "name": "python",
   "nbconvert_exporter": "python",
   "pygments_lexer": "ipython3",
   "version": "3.7.4"
  }
 },
 "nbformat": 4,
 "nbformat_minor": 2
}
