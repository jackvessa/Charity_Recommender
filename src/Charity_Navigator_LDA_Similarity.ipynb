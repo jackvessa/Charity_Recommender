{
 "cells": [
  {
   "cell_type": "markdown",
   "metadata": {},
   "source": [
    "## Imports"
   ]
  },
  {
   "cell_type": "code",
   "execution_count": 24,
   "metadata": {},
   "outputs": [],
   "source": [
    "import numpy as np\n",
    "import pandas as pd\n",
    "import datetime\n",
    "import math\n",
    "import random\n",
    "import sys\n",
    "\n",
    "pd.options.display.max_columns = 50"
   ]
  },
  {
   "cell_type": "code",
   "execution_count": 2,
   "metadata": {},
   "outputs": [],
   "source": [
    "import scipy.sparse as sparse\n",
    "from scipy.sparse.linalg import spsolve\n",
    "from sklearn.preprocessing import MinMaxScaler\n",
    "from sklearn.model_selection import train_test_split"
   ]
  },
  {
   "cell_type": "code",
   "execution_count": 61,
   "metadata": {},
   "outputs": [],
   "source": [
    "# Plots\n",
    "import matplotlib.pyplot as plt\n",
    "import seaborn as sns\n",
    "from scipy import stats\n",
    "sns.set(color_codes=True)"
   ]
  },
  {
   "cell_type": "code",
   "execution_count": 3,
   "metadata": {},
   "outputs": [],
   "source": [
    "import pprint\n",
    "from collections import defaultdict\n",
    "from gensim import corpora, models, similarities\n",
    "# NLTK Stop words\n",
    "from nltk.corpus import stopwords\n"
   ]
  },
  {
   "cell_type": "markdown",
   "metadata": {},
   "source": [
    "## Functions"
   ]
  },
  {
   "cell_type": "code",
   "execution_count": 48,
   "metadata": {},
   "outputs": [],
   "source": [
    "def set_labels(freq, ax,horz_shift=.2,vert_shift=1000,w=\"bold\",fsize=10,c=\"b\"):\n",
    "    '''\n",
    "    Function\n",
    "    --------\n",
    "    Set Frequency Labels on Bar Plot\n",
    "    \n",
    "    Parameters\n",
    "    ----------\n",
    "    freq : List of frequencies to plot for each bar\n",
    "    ax : Axis to Plot Frequency Labels on\n",
    "    horz_shift : Shift labels left/right\n",
    "    vert_shift : Shift labels up/down\n",
    "    w : \"weight\" -> Bold by defauly\n",
    "    fsize : fontsize\n",
    "    c : label color\n",
    "    \n",
    "    '''\n",
    "    for i, v in enumerate(freq):\n",
    "        ax.text(i-horz_shift,v+vert_shift, str(round(v,2)), weight = w,fontsize=fsize,color = c)"
   ]
  },
  {
   "cell_type": "code",
   "execution_count": 4,
   "metadata": {},
   "outputs": [],
   "source": [
    "def process_corpus(text_corpus):\n",
    "    '''\n",
    "    '''\n",
    "    # Create a set of frequent words\n",
    "#     stoplist = \"\"\n",
    "#     stoplist = set('for a of the and to in is our with we that by their through as\\\n",
    "#                    are mission on'.split(' '))\n",
    "    \n",
    "    stop_words = stopwords.words('english')\n",
    "    stop_words.extend(['from', 'subject', 're', 'edu', 'use', 'not', 'would', 'say', 'could', '_',\n",
    "                   'be', 'know', 'good', 'go', 'get', 'do', 'done', 'try', 'many', 'some', 'nice', \n",
    "                   'thank', 'think', 'see', 'rather', 'easy', 'easily', 'lot', 'lack', 'make', 'want', \n",
    "                   'seem', 'run', 'need', 'even', 'right', 'line', 'even', 'also', 'may', 'take', 'come'])\n",
    "    \n",
    "    \n",
    "    # Lowercase each document, split it by white space and filter out stopwords\n",
    "    texts = \"\"\n",
    "    texts = [[word for word in document.lower().split() if word not in stop_words] for document in text_corpus]\n",
    "    \n",
    "    # Count word frequencies\n",
    "    frequency = defaultdict(int)\n",
    "    \n",
    "    for text in texts:\n",
    "        for token in text:\n",
    "            frequency[token] += 1\n",
    "    \n",
    "    words_df = pd.DataFrame(list(frequency.items()), columns= ['Words','count']).sort_values('count',ascending=False)\n",
    "    \n",
    "    ten_percent_cutoff = (int(len(text_corpus)*0.1))\n",
    "            \n",
    "    # Only keep words that appear more than once, are in less than 10% of documents, and are alphabetical strings\n",
    "    processed_corpus = []\n",
    "    \n",
    "    for text in texts:\n",
    "        token_list = []\n",
    "        for token in text:\n",
    "            if frequency[token] > 1 and frequency[token] < ten_percent_cutoff and str.isalpha(token):\n",
    "                token_list.append(token)\n",
    "        processed_corpus.append(token_list)\n",
    "    \n",
    "    return processed_corpus"
   ]
  },
  {
   "cell_type": "code",
   "execution_count": 5,
   "metadata": {},
   "outputs": [],
   "source": [
    "def create_index_from_corpus(processed_corpus):\n",
    "    '''\n",
    "    '''\n",
    "    dictionary = corpora.Dictionary(processed_corpus)\n",
    "    features = (len(dictionary))\n",
    "    \n",
    "    bow_corpus = [dictionary.doc2bow(text) for text in processed_corpus]\n",
    "    \n",
    "    # train the model\n",
    "    tfidf = models.TfidfModel(bow_corpus)\n",
    "    \n",
    "    index = similarities.SparseMatrixSimilarity(tfidf[bow_corpus], num_features=features)\n",
    "    \n",
    "    return index, dictionary, tfidf"
   ]
  },
  {
   "cell_type": "code",
   "execution_count": 6,
   "metadata": {},
   "outputs": [],
   "source": [
    "def find_similar_charities(train_df,test_df):\n",
    "    '''\n",
    "    '''\n",
    "    total = 0\n",
    "    category_counter = {1:0,2:0,3:0}\n",
    "    document_min_words_cutoff = 200\n",
    "    \n",
    "    print(\"1. Processing Training Corpus\")\n",
    "    char_desc_trimmed = []\n",
    "    for doc in train_df['description']:\n",
    "        if len(doc) >= document_min_words_cutoff:\n",
    "            char_desc_trimmed.append(doc)\n",
    "    \n",
    "    char_desc_trimmed = np.array(char_desc_trimmed)\n",
    "    \n",
    "    corpus = char_desc_trimmed\n",
    "    processed_corpus = process_corpus(corpus)\n",
    "    \n",
    "    print(\"2. Creating Index from Training Corpus\")\n",
    "    index, dictionary, tfidf = create_index_from_corpus(processed_corpus)\n",
    "    \n",
    "    print(\"3. Starting Test Corpus Similarity Analysis\\n\")\n",
    "    for ind, document in enumerate(test_df['description']):\n",
    "        total +=1 \n",
    "        if total % 500 == 0:\n",
    "            print(\"Analyzed\",total,\"documents...\")\n",
    "        #print(\"Top 3 Charities Similar to:\", test_df['name'].iloc[ind],'\\n')\n",
    "        \n",
    "        query_bow = dictionary.doc2bow(document.split())\n",
    "        sims = index[tfidf[query_bow]]\n",
    "        \n",
    "        top_3_sim = dict()\n",
    "        count = 3\n",
    "        \n",
    "        for document_number, score in sorted(enumerate(sims), key=lambda x: x[1], reverse=True):\n",
    "            if count > 0:\n",
    "                top_3_sim[document_number] = score\n",
    "            count -= 1\n",
    "            \n",
    "        category_count = 1\n",
    "        \n",
    "        for doc, score in top_3_sim.items():\n",
    "            \n",
    "            if train_df['category'].iloc[doc] == test_df['category'].iloc[ind]:\n",
    "                category_counter[category_count] += 1\n",
    "            category_count +=1\n",
    "            \n",
    "    # Print Scores\n",
    "    \n",
    "    first_rec_score = round((category_counter[1] / total)*100,2)\n",
    "    second_rec_score = round((category_counter[2] / total)*100,2)\n",
    "    third_rec_score = round((category_counter[3] / total)*100,2)\n",
    "    \n",
    "    print (\"\\nFirst Recommendation Score:\", first_rec_score,\"%\")\n",
    "    print (\"Second Recommendation Score:\", second_rec_score,\"%\")   \n",
    "    print (\"Third Recommendation Score:\", third_rec_score,\"%\\n\")\n",
    "    \n",
    "    print (\"AVG Recommendation Score:\", round((first_rec_score+second_rec_score+third_rec_score)/3,2),\"%\")\n",
    "    \n",
    "    pass\n",
    "    "
   ]
  },
  {
   "cell_type": "code",
   "execution_count": 7,
   "metadata": {},
   "outputs": [],
   "source": [
    "def find_similar_charities_all(train_df,test_df):\n",
    "    '''\n",
    "    '''\n",
    "    total = 0\n",
    "    category_counter = {1:0,2:0,3:0}\n",
    "    document_min_words_cutoff = 200\n",
    "    \n",
    "    \n",
    "    print(\"1. Processing Training Corpus\")\n",
    "    char_desc_trimmed = []\n",
    "    for doc in train_df['description']:\n",
    "        if len(doc) >= document_min_words_cutoff:\n",
    "            char_desc_trimmed.append(doc)\n",
    "    char_desc_trimmed = np.array(char_desc_trimmed)\n",
    "    \n",
    "    corpus = char_desc_trimmed\n",
    "    processed_corpus = process_corpus(corpus)\n",
    "    \n",
    "    print(\"2. Creating Index from Training Corpus\")\n",
    "    index, dictionary, tfidf = create_index_from_corpus(processed_corpus)\n",
    "    \n",
    "    print(\"3. Starting Test Corpus Similarity Analysis\\n\")\n",
    "    for ind, document in enumerate(test_df['description']):\n",
    "        \n",
    "        total +=1 \n",
    "        \n",
    "        if total % 500 == 0:\n",
    "            print(\"Analyzed\",total,\"documents...\")\n",
    "        \n",
    "        print(document.lower())\n",
    "        \n",
    "        query_bow = dictionary.doc2bow(document.lower().split())\n",
    "        sims = index[tfidf[query_bow]]\n",
    "        \n",
    "        top_3_sim = dict()\n",
    "        count = 3\n",
    "        \n",
    "        print(sorted(enumerate(sims), key=lambda x: x[1], reverse=True)[:4])\n",
    "        \n",
    "        for document_number, score in sorted(enumerate(sims), key=lambda x: x[1], reverse=True)[:4]:\n",
    "            \n",
    "            if count > 0:\n",
    "                top_3_sim[document_number] = score\n",
    "            count -= 1\n",
    "            \n",
    "        category_count = 1\n",
    "        \n",
    "        for doc, score in top_3_sim.items():\n",
    "            print(train_df['name'][doc])\n",
    "            print(train_df['description'][doc])\n",
    "            print(doc, score, \"\\n\")\n",
    "            \n",
    "            # print (charity_navigator_df['category'][doc])\n",
    "            # print (test_df['category'].iloc[ind])\n",
    "            \n",
    "            \n",
    "            if train_df['category'][doc] == test_df['category'].iloc[ind]:\n",
    "                category_counter[category_count] += 1\n",
    "            category_count +=1\n",
    "            \n",
    "    # Print Scores\n",
    "    \n",
    "    first_rec_score = round((category_counter[1] / total)*100,2)\n",
    "    second_rec_score = round((category_counter[2] / total)*100,2)\n",
    "    third_rec_score = round((category_counter[3] / total)*100,2)\n",
    "    \n",
    "    print (\"\\nFirst Recommendation Score:\", first_rec_score,\"%\")\n",
    "    print (\"Second Recommendation Score:\", second_rec_score,\"%\")   \n",
    "    print (\"Third Recommendation Score:\", third_rec_score,\"%\\n\")\n",
    "    \n",
    "    print (\"AVG Recommendation Score:\", round((first_rec_score+second_rec_score+third_rec_score)/3,2),\"%\")\n",
    "    \n",
    "    pass\n",
    "    "
   ]
  },
  {
   "cell_type": "code",
   "execution_count": 116,
   "metadata": {},
   "outputs": [],
   "source": [
    "def find_similar_charities_combined(train_df,test_df):\n",
    "    '''\n",
    "    '''\n",
    "    total = 0\n",
    "    category_counter = {1:0,2:0,3:0}\n",
    "    document_min_words_cutoff = 200\n",
    "    \n",
    "    print(\"1. Processing Training Corpus\")\n",
    "#     char_desc_trimmed = []\n",
    "    \n",
    "#     for doc in train_df['corpus']:\n",
    "#         if len(doc) >= document_min_words_cutoff:\n",
    "#             char_desc_trimmed.append(doc)\n",
    "    \n",
    "    char_desc_trimmed = np.array(train_df['corpus'])\n",
    "    \n",
    "    corpus = char_desc_trimmed\n",
    "    processed_corpus = process_corpus(corpus)\n",
    "    \n",
    "    print(\"2. Creating Index from Training Corpus\")\n",
    "    index, dictionary, tfidf = create_index_from_corpus(processed_corpus)\n",
    "    \n",
    "    print(\"3. Starting Test Corpus Similarity Analysis\\n\")\n",
    "    for ind, document in enumerate(test_df['corpus']):\n",
    "        total +=1 \n",
    "        if total % 500 == 0:\n",
    "            print(\"Analyzed\",total,\"documents...\")\n",
    "        \n",
    "        \n",
    "        query_bow = dictionary.doc2bow(document.split())\n",
    "        sims = index[tfidf[query_bow]]\n",
    "        \n",
    "        top_3_sim = dict()\n",
    "        count = 3\n",
    "        \n",
    "        for document_number, score in sorted(enumerate(sims), key=lambda x: x[1], reverse=True)[1:4]:\n",
    "            \n",
    "            if count > 0:\n",
    "                top_3_sim[document_number] = score\n",
    "            count -= 1\n",
    "            \n",
    "        category_count = 1\n",
    "        \n",
    "#         print(\"Top 3 Charities Similar to:\\nName:\", test_df['name'].iloc[ind])\n",
    "#         print('Category:', test_df['category'].iloc[ind],'\\n')\n",
    "        \n",
    "        for doc, score in top_3_sim.items():\n",
    "#             print(\"Name:\",train_df['name'].iloc[doc])\n",
    "#             print(\"Category:\", train_df['category'].iloc[doc])\n",
    "#             print(\"Score:\",score)\n",
    "            \n",
    "            if train_df['category'].iloc[doc] == test_df['category'].iloc[ind]:\n",
    "                category_counter[category_count] += 1\n",
    "            category_count +=1\n",
    "#         print(\"\")\n",
    "            \n",
    "    # Print Scores\n",
    "    \n",
    "    first_rec_score = round((category_counter[1] / total)*100,2)\n",
    "    second_rec_score = round((category_counter[2] / total)*100,2)\n",
    "    third_rec_score = round((category_counter[3] / total)*100,2)\n",
    "    \n",
    "    print (\"\\nFirst Recommendation Score:\", first_rec_score,\"%\")\n",
    "    print (\"Second Recommendation Score:\", second_rec_score,\"%\")   \n",
    "    print (\"Third Recommendation Score:\", third_rec_score,\"%\\n\")\n",
    "    \n",
    "    print (\"AVG Recommendation Score:\", round((first_rec_score+second_rec_score+third_rec_score)/3,2),\"%\")\n",
    "    \n",
    "    return top_3_sim\n",
    "    "
   ]
  },
  {
   "cell_type": "code",
   "execution_count": null,
   "metadata": {},
   "outputs": [],
   "source": []
  },
  {
   "cell_type": "markdown",
   "metadata": {},
   "source": [
    "## Loading Charity Navigator Data"
   ]
  },
  {
   "cell_type": "code",
   "execution_count": 9,
   "metadata": {},
   "outputs": [],
   "source": [
    "charity_navigator_df = pd.read_csv('../data/CLEAN_charity_data.csv')\n",
    "charity_navigator_df = charity_navigator_df[['name','ein','category','description','motto','score','state']]\n",
    "charity_navigator_df['ein'] = charity_navigator_df['ein'].apply(lambda x: int(x.replace(\"-\",\"\")))"
   ]
  },
  {
   "cell_type": "code",
   "execution_count": 47,
   "metadata": {},
   "outputs": [
    {
     "data": {
      "text/html": [
       "<div>\n",
       "<style scoped>\n",
       "    .dataframe tbody tr th:only-of-type {\n",
       "        vertical-align: middle;\n",
       "    }\n",
       "\n",
       "    .dataframe tbody tr th {\n",
       "        vertical-align: top;\n",
       "    }\n",
       "\n",
       "    .dataframe thead th {\n",
       "        text-align: right;\n",
       "    }\n",
       "</style>\n",
       "<table border=\"1\" class=\"dataframe\">\n",
       "  <thead>\n",
       "    <tr style=\"text-align: right;\">\n",
       "      <th></th>\n",
       "      <th>name</th>\n",
       "      <th>ein</th>\n",
       "      <th>category</th>\n",
       "      <th>description</th>\n",
       "      <th>motto</th>\n",
       "      <th>score</th>\n",
       "      <th>state</th>\n",
       "    </tr>\n",
       "  </thead>\n",
       "  <tbody>\n",
       "    <tr>\n",
       "      <td>0</td>\n",
       "      <td>1000 Friends of Oregon</td>\n",
       "      <td>930642086</td>\n",
       "      <td>Environment</td>\n",
       "      <td>Working with Oregonians to enhance our quality...</td>\n",
       "      <td>Great communities. Working lands. Iconic Places.</td>\n",
       "      <td>91.94</td>\n",
       "      <td>OR</td>\n",
       "    </tr>\n",
       "    <tr>\n",
       "      <td>1</td>\n",
       "      <td>WYPR</td>\n",
       "      <td>311770828</td>\n",
       "      <td>Arts, Culture, Humanities</td>\n",
       "      <td>Serving the metropolitan Baltimore area and th...</td>\n",
       "      <td>88.1 FM -. Your NPR News Station</td>\n",
       "      <td>85.59</td>\n",
       "      <td>MD</td>\n",
       "    </tr>\n",
       "    <tr>\n",
       "      <td>2</td>\n",
       "      <td>VSS Catholic Communications</td>\n",
       "      <td>911857425</td>\n",
       "      <td>Religion</td>\n",
       "      <td>VSS Catholic Communications is dedicated to an...</td>\n",
       "      <td>Spirit Catholic Radio Network</td>\n",
       "      <td>76.80</td>\n",
       "      <td>NE</td>\n",
       "    </tr>\n",
       "    <tr>\n",
       "      <td>3</td>\n",
       "      <td>Utah Symphony &amp; Opera</td>\n",
       "      <td>510145980</td>\n",
       "      <td>Arts, Culture, Humanities</td>\n",
       "      <td>The mission of the Utah Symphony &amp; Opera is to...</td>\n",
       "      <td>Engaging, educating, and enriching lives</td>\n",
       "      <td>91.95</td>\n",
       "      <td>UT</td>\n",
       "    </tr>\n",
       "    <tr>\n",
       "      <td>4</td>\n",
       "      <td>Two Ten Footwear Foundation</td>\n",
       "      <td>222579809</td>\n",
       "      <td>Human Services</td>\n",
       "      <td>Funded solely by the footwear industry, Two Te...</td>\n",
       "      <td>Shoepeople Helping Shoepeople</td>\n",
       "      <td>90.26</td>\n",
       "      <td>MA</td>\n",
       "    </tr>\n",
       "  </tbody>\n",
       "</table>\n",
       "</div>"
      ],
      "text/plain": [
       "                          name        ein                   category  \\\n",
       "0       1000 Friends of Oregon  930642086                Environment   \n",
       "1                         WYPR  311770828  Arts, Culture, Humanities   \n",
       "2  VSS Catholic Communications  911857425                   Religion   \n",
       "3        Utah Symphony & Opera  510145980  Arts, Culture, Humanities   \n",
       "4  Two Ten Footwear Foundation  222579809             Human Services   \n",
       "\n",
       "                                         description  \\\n",
       "0  Working with Oregonians to enhance our quality...   \n",
       "1  Serving the metropolitan Baltimore area and th...   \n",
       "2  VSS Catholic Communications is dedicated to an...   \n",
       "3  The mission of the Utah Symphony & Opera is to...   \n",
       "4  Funded solely by the footwear industry, Two Te...   \n",
       "\n",
       "                                              motto  score state  \n",
       "0  Great communities. Working lands. Iconic Places.  91.94    OR  \n",
       "1                  88.1 FM -. Your NPR News Station  85.59    MD  \n",
       "2                     Spirit Catholic Radio Network  76.80    NE  \n",
       "3          Engaging, educating, and enriching lives  91.95    UT  \n",
       "4                     Shoepeople Helping Shoepeople  90.26    MA  "
      ]
     },
     "execution_count": 47,
     "metadata": {},
     "output_type": "execute_result"
    }
   ],
   "source": [
    "charity_navigator_df.head()"
   ]
  },
  {
   "cell_type": "code",
   "execution_count": 45,
   "metadata": {},
   "outputs": [
    {
     "data": {
      "text/plain": [
       "category\n",
       "Human Services                2379\n",
       "Arts, Culture, Humanities     1218\n",
       "Health                         847\n",
       "Community Development          803\n",
       "Education                      667\n",
       "International                  610\n",
       "Animals                        454\n",
       "Religion                       450\n",
       "Environment                    429\n",
       "Human and Civil Rights         346\n",
       "Research and Public Policy     205\n",
       "dtype: int64"
      ]
     },
     "execution_count": 45,
     "metadata": {},
     "output_type": "execute_result"
    }
   ],
   "source": [
    "charity_navigator_df.groupby('category').size().sort_values(ascending=False)"
   ]
  },
  {
   "cell_type": "code",
   "execution_count": 59,
   "metadata": {},
   "outputs": [
    {
     "data": {
      "text/plain": [
       "'Working with Oregonians to enhance our quality of life by building livable urban and rural communities, protecting family farms and forests, and conserving natural areas.'"
      ]
     },
     "execution_count": 59,
     "metadata": {},
     "output_type": "execute_result"
    }
   ],
   "source": [
    "charity_navigator_df['description'][0]"
   ]
  },
  {
   "cell_type": "code",
   "execution_count": 94,
   "metadata": {},
   "outputs": [],
   "source": [
    "char_desc_lengths = []\n",
    "for i in charity_navigator_df['description']:\n",
    "    char_desc_lengths.append(len(i))\n",
    "char_desc_lengths = np.array(char_desc_lengths)"
   ]
  },
  {
   "cell_type": "code",
   "execution_count": 104,
   "metadata": {},
   "outputs": [
    {
     "data": {
      "text/plain": [
       "623.0"
      ]
     },
     "execution_count": 104,
     "metadata": {},
     "output_type": "execute_result"
    }
   ],
   "source": [
    "np.median(char_desc_lengths)"
   ]
  },
  {
   "cell_type": "code",
   "execution_count": 101,
   "metadata": {},
   "outputs": [
    {
     "data": {
      "image/png": "[encoded data removed]",
      "text/plain": [
       "<Figure size 864x576 with 1 Axes>"
      ]
     },
     "metadata": {
      "needs_background": "light"
     },
     "output_type": "display_data"
    }
   ],
   "source": [
    "fig, ax = plt.subplots(figsize=(12,8))\n",
    "\n",
    "ax = sns.distplot(char_desc_lengths,color = 'b',kde=False,hist=True,norm_hist=False)\n",
    "\n",
    "# Title\n",
    "ax.set_title(label=\"Charity Description Character Lengths\",weight='bold',fontsize=30)\n",
    "\n",
    "# X-axis\n",
    "x_tick_nums = np.arange(0,1601,200)\n",
    "ax.set_xticks(x_tick_nums)\n",
    "ax.set_xticklabels(labels=x_tick_nums,weight='bold',fontsize=20)\n",
    "ax.set_xlabel(xlabel=\"Description Lengths (Characters)\",weight='bold',fontsize=25)\n",
    "\n",
    "# Y-axis\n",
    "y_tick_nums = np.arange(0,701,100)\n",
    "ax.set_yticks(y_tick_nums)\n",
    "ax.set_yticklabels(labels=y_tick_nums,weight='bold',fontsize=20)\n",
    "ax.set_ylabel(ylabel=\"Frequency\",weight='bold',fontsize=25)\n",
    "\n",
    "plt.tight_layout()\n",
    "\n",
    "# plt.savefig('CharityDescCharacterLengths.png')"
   ]
  },
  {
   "cell_type": "code",
   "execution_count": null,
   "metadata": {},
   "outputs": [],
   "source": []
  },
  {
   "cell_type": "code",
   "execution_count": 10,
   "metadata": {},
   "outputs": [],
   "source": [
    "# There are 11 Categories Total\n",
    "## A \"Random Guess\" Baseline is 1/11 = 9.09%"
   ]
  },
  {
   "cell_type": "code",
   "execution_count": null,
   "metadata": {},
   "outputs": [],
   "source": []
  },
  {
   "cell_type": "markdown",
   "metadata": {},
   "source": [
    "## Modeling"
   ]
  },
  {
   "cell_type": "code",
   "execution_count": 11,
   "metadata": {},
   "outputs": [],
   "source": [
    "train_df = charity_navigator_df[:6000]\n",
    "char_desc_trimmed = []\n",
    "for doc in train_df['description']:\n",
    "    if len(doc) >= 200:\n",
    "        char_desc_trimmed.append(doc)\n",
    "char_desc_trimmed = np.array(char_desc_trimmed)"
   ]
  },
  {
   "cell_type": "code",
   "execution_count": 12,
   "metadata": {},
   "outputs": [
    {
     "data": {
      "text/plain": [
       "5616"
      ]
     },
     "execution_count": 12,
     "metadata": {},
     "output_type": "execute_result"
    }
   ],
   "source": [
    "len(char_desc_trimmed)"
   ]
  },
  {
   "cell_type": "code",
   "execution_count": null,
   "metadata": {},
   "outputs": [],
   "source": []
  },
  {
   "cell_type": "markdown",
   "metadata": {},
   "source": [
    "### Sequential Train/Test Split\n",
    "\n",
    "#### Best Scores:\n",
    "\n",
    "1. 17.23%\n",
    "2. 16.07%\n",
    "3. 16.03%\n",
    "\n",
    "#### Total = 16.44%"
   ]
  },
  {
   "cell_type": "code",
   "execution_count": 239,
   "metadata": {
    "scrolled": false
   },
   "outputs": [
    {
     "name": "stdout",
     "output_type": "stream",
     "text": [
      "1. Processing Training Corpus\n",
      "2. Creating Index from Training Corpus\n",
      "3. Starting Test Corpus Similarity Analysis\n",
      "\n",
      "Analyzed 500 documents...\n",
      "Analyzed 1000 documents...\n",
      "Analyzed 1500 documents...\n",
      "Analyzed 2000 documents...\n",
      "\n",
      "First Recommendation Score: 14.78 %\n",
      "Second Recommendation Score: 16.78 %\n",
      "Third Recommendation Score: 16.9 %\n",
      "\n",
      "AVG Recommendation Score: 16.15 %\n"
     ]
    }
   ],
   "source": [
    "train_df = charity_navigator_df[:6000]\n",
    "test_df = charity_navigator_df[6000:]\n",
    "\n",
    "find_similar_charities(train_df,test_df)"
   ]
  },
  {
   "cell_type": "code",
   "execution_count": null,
   "metadata": {},
   "outputs": [],
   "source": []
  },
  {
   "cell_type": "markdown",
   "metadata": {},
   "source": [
    "### Random Train/Test Split (Test Size = 30%)\n",
    "\n",
    "#### Best Scores:\n",
    "\n",
    "1. 14.70%\n",
    "2. 14.15%\n",
    "3. 15.74%\n",
    "\n",
    "#### Total = 14.86%"
   ]
  },
  {
   "cell_type": "code",
   "execution_count": 230,
   "metadata": {},
   "outputs": [
    {
     "data": {
      "text/plain": [
       "'Education'"
      ]
     },
     "execution_count": 230,
     "metadata": {},
     "output_type": "execute_result"
    }
   ],
   "source": [
    "test_df['category'].iloc[1695]"
   ]
  },
  {
   "cell_type": "code",
   "execution_count": 234,
   "metadata": {
    "scrolled": false
   },
   "outputs": [
    {
     "name": "stdout",
     "output_type": "stream",
     "text": [
      "1. Processing Training Corpus\n",
      "2. Creating Index from Training Corpus\n",
      "3. Starting Test Corpus Similarity Analysis\n",
      "\n",
      "Analyzed 500 documents...\n",
      "Analyzed 1000 documents...\n",
      "Analyzed 1500 documents...\n",
      "Analyzed 2000 documents...\n",
      "Analyzed 2500 documents...\n",
      "\n",
      "First Recommendation Score: 14.51 %\n",
      "Second Recommendation Score: 14.15 %\n",
      "Third Recommendation Score: 14.15 %\n",
      "\n",
      "AVG Recommendation Score: 14.27 %\n"
     ]
    }
   ],
   "source": [
    "train_df, test_df = train_test_split(charity_navigator_df,test_size = 0.30)\n",
    "\n",
    "find_similar_charities(train_df,test_df)"
   ]
  },
  {
   "cell_type": "markdown",
   "metadata": {},
   "source": [
    "### Random Train/Test Split (Test Size = 25%)\n",
    "\n",
    "#### Best Scores:\n",
    "\n",
    "1. 14.37%\n",
    "2. 14.13%\n",
    "3. 14.84%\n",
    "\n",
    "#### Total = 14.45%"
   ]
  },
  {
   "cell_type": "code",
   "execution_count": 236,
   "metadata": {},
   "outputs": [
    {
     "name": "stdout",
     "output_type": "stream",
     "text": [
      "1. Processing Training Corpus\n",
      "2. Creating Index from Training Corpus\n",
      "3. Starting Test Corpus Similarity Analysis\n",
      "\n",
      "Analyzed 500 documents...\n",
      "Analyzed 1000 documents...\n",
      "Analyzed 1500 documents...\n",
      "Analyzed 2000 documents...\n",
      "\n",
      "First Recommendation Score: 14.22 %\n",
      "Second Recommendation Score: 15.46 %\n",
      "Third Recommendation Score: 15.22 %\n",
      "\n",
      "AVG Recommendation Score: 14.97 %\n"
     ]
    }
   ],
   "source": [
    "train_df, test_df = train_test_split(charity_navigator_df,test_size = 0.25)\n",
    "\n",
    "find_similar_charities(train_df,test_df)"
   ]
  },
  {
   "cell_type": "markdown",
   "metadata": {},
   "source": [
    "### Random Train/Test Split (Test Size = 20%)\n",
    "\n",
    "#### Best Scores:\n",
    "\n",
    "1. 14.09%\n",
    "2. 15.40%\n",
    "3. 12.78%\n",
    "\n",
    "#### Total = 14.09%"
   ]
  },
  {
   "cell_type": "code",
   "execution_count": 237,
   "metadata": {},
   "outputs": [
    {
     "name": "stdout",
     "output_type": "stream",
     "text": [
      "1. Processing Training Corpus\n",
      "2. Creating Index from Training Corpus\n",
      "3. Starting Test Corpus Similarity Analysis\n",
      "\n",
      "Analyzed 500 documents...\n",
      "Analyzed 1000 documents...\n",
      "Analyzed 1500 documents...\n",
      "\n",
      "First Recommendation Score: 15.87 %\n",
      "Second Recommendation Score: 17.0 %\n",
      "Third Recommendation Score: 14.33 %\n",
      "\n",
      "AVG Recommendation Score: 15.73 %\n"
     ]
    }
   ],
   "source": [
    "train_df, test_df = train_test_split(charity_navigator_df,test_size = 0.20)\n",
    "\n",
    "find_similar_charities(train_df,test_df)"
   ]
  },
  {
   "cell_type": "code",
   "execution_count": null,
   "metadata": {},
   "outputs": [],
   "source": []
  },
  {
   "cell_type": "code",
   "execution_count": null,
   "metadata": {},
   "outputs": [],
   "source": []
  },
  {
   "cell_type": "code",
   "execution_count": null,
   "metadata": {},
   "outputs": [],
   "source": []
  },
  {
   "cell_type": "code",
   "execution_count": null,
   "metadata": {},
   "outputs": [],
   "source": []
  },
  {
   "cell_type": "markdown",
   "metadata": {},
   "source": [
    "### Train on full data set, test on individual charities\n",
    "\n",
    "#### Best Scores:\n",
    "\n",
    "1. 14.09%\n",
    "2. 15.40%\n",
    "3. 12.78%\n",
    "\n",
    "#### Total = 14.09%"
   ]
  },
  {
   "cell_type": "code",
   "execution_count": 75,
   "metadata": {},
   "outputs": [
    {
     "name": "stdout",
     "output_type": "stream",
     "text": [
      "1. Processing Training Corpus\n",
      "2. Creating Index from Training Corpus\n",
      "3. Starting Test Corpus Similarity Analysis\n",
      "\n",
      "\n",
      "First Recommendation Score: 12.5 %\n",
      "Second Recommendation Score: 21.88 %\n",
      "Third Recommendation Score: 9.38 %\n",
      "\n",
      "AVG Recommendation Score: 14.59 %\n"
     ]
    }
   ],
   "source": [
    "find_similar_charities(charity_navigator_df,charity_navigator_df.loc[19:50])"
   ]
  },
  {
   "cell_type": "code",
   "execution_count": 81,
   "metadata": {},
   "outputs": [
    {
     "name": "stdout",
     "output_type": "stream",
     "text": [
      "8408\n"
     ]
    },
    {
     "data": {
      "text/html": [
       "<div>\n",
       "<style scoped>\n",
       "    .dataframe tbody tr th:only-of-type {\n",
       "        vertical-align: middle;\n",
       "    }\n",
       "\n",
       "    .dataframe tbody tr th {\n",
       "        vertical-align: top;\n",
       "    }\n",
       "\n",
       "    .dataframe thead th {\n",
       "        text-align: right;\n",
       "    }\n",
       "</style>\n",
       "<table border=\"1\" class=\"dataframe\">\n",
       "  <thead>\n",
       "    <tr style=\"text-align: right;\">\n",
       "      <th></th>\n",
       "      <th>name</th>\n",
       "      <th>ein</th>\n",
       "      <th>category</th>\n",
       "      <th>description</th>\n",
       "      <th>motto</th>\n",
       "      <th>score</th>\n",
       "      <th>state</th>\n",
       "    </tr>\n",
       "  </thead>\n",
       "  <tbody>\n",
       "    <tr>\n",
       "      <td>19</td>\n",
       "      <td>Zoo Miami Foundation</td>\n",
       "      <td>596192814</td>\n",
       "      <td>Animals</td>\n",
       "      <td>Zoo Miami Foundation (ZMF) is the non-profit s...</td>\n",
       "      <td>Our mission is to foster community pride and i...</td>\n",
       "      <td>93.74</td>\n",
       "      <td>FL</td>\n",
       "    </tr>\n",
       "    <tr>\n",
       "      <td>30</td>\n",
       "      <td>Issaquah Schools Foundation</td>\n",
       "      <td>943050254</td>\n",
       "      <td>Education</td>\n",
       "      <td>Founded in 1987, in cooperation with the Issaq...</td>\n",
       "      <td>Helping students succeed</td>\n",
       "      <td>86.14</td>\n",
       "      <td>WA</td>\n",
       "    </tr>\n",
       "  </tbody>\n",
       "</table>\n",
       "</div>"
      ],
      "text/plain": [
       "                           name        ein   category  \\\n",
       "19         Zoo Miami Foundation  596192814    Animals   \n",
       "30  Issaquah Schools Foundation  943050254  Education   \n",
       "\n",
       "                                          description  \\\n",
       "19  Zoo Miami Foundation (ZMF) is the non-profit s...   \n",
       "30  Founded in 1987, in cooperation with the Issaq...   \n",
       "\n",
       "                                                motto  score state  \n",
       "19  Our mission is to foster community pride and i...  93.74    FL  \n",
       "30                           Helping students succeed  86.14    WA  "
      ]
     },
     "execution_count": 81,
     "metadata": {},
     "output_type": "execute_result"
    }
   ],
   "source": [
    "print(len(charity_navigator_df))\n",
    "\n",
    "charity_navigator_df.iloc[[19,30]]"
   ]
  },
  {
   "cell_type": "code",
   "execution_count": 270,
   "metadata": {},
   "outputs": [
    {
     "data": {
      "text/plain": [
       "70    Animals\n",
       "Name: category, dtype: object"
      ]
     },
     "execution_count": 270,
     "metadata": {},
     "output_type": "execute_result"
    }
   ],
   "source": [
    "charity_navigator_df.iloc[[70]]['category']"
   ]
  },
  {
   "cell_type": "code",
   "execution_count": null,
   "metadata": {},
   "outputs": [],
   "source": []
  },
  {
   "cell_type": "code",
   "execution_count": null,
   "metadata": {},
   "outputs": [],
   "source": [
    "find_similar_charities_all(charity_navigator_df, charity_navigator_df.iloc[[100]])"
   ]
  },
  {
   "cell_type": "code",
   "execution_count": null,
   "metadata": {},
   "outputs": [],
   "source": []
  },
  {
   "cell_type": "code",
   "execution_count": null,
   "metadata": {},
   "outputs": [],
   "source": []
  },
  {
   "cell_type": "code",
   "execution_count": null,
   "metadata": {},
   "outputs": [],
   "source": []
  },
  {
   "cell_type": "code",
   "execution_count": 353,
   "metadata": {},
   "outputs": [],
   "source": [
    "temp_df = charity_navigator_df.copy()"
   ]
  },
  {
   "cell_type": "code",
   "execution_count": 363,
   "metadata": {},
   "outputs": [],
   "source": [
    "temp_df['motto'] = temp_df['motto'].fillna(\" \")"
   ]
  },
  {
   "cell_type": "code",
   "execution_count": 364,
   "metadata": {},
   "outputs": [
    {
     "data": {
      "text/plain": [
       "name           0\n",
       "ein            0\n",
       "category       0\n",
       "description    0\n",
       "motto          0\n",
       "score          0\n",
       "state          0\n",
       "corpus         0\n",
       "dtype: int64"
      ]
     },
     "execution_count": 364,
     "metadata": {},
     "output_type": "execute_result"
    }
   ],
   "source": [
    "temp_df.isna().sum()"
   ]
  },
  {
   "cell_type": "code",
   "execution_count": null,
   "metadata": {},
   "outputs": [],
   "source": [
    "temp_df"
   ]
  },
  {
   "cell_type": "code",
   "execution_count": 365,
   "metadata": {},
   "outputs": [],
   "source": [
    "temp_df['corpus'] = (temp_df['category'] + \" \" + temp_df['description'] + \" \" +temp_df['motto']+\" \"+ temp_df['state'])"
   ]
  },
  {
   "cell_type": "code",
   "execution_count": null,
   "metadata": {},
   "outputs": [],
   "source": []
  },
  {
   "cell_type": "code",
   "execution_count": null,
   "metadata": {},
   "outputs": [],
   "source": []
  },
  {
   "cell_type": "code",
   "execution_count": 393,
   "metadata": {},
   "outputs": [],
   "source": [
    "# temp_df.to_csv('../data/charities_rated_corpus.csv')"
   ]
  },
  {
   "cell_type": "code",
   "execution_count": null,
   "metadata": {},
   "outputs": [],
   "source": []
  },
  {
   "cell_type": "code",
   "execution_count": 105,
   "metadata": {},
   "outputs": [
    {
     "ename": "NameError",
     "evalue": "name 'temp_df' is not defined",
     "output_type": "error",
     "traceback": [
      "\u001b[0;31m---------------------------------------------------------------------------\u001b[0m",
      "\u001b[0;31mNameError\u001b[0m                                 Traceback (most recent call last)",
      "\u001b[0;32m<ipython-input-105-5bac7f0c047d>\u001b[0m in \u001b[0;36m<module>\u001b[0;34m\u001b[0m\n\u001b[0;32m----> 1\u001b[0;31m \u001b[0mtrain_df\u001b[0m\u001b[0;34m,\u001b[0m \u001b[0mtest_df\u001b[0m \u001b[0;34m=\u001b[0m \u001b[0mtrain_test_split\u001b[0m\u001b[0;34m(\u001b[0m\u001b[0mtemp_df\u001b[0m\u001b[0;34m,\u001b[0m\u001b[0mtest_size\u001b[0m \u001b[0;34m=\u001b[0m \u001b[0;36m0.20\u001b[0m\u001b[0;34m)\u001b[0m\u001b[0;34m\u001b[0m\u001b[0;34m\u001b[0m\u001b[0m\n\u001b[0m\u001b[1;32m      2\u001b[0m \u001b[0;34m\u001b[0m\u001b[0m\n\u001b[1;32m      3\u001b[0m \u001b[0mfind_similar_charities_combined\u001b[0m\u001b[0;34m(\u001b[0m\u001b[0mtrain_df\u001b[0m\u001b[0;34m,\u001b[0m\u001b[0mtest_df\u001b[0m\u001b[0;34m)\u001b[0m\u001b[0;34m\u001b[0m\u001b[0;34m\u001b[0m\u001b[0m\n",
      "\u001b[0;31mNameError\u001b[0m: name 'temp_df' is not defined"
     ]
    }
   ],
   "source": [
    "train_df, test_df = train_test_split(temp_df,test_size = 0.20)\n",
    "\n",
    "find_similar_charities_combined(train_df,test_df)"
   ]
  },
  {
   "cell_type": "code",
   "execution_count": 402,
   "metadata": {},
   "outputs": [
    {
     "name": "stdout",
     "output_type": "stream",
     "text": [
      "1. Processing Training Corpus\n",
      "2. Creating Index from Training Corpus\n",
      "3. Starting Test Corpus Similarity Analysis\n",
      "\n",
      "Top 3 Charities Similar to:\n",
      "Name: National Wildlife Federation\n",
      "Category: Animals \n",
      "\n",
      "Name: Wildlife Center of Virginia\n",
      "Category: Animals\n",
      "Score: 0.4614803\n",
      "Name: Zoo Atlanta\n",
      "Category: Animals\n",
      "Score: 0.4182947\n",
      "Name: Audubon Society of Portland\n",
      "Category: Environment\n",
      "Score: 0.39689428\n",
      "\n",
      "\n",
      "First Recommendation Score: 100.0 %\n",
      "Second Recommendation Score: 100.0 %\n",
      "Third Recommendation Score: 0.0 %\n",
      "\n",
      "AVG Recommendation Score: 66.67 %\n"
     ]
    }
   ],
   "source": [
    "top_3_sim = find_similar_charities_combined(temp_df,temp_df[temp_df['name']=='National Wildlife Federation'])"
   ]
  },
  {
   "cell_type": "code",
   "execution_count": null,
   "metadata": {},
   "outputs": [],
   "source": []
  },
  {
   "cell_type": "code",
   "execution_count": 403,
   "metadata": {},
   "outputs": [
    {
     "data": {
      "text/plain": [
       "{4357: 0.4614803, 20: 0.4182947, 4535: 0.39689428}"
      ]
     },
     "execution_count": 403,
     "metadata": {},
     "output_type": "execute_result"
    }
   ],
   "source": [
    "top_3_sim"
   ]
  },
  {
   "cell_type": "code",
   "execution_count": null,
   "metadata": {},
   "outputs": [],
   "source": []
  },
  {
   "cell_type": "code",
   "execution_count": 416,
   "metadata": {},
   "outputs": [],
   "source": [
    "file_info = temp_df.iloc[2357:2358]"
   ]
  },
  {
   "cell_type": "code",
   "execution_count": 423,
   "metadata": {},
   "outputs": [
    {
     "data": {
      "text/plain": [
       "'Pet Helpers'"
      ]
     },
     "execution_count": 423,
     "metadata": {},
     "output_type": "execute_result"
    }
   ],
   "source": [
    "file_info.name.iloc[0]"
   ]
  },
  {
   "cell_type": "code",
   "execution_count": null,
   "metadata": {},
   "outputs": [],
   "source": []
  },
  {
   "cell_type": "code",
   "execution_count": null,
   "metadata": {},
   "outputs": [],
   "source": []
  },
  {
   "cell_type": "code",
   "execution_count": null,
   "metadata": {},
   "outputs": [],
   "source": []
  },
  {
   "cell_type": "code",
   "execution_count": 400,
   "metadata": {},
   "outputs": [
    {
     "data": {
      "text/html": [
       "<div>\n",
       "<style scoped>\n",
       "    .dataframe tbody tr th:only-of-type {\n",
       "        vertical-align: middle;\n",
       "    }\n",
       "\n",
       "    .dataframe tbody tr th {\n",
       "        vertical-align: top;\n",
       "    }\n",
       "\n",
       "    .dataframe thead th {\n",
       "        text-align: right;\n",
       "    }\n",
       "</style>\n",
       "<table border=\"1\" class=\"dataframe\">\n",
       "  <thead>\n",
       "    <tr style=\"text-align: right;\">\n",
       "      <th></th>\n",
       "      <th>name</th>\n",
       "      <th>ein</th>\n",
       "      <th>category</th>\n",
       "      <th>description</th>\n",
       "      <th>motto</th>\n",
       "      <th>score</th>\n",
       "      <th>state</th>\n",
       "      <th>corpus</th>\n",
       "    </tr>\n",
       "  </thead>\n",
       "  <tbody>\n",
       "    <tr>\n",
       "      <td>1698</td>\n",
       "      <td>National Wildlife Federation</td>\n",
       "      <td>530204616</td>\n",
       "      <td>Animals</td>\n",
       "      <td>National Wildlife Federation's (NWF) mission i...</td>\n",
       "      <td>Inspiring Americans to protect wildlife for ou...</td>\n",
       "      <td>81.19</td>\n",
       "      <td>VA</td>\n",
       "      <td>Animals National Wildlife Federation's (NWF) m...</td>\n",
       "    </tr>\n",
       "  </tbody>\n",
       "</table>\n",
       "</div>"
      ],
      "text/plain": [
       "                              name        ein category  \\\n",
       "1698  National Wildlife Federation  530204616  Animals   \n",
       "\n",
       "                                            description  \\\n",
       "1698  National Wildlife Federation's (NWF) mission i...   \n",
       "\n",
       "                                                  motto  score state  \\\n",
       "1698  Inspiring Americans to protect wildlife for ou...  81.19    VA   \n",
       "\n",
       "                                                 corpus  \n",
       "1698  Animals National Wildlife Federation's (NWF) m...  "
      ]
     },
     "execution_count": 400,
     "metadata": {},
     "output_type": "execute_result"
    }
   ],
   "source": [
    "temp_df[temp_df['name']=='National Wildlife Federation']"
   ]
  },
  {
   "cell_type": "code",
   "execution_count": null,
   "metadata": {},
   "outputs": [],
   "source": [
    "National Wildlife Federation"
   ]
  },
  {
   "cell_type": "code",
   "execution_count": null,
   "metadata": {},
   "outputs": [],
   "source": []
  },
  {
   "cell_type": "code",
   "execution_count": null,
   "metadata": {},
   "outputs": [],
   "source": []
  },
  {
   "cell_type": "code",
   "execution_count": 109,
   "metadata": {},
   "outputs": [],
   "source": [
    "temp_df2 = pd.read_csv('../data/charities_rated_corpus.csv')\n",
    "temp_df2.drop(columns=['Unnamed: 0'],inplace=True)"
   ]
  },
  {
   "cell_type": "code",
   "execution_count": 110,
   "metadata": {},
   "outputs": [
    {
     "data": {
      "text/html": [
       "<div>\n",
       "<style scoped>\n",
       "    .dataframe tbody tr th:only-of-type {\n",
       "        vertical-align: middle;\n",
       "    }\n",
       "\n",
       "    .dataframe tbody tr th {\n",
       "        vertical-align: top;\n",
       "    }\n",
       "\n",
       "    .dataframe thead th {\n",
       "        text-align: right;\n",
       "    }\n",
       "</style>\n",
       "<table border=\"1\" class=\"dataframe\">\n",
       "  <thead>\n",
       "    <tr style=\"text-align: right;\">\n",
       "      <th></th>\n",
       "      <th>name</th>\n",
       "      <th>ein</th>\n",
       "      <th>category</th>\n",
       "      <th>description</th>\n",
       "      <th>motto</th>\n",
       "      <th>score</th>\n",
       "      <th>state</th>\n",
       "      <th>corpus</th>\n",
       "    </tr>\n",
       "  </thead>\n",
       "  <tbody>\n",
       "    <tr>\n",
       "      <td>0</td>\n",
       "      <td>1000 Friends of Oregon</td>\n",
       "      <td>930642086</td>\n",
       "      <td>Environment</td>\n",
       "      <td>Working with Oregonians to enhance our quality...</td>\n",
       "      <td>Great communities. Working lands. Iconic Places.</td>\n",
       "      <td>91.94</td>\n",
       "      <td>OR</td>\n",
       "      <td>Environment Working with Oregonians to enhance...</td>\n",
       "    </tr>\n",
       "    <tr>\n",
       "      <td>1</td>\n",
       "      <td>WYPR</td>\n",
       "      <td>311770828</td>\n",
       "      <td>Arts, Culture, Humanities</td>\n",
       "      <td>Serving the metropolitan Baltimore area and th...</td>\n",
       "      <td>88.1 FM -. Your NPR News Station</td>\n",
       "      <td>85.59</td>\n",
       "      <td>MD</td>\n",
       "      <td>Arts, Culture, Humanities Serving the metropol...</td>\n",
       "    </tr>\n",
       "    <tr>\n",
       "      <td>2</td>\n",
       "      <td>VSS Catholic Communications</td>\n",
       "      <td>911857425</td>\n",
       "      <td>Religion</td>\n",
       "      <td>VSS Catholic Communications is dedicated to an...</td>\n",
       "      <td>Spirit Catholic Radio Network</td>\n",
       "      <td>76.80</td>\n",
       "      <td>NE</td>\n",
       "      <td>Religion VSS Catholic Communications is dedica...</td>\n",
       "    </tr>\n",
       "    <tr>\n",
       "      <td>3</td>\n",
       "      <td>Utah Symphony &amp; Opera</td>\n",
       "      <td>510145980</td>\n",
       "      <td>Arts, Culture, Humanities</td>\n",
       "      <td>The mission of the Utah Symphony &amp; Opera is to...</td>\n",
       "      <td>Engaging, educating, and enriching lives</td>\n",
       "      <td>91.95</td>\n",
       "      <td>UT</td>\n",
       "      <td>Arts, Culture, Humanities The mission of the U...</td>\n",
       "    </tr>\n",
       "    <tr>\n",
       "      <td>4</td>\n",
       "      <td>Two Ten Footwear Foundation</td>\n",
       "      <td>222579809</td>\n",
       "      <td>Human Services</td>\n",
       "      <td>Funded solely by the footwear industry, Two Te...</td>\n",
       "      <td>Shoepeople Helping Shoepeople</td>\n",
       "      <td>90.26</td>\n",
       "      <td>MA</td>\n",
       "      <td>Human Services Funded solely by the footwear i...</td>\n",
       "    </tr>\n",
       "    <tr>\n",
       "      <td>...</td>\n",
       "      <td>...</td>\n",
       "      <td>...</td>\n",
       "      <td>...</td>\n",
       "      <td>...</td>\n",
       "      <td>...</td>\n",
       "      <td>...</td>\n",
       "      <td>...</td>\n",
       "      <td>...</td>\n",
       "    </tr>\n",
       "    <tr>\n",
       "      <td>8403</td>\n",
       "      <td>Yaddo</td>\n",
       "      <td>141343055</td>\n",
       "      <td>Arts, Culture, Humanities</td>\n",
       "      <td>Founded in 1900, Yaddo is an artists' communit...</td>\n",
       "      <td>Nurturing the creative process</td>\n",
       "      <td>79.36</td>\n",
       "      <td>NY</td>\n",
       "      <td>Arts, Culture, Humanities Founded in 1900, Yad...</td>\n",
       "    </tr>\n",
       "    <tr>\n",
       "      <td>8404</td>\n",
       "      <td>Yad L'Achim Peyle Israel</td>\n",
       "      <td>237126417</td>\n",
       "      <td>Religion</td>\n",
       "      <td>Yad L'Achim was established in 1950. It is a n...</td>\n",
       "      <td>Promoting the adherence to Orthodox Jewish obs...</td>\n",
       "      <td>59.84</td>\n",
       "      <td>NY</td>\n",
       "      <td>Religion Yad L'Achim was established in 1950. ...</td>\n",
       "    </tr>\n",
       "    <tr>\n",
       "      <td>8405</td>\n",
       "      <td>Yad Ezra</td>\n",
       "      <td>382904733</td>\n",
       "      <td>Human Services</td>\n",
       "      <td>Yad Ezra opened its doors in 1990 with the pur...</td>\n",
       "      <td>Feeding the Jewish hungry</td>\n",
       "      <td>88.07</td>\n",
       "      <td>MI</td>\n",
       "      <td>Human Services Yad Ezra opened its doors in 19...</td>\n",
       "    </tr>\n",
       "    <tr>\n",
       "      <td>8406</td>\n",
       "      <td>Rawhide</td>\n",
       "      <td>391052471</td>\n",
       "      <td>Human Services</td>\n",
       "      <td>Rawhide, where commitment and compassion meet....</td>\n",
       "      <td>Dedicated to helping at-risk youth and their f...</td>\n",
       "      <td>96.91</td>\n",
       "      <td>WI</td>\n",
       "      <td>Human Services Rawhide, where commitment and c...</td>\n",
       "    </tr>\n",
       "    <tr>\n",
       "      <td>8407</td>\n",
       "      <td>The Raymond F. Kravis Center for the Performin...</td>\n",
       "      <td>592245054</td>\n",
       "      <td>Arts, Culture, Humanities</td>\n",
       "      <td>The Raymond F. Kravis Center for the Performin...</td>\n",
       "      <td>Enhancing the quality of life in Palm Beach Co...</td>\n",
       "      <td>92.29</td>\n",
       "      <td>FL</td>\n",
       "      <td>Arts, Culture, Humanities The Raymond F. Kravi...</td>\n",
       "    </tr>\n",
       "  </tbody>\n",
       "</table>\n",
       "<p>8408 rows × 8 columns</p>\n",
       "</div>"
      ],
      "text/plain": [
       "                                                   name        ein  \\\n",
       "0                                1000 Friends of Oregon  930642086   \n",
       "1                                                  WYPR  311770828   \n",
       "2                           VSS Catholic Communications  911857425   \n",
       "3                                 Utah Symphony & Opera  510145980   \n",
       "4                           Two Ten Footwear Foundation  222579809   \n",
       "...                                                 ...        ...   \n",
       "8403                                              Yaddo  141343055   \n",
       "8404                           Yad L'Achim Peyle Israel  237126417   \n",
       "8405                                           Yad Ezra  382904733   \n",
       "8406                                            Rawhide  391052471   \n",
       "8407  The Raymond F. Kravis Center for the Performin...  592245054   \n",
       "\n",
       "                       category  \\\n",
       "0                   Environment   \n",
       "1     Arts, Culture, Humanities   \n",
       "2                      Religion   \n",
       "3     Arts, Culture, Humanities   \n",
       "4                Human Services   \n",
       "...                         ...   \n",
       "8403  Arts, Culture, Humanities   \n",
       "8404                   Religion   \n",
       "8405             Human Services   \n",
       "8406             Human Services   \n",
       "8407  Arts, Culture, Humanities   \n",
       "\n",
       "                                            description  \\\n",
       "0     Working with Oregonians to enhance our quality...   \n",
       "1     Serving the metropolitan Baltimore area and th...   \n",
       "2     VSS Catholic Communications is dedicated to an...   \n",
       "3     The mission of the Utah Symphony & Opera is to...   \n",
       "4     Funded solely by the footwear industry, Two Te...   \n",
       "...                                                 ...   \n",
       "8403  Founded in 1900, Yaddo is an artists' communit...   \n",
       "8404  Yad L'Achim was established in 1950. It is a n...   \n",
       "8405  Yad Ezra opened its doors in 1990 with the pur...   \n",
       "8406  Rawhide, where commitment and compassion meet....   \n",
       "8407  The Raymond F. Kravis Center for the Performin...   \n",
       "\n",
       "                                                  motto  score state  \\\n",
       "0      Great communities. Working lands. Iconic Places.  91.94    OR   \n",
       "1                      88.1 FM -. Your NPR News Station  85.59    MD   \n",
       "2                         Spirit Catholic Radio Network  76.80    NE   \n",
       "3              Engaging, educating, and enriching lives  91.95    UT   \n",
       "4                         Shoepeople Helping Shoepeople  90.26    MA   \n",
       "...                                                 ...    ...   ...   \n",
       "8403                     Nurturing the creative process  79.36    NY   \n",
       "8404  Promoting the adherence to Orthodox Jewish obs...  59.84    NY   \n",
       "8405                          Feeding the Jewish hungry  88.07    MI   \n",
       "8406  Dedicated to helping at-risk youth and their f...  96.91    WI   \n",
       "8407  Enhancing the quality of life in Palm Beach Co...  92.29    FL   \n",
       "\n",
       "                                                 corpus  \n",
       "0     Environment Working with Oregonians to enhance...  \n",
       "1     Arts, Culture, Humanities Serving the metropol...  \n",
       "2     Religion VSS Catholic Communications is dedica...  \n",
       "3     Arts, Culture, Humanities The mission of the U...  \n",
       "4     Human Services Funded solely by the footwear i...  \n",
       "...                                                 ...  \n",
       "8403  Arts, Culture, Humanities Founded in 1900, Yad...  \n",
       "8404  Religion Yad L'Achim was established in 1950. ...  \n",
       "8405  Human Services Yad Ezra opened its doors in 19...  \n",
       "8406  Human Services Rawhide, where commitment and c...  \n",
       "8407  Arts, Culture, Humanities The Raymond F. Kravi...  \n",
       "\n",
       "[8408 rows x 8 columns]"
      ]
     },
     "execution_count": 110,
     "metadata": {},
     "output_type": "execute_result"
    }
   ],
   "source": [
    "temp_df2"
   ]
  },
  {
   "cell_type": "code",
   "execution_count": 117,
   "metadata": {
    "scrolled": false
   },
   "outputs": [
    {
     "name": "stdout",
     "output_type": "stream",
     "text": [
      "1. Processing Training Corpus\n",
      "2. Creating Index from Training Corpus\n",
      "3. Starting Test Corpus Similarity Analysis\n",
      "\n",
      "Analyzed 500 documents...\n",
      "Analyzed 1000 documents...\n",
      "Analyzed 1500 documents...\n",
      "Analyzed 2000 documents...\n",
      "Analyzed 2500 documents...\n",
      "Analyzed 3000 documents...\n",
      "Analyzed 3500 documents...\n",
      "Analyzed 4000 documents...\n",
      "Analyzed 4500 documents...\n",
      "Analyzed 5000 documents...\n",
      "Analyzed 5500 documents...\n",
      "Analyzed 6000 documents...\n",
      "Analyzed 6500 documents...\n",
      "Analyzed 7000 documents...\n",
      "Analyzed 7500 documents...\n",
      "Analyzed 8000 documents...\n",
      "\n",
      "First Recommendation Score: 66.2 %\n",
      "Second Recommendation Score: 63.59 %\n",
      "Third Recommendation Score: 63.31 %\n",
      "\n",
      "AVG Recommendation Score: 64.37 %\n"
     ]
    }
   ],
   "source": [
    "top_3_sim = find_similar_charities_combined(temp_df2,temp_df2)"
   ]
  },
  {
   "cell_type": "code",
   "execution_count": null,
   "metadata": {},
   "outputs": [],
   "source": []
  }
 ],
 "metadata": {
  "kernelspec": {
   "display_name": "Python 3",
   "language": "python",
   "name": "python3"
  },
  "language_info": {
   "codemirror_mode": {
    "name": "ipython",
    "version": 3
   },
   "file_extension": ".py",
   "mimetype": "text/x-python",
   "name": "python",
   "nbconvert_exporter": "python",
   "pygments_lexer": "ipython3",
   "version": "3.7.4"
  }
 },
 "nbformat": 4,
 "nbformat_minor": 2
}
