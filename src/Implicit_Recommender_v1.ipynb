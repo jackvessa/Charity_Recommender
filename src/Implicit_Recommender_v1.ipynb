{
 "cells": [
  {
   "cell_type": "markdown",
   "metadata": {},
   "source": [
    "## Imports"
   ]
  },
  {
   "cell_type": "code",
   "execution_count": 2,
   "metadata": {},
   "outputs": [],
   "source": [
    "import numpy as np\n",
    "import pandas as pd\n",
    "import datetime\n",
    "import math\n",
    "import random\n",
    "\n",
    "pd.options.display.max_columns = 50"
   ]
  },
  {
   "cell_type": "code",
   "execution_count": 3,
   "metadata": {},
   "outputs": [],
   "source": [
    "import scipy.sparse as sparse\n",
    "from scipy.sparse.linalg import spsolve\n",
    "from sklearn.preprocessing import MinMaxScaler"
   ]
  },
  {
   "cell_type": "markdown",
   "metadata": {},
   "source": [
    "## Functions"
   ]
  },
  {
   "cell_type": "code",
   "execution_count": 28,
   "metadata": {},
   "outputs": [],
   "source": [
    "#------------------#\n",
    "# BUILD OUR MODEL  #\n",
    "#------------------#\n",
    "\n",
    "def implicit_als(sparse_data, alpha_val=40, iterations=10, lambda_val=0.1, features=10):\n",
    "    \"\"\" \n",
    "    Function\n",
    "    --------\n",
    "        Implementation of Alternating Least Squares with implicit data. We iteratively\n",
    "        compute the user (x_u) and item (y_i) vectors using the following formulas:\n",
    "\n",
    "        x_u = ((Y.T*Y + Y.T*(Cu - I) * Y) + lambda*I)^-1 * (X.T * Cu * p(u))\n",
    "        y_i = ((X.T*X + X.T*(Ci - I) * X) + lambda*I)^-1 * (Y.T * Ci * p(i))\n",
    " \n",
    "    Parameters\n",
    "    ----------\n",
    "        sparse_data (csr_matrix): Our sparse user-by-item matrix\n",
    " \n",
    "        alpha_val (int): The rate in which we'll increase our confidence\n",
    "        in a preference with more interactions.\n",
    " \n",
    "        iterations (int): How many times we alternate between fixing and \n",
    "        updating our user and item vectors\n",
    " \n",
    "        lambda_val (float): Regularization value\n",
    " \n",
    "        features (int): How many latent features we want to compute.\n",
    "    \n",
    "    Returns:\n",
    "    --------\n",
    "        X (csr_matrix): user vectors of size users-by-features\n",
    "        \n",
    "        Y (csr_matrix): item vectors of size items-by-features\n",
    "     \"\"\"\n",
    "\n",
    "    # Calculate the confidence for each value in our data\n",
    "    confidence = sparse_data * alpha_val\n",
    "    \n",
    "    # Get the size of user rows and item columns\n",
    "    user_size, item_size = sparse_data.shape\n",
    "    \n",
    "    # We create the user vectors X of size users-by-features, the item vectors\n",
    "    # Y of size items-by-features and randomly assign the values.\n",
    "    X = sparse.csr_matrix(np.random.normal(size = (user_size, features)))\n",
    "    Y = sparse.csr_matrix(np.random.normal(size = (item_size, features)))\n",
    "    \n",
    "    #Precompute I and lambda * I\n",
    "    X_I = sparse.eye(user_size)\n",
    "    Y_I = sparse.eye(item_size)\n",
    "    \n",
    "    I = sparse.eye(features)\n",
    "    lI = lambda_val * I\n",
    "\n",
    "    # Start main loop. For each iteration we first compute X and then Y\n",
    "    for i in range(iterations):\n",
    "        print ('iteration %d of %d' % (i+1, iterations))\n",
    "        \n",
    "        # Precompute Y-transpose-Y and X-transpose-X\n",
    "        yTy = Y.T.dot(Y)\n",
    "        xTx = X.T.dot(X)\n",
    "\n",
    "        # Loop through all users\n",
    "        for u in range(user_size):\n",
    "\n",
    "            # Get the user row.\n",
    "            u_row = confidence[u,:].toarray() \n",
    "\n",
    "            # Calculate the binary preference p(u)\n",
    "            p_u = u_row.copy()\n",
    "            p_u[p_u != 0] = 1.0\n",
    "\n",
    "            # Calculate Cu and Cu - I\n",
    "            CuI = sparse.diags(u_row, [0])\n",
    "            Cu = CuI + Y_I\n",
    "\n",
    "            # Put it all together and compute the final formula\n",
    "            yT_CuI_y = Y.T.dot(CuI).dot(Y)\n",
    "            yT_Cu_pu = Y.T.dot(Cu).dot(p_u.T)\n",
    "            X[u] = spsolve(yTy + yT_CuI_y + lI, yT_Cu_pu)\n",
    "\n",
    "        for i in range(item_size):\n",
    "\n",
    "            # Get the item column and transpose it.\n",
    "            i_row = confidence[:,i].T.toarray()\n",
    "\n",
    "            # Calculate the binary preference p(i)\n",
    "            p_i = i_row.copy()\n",
    "            p_i[p_i != 0] = 1.0\n",
    "\n",
    "            # Calculate Ci and Ci - I\n",
    "            CiI = sparse.diags(i_row, [0])\n",
    "            Ci = CiI + X_I\n",
    "\n",
    "            # Put it all together and compute the final formula\n",
    "            xT_CiI_x = X.T.dot(CiI).dot(X)\n",
    "            xT_Ci_pi = X.T.dot(Ci).dot(p_i.T)\n",
    "            Y[i] = spsolve(xTx + xT_CiI_x + lI, xT_Ci_pi)\n",
    "\n",
    "    return X, Y\n",
    "    "
   ]
  },
  {
   "cell_type": "code",
   "execution_count": 158,
   "metadata": {},
   "outputs": [],
   "source": [
    "#------------------------------#\n",
    "# CREATE USER RECOMMENDATIONS  #\n",
    "#------------------------------#\n",
    "\n",
    "def recommend(user_id, data_sparse, user_vecs, item_vecs, item_lookup, top_3_from_train, num_items=3):\n",
    "    \"\"\"\n",
    "    Function:\n",
    "    --------\n",
    "        Recommend items for a given user given a trained model\n",
    "    \n",
    "    Parameters:\n",
    "    ----------\n",
    "        user_id (int): The id of the user we want to create recommendations for.\n",
    "        \n",
    "        data_sparse (csr_matrix): Our original training data.\n",
    "        \n",
    "        user_vecs (csr_matrix): The trained user x features vectors\n",
    "        \n",
    "        item_vecs (csr_matrix): The trained item x features vectors\n",
    "        \n",
    "        item_lookup (pandas.DataFrame): Used to map charity_id to charity names\n",
    "        \n",
    "        num_items (int): How many recommendations we want to return:\n",
    "        \n",
    "    Returns:\n",
    "    -------\n",
    "        recommendations (pandas.DataFrame): DataFrame with num_items charity names and scores\n",
    "    \n",
    "    \"\"\"\n",
    "    \n",
    "    # Get all interactions by the user\n",
    "    # Return Top 3 from Training Data if user not in DataBase\n",
    "    try: user_interactions = data_sparse[user_id,:].toarray()\n",
    "    except: return top_3_from_train\n",
    "    \n",
    "#     # Get all interactions by the user\n",
    "#     user_interactions = data_sparse[user_id,:].toarray()\n",
    "\n",
    "    # We don't want to recommend items the user has consumed. So let's\n",
    "    # set them all to 0 and the unknowns to 1.\n",
    "    user_interactions = user_interactions.reshape(-1) + 1 #Reshape to turn into 1D array\n",
    "    user_interactions[user_interactions > 1] = 0\n",
    "\n",
    "    # This is where we calculate the recommendation by taking the \n",
    "    # dot-product of the user vectors with the item vectors.\n",
    "    rec_vector = user_vecs[user_id,:].dot(item_vecs.T).toarray()\n",
    "\n",
    "    # Let's scale our scores between 0 and 1 to make it all easier to interpret.\n",
    "    min_max = MinMaxScaler()\n",
    "    rec_vector_scaled = min_max.fit_transform(rec_vector.reshape(-1,1))[:,0]\n",
    "    recommend_vector = user_interactions*rec_vector_scaled\n",
    "   \n",
    "    # Get all the charity indices in order of recommendations (descending) and\n",
    "    # select only the top \"num_items\" items. \n",
    "    item_idx = np.argsort(recommend_vector)[::-1][:num_items]\n",
    "\n",
    "    charities = []\n",
    "    scores = []\n",
    "\n",
    "    # Loop through our recommended charity indicies and look up the actual charity name\n",
    "    for idx in item_idx:\n",
    "        charities.append(item_lookup['Advised Charity'].loc[item_lookup.charity_id == str(idx)].iloc[0])\n",
    "        scores.append(recommend_vector[idx])\n",
    "\n",
    "    # Create a new dataframe with recommended charity names and scores\n",
    "    recommendations = pd.DataFrame({'charity': charities, 'score': scores})\n",
    "    \n",
    "    return recommendations"
   ]
  },
  {
   "cell_type": "code",
   "execution_count": 50,
   "metadata": {},
   "outputs": [],
   "source": [
    "def recommend_similar_charities(item_lookup,item_vec,item_name=\"\",item_id=-1,num_sim_char=10):\n",
    "    '''\n",
    "    '''\n",
    "    if item_id == -1:\n",
    "        # Charity Name --> Charity_id\n",
    "        item_id = int(item_lookup['charity_id'].loc[item_lookup['Advised Charity'] == str(item_name)].iloc[0])\n",
    "\n",
    "    # Get the item row for selected charity.\n",
    "    item_vec = item_vecs[item_id].T\n",
    "\n",
    "    # Calculate the similarity score between selected charity and other charities\n",
    "    # and select the top 10 most similar.\n",
    "    scores = item_vecs.dot(item_vec).toarray().reshape(1,-1)[0]\n",
    "    top_10 = np.argsort(scores)[::-1][:10]\n",
    "\n",
    "    charities = []\n",
    "    charity_scores = []\n",
    "\n",
    "    print(\"Charities Similar to:\", item_lookup['Advised Charity'].loc[item_lookup.charity_id == str(item_id)].iloc[0],\"\\n\")\n",
    "\n",
    "    # Get and print the actual charity names and scores\n",
    "    for idx in top_10:\n",
    "        charities.append(item_lookup['Advised Charity'].loc[item_lookup.charity_id == str(idx)].iloc[0])\n",
    "        charity_scores.append(scores[idx])\n",
    "\n",
    "    similar = pd.DataFrame({'charities': charities, 'score': charity_scores})\n",
    "\n",
    "    print (similar)\n",
    "    return similar"
   ]
  },
  {
   "cell_type": "code",
   "execution_count": 124,
   "metadata": {},
   "outputs": [],
   "source": [
    "def create_collab_filtering_model(df):\n",
    "    '''\n",
    "    '''\n",
    "    raw_data = df[['User ID','Advised Charity','Amount']]\n",
    "    # Drop Rows with Missing Values\n",
    "    data = raw_data.dropna()\n",
    "\n",
    "    # Convert charity names into numerical IDs\n",
    "    data['user_id'] = data['User ID'].astype(\"category\").cat.codes\n",
    "    data['charity_id'] = data['Advised Charity'].astype(\"category\").cat.codes\n",
    "\n",
    "    # Create a lookup frame so we can get the charity names back in \n",
    "    # readable form later.\n",
    "    user_lookup = data[['user_id', 'User ID']].drop_duplicates()\n",
    "    user_lookup['user_id'] = user_lookup['user_id'].astype(str)\n",
    "    \n",
    "    # Create a lookup frame so we can get the charity names back in \n",
    "    # readable form later.\n",
    "    item_lookup = data[['charity_id', 'Advised Charity']].drop_duplicates()\n",
    "    item_lookup['charity_id'] = item_lookup['charity_id'].astype(str)\n",
    "    \n",
    "    data = data.drop(['User ID', 'Advised Charity'], axis=1)\n",
    "\n",
    "    # Drop Rows with $0 Donation\n",
    "    data = data.loc[data.Amount > 0]\n",
    "    \n",
    "    # Create lists of all users, charities and amounts\n",
    "    users = list(np.sort(data['user_id'].unique()))\n",
    "    charities = list(np.sort(data['charity_id'].unique()))\n",
    "    amounts = list(data.Amount)\n",
    "\n",
    "    # Get the rows and columns for our new matrix\n",
    "    rows = data['user_id'].astype(int)\n",
    "    cols = data['charity_id'].astype(int)\n",
    "\n",
    "    # Contruct a sparse matrix for our users and items containing amounts\n",
    "    data_sparse = sparse.csr_matrix((amounts, (rows, cols)), shape=(len(users), len(charities)))\n",
    "    \n",
    "    # Training The Model \n",
    "    # (Creating User-Latent Vector and Item-Latent Vector)\n",
    "    user_vecs, item_vecs = implicit_als(data_sparse, iterations=20, features=20, alpha_val=40)\n",
    "    \n",
    "    return user_vecs, item_vecs, data_sparse, item_lookup, user_lookup"
   ]
  },
  {
   "cell_type": "code",
   "execution_count": null,
   "metadata": {},
   "outputs": [],
   "source": []
  },
  {
   "cell_type": "markdown",
   "metadata": {},
   "source": [
    "## Loading Data"
   ]
  },
  {
   "cell_type": "code",
   "execution_count": 83,
   "metadata": {},
   "outputs": [],
   "source": [
    "user_and_charity_df = pd.read_csv('../data/user_and_charity_df.csv',parse_dates=True)\n",
    "user_and_charity_df['Date'] = user_and_charity_df['Date'].apply(lambda x: pd.to_datetime(x))"
   ]
  },
  {
   "cell_type": "code",
   "execution_count": null,
   "metadata": {},
   "outputs": [],
   "source": []
  },
  {
   "cell_type": "markdown",
   "metadata": {},
   "source": [
    "## Implicit Collaborative Filtering"
   ]
  },
  {
   "cell_type": "code",
   "execution_count": 19,
   "metadata": {},
   "outputs": [],
   "source": [
    "raw_data = user_and_charity_df[['User ID','Advised Charity','Amount']]"
   ]
  },
  {
   "cell_type": "code",
   "execution_count": 20,
   "metadata": {},
   "outputs": [],
   "source": [
    "# Drop Rows with Missing Values\n",
    "data = raw_data.dropna()\n",
    "\n",
    "# Convert charity names into numerical IDs\n",
    "data['user_id'] = data['User ID'].astype(\"category\").cat.codes\n",
    "data['charity_id'] = data['Advised Charity'].astype(\"category\").cat.codes\n",
    "\n",
    "# Create a lookup frame so we can get the charity names back in \n",
    "# readable form later.\n",
    "item_lookup = data[['charity_id', 'Advised Charity']].drop_duplicates()\n",
    "item_lookup['charity_id'] = item_lookup['charity_id'].astype(str)"
   ]
  },
  {
   "cell_type": "code",
   "execution_count": 21,
   "metadata": {},
   "outputs": [
    {
     "data": {
      "text/html": [
       "<div>\n",
       "<style scoped>\n",
       "    .dataframe tbody tr th:only-of-type {\n",
       "        vertical-align: middle;\n",
       "    }\n",
       "\n",
       "    .dataframe tbody tr th {\n",
       "        vertical-align: top;\n",
       "    }\n",
       "\n",
       "    .dataframe thead th {\n",
       "        text-align: right;\n",
       "    }\n",
       "</style>\n",
       "<table border=\"1\" class=\"dataframe\">\n",
       "  <thead>\n",
       "    <tr style=\"text-align: right;\">\n",
       "      <th></th>\n",
       "      <th>charity_id</th>\n",
       "      <th>Advised Charity</th>\n",
       "    </tr>\n",
       "  </thead>\n",
       "  <tbody>\n",
       "    <tr>\n",
       "      <td>0</td>\n",
       "      <td>439</td>\n",
       "      <td>Room to Grow National Inc</td>\n",
       "    </tr>\n",
       "    <tr>\n",
       "      <td>3</td>\n",
       "      <td>557</td>\n",
       "      <td>Wildlife Conservation Society</td>\n",
       "    </tr>\n",
       "    <tr>\n",
       "      <td>14</td>\n",
       "      <td>396</td>\n",
       "      <td>Play Soccer to Give Corp</td>\n",
       "    </tr>\n",
       "    <tr>\n",
       "      <td>85</td>\n",
       "      <td>280</td>\n",
       "      <td>Lemon Bay Junior Golf Foundation Inc</td>\n",
       "    </tr>\n",
       "    <tr>\n",
       "      <td>89</td>\n",
       "      <td>410</td>\n",
       "      <td>Purple Heart Homes Inc</td>\n",
       "    </tr>\n",
       "  </tbody>\n",
       "</table>\n",
       "</div>"
      ],
      "text/plain": [
       "   charity_id                       Advised Charity\n",
       "0         439             Room to Grow National Inc\n",
       "3         557         Wildlife Conservation Society\n",
       "14        396              Play Soccer to Give Corp\n",
       "85        280  Lemon Bay Junior Golf Foundation Inc\n",
       "89        410                Purple Heart Homes Inc"
      ]
     },
     "execution_count": 21,
     "metadata": {},
     "output_type": "execute_result"
    }
   ],
   "source": [
    "item_lookup.head()"
   ]
  },
  {
   "cell_type": "code",
   "execution_count": 22,
   "metadata": {},
   "outputs": [],
   "source": [
    "data = data.drop(['User ID', 'Advised Charity'], axis=1)\n",
    "\n",
    "# Drop Rows with $0 Donation\n",
    "data = data.loc[data.Amount > 0]"
   ]
  },
  {
   "cell_type": "code",
   "execution_count": 23,
   "metadata": {},
   "outputs": [
    {
     "data": {
      "text/html": [
       "<div>\n",
       "<style scoped>\n",
       "    .dataframe tbody tr th:only-of-type {\n",
       "        vertical-align: middle;\n",
       "    }\n",
       "\n",
       "    .dataframe tbody tr th {\n",
       "        vertical-align: top;\n",
       "    }\n",
       "\n",
       "    .dataframe thead th {\n",
       "        text-align: right;\n",
       "    }\n",
       "</style>\n",
       "<table border=\"1\" class=\"dataframe\">\n",
       "  <thead>\n",
       "    <tr style=\"text-align: right;\">\n",
       "      <th></th>\n",
       "      <th>Amount</th>\n",
       "      <th>user_id</th>\n",
       "      <th>charity_id</th>\n",
       "    </tr>\n",
       "  </thead>\n",
       "  <tbody>\n",
       "    <tr>\n",
       "      <td>0</td>\n",
       "      <td>25.0</td>\n",
       "      <td>959</td>\n",
       "      <td>439</td>\n",
       "    </tr>\n",
       "    <tr>\n",
       "      <td>1</td>\n",
       "      <td>1.0</td>\n",
       "      <td>963</td>\n",
       "      <td>439</td>\n",
       "    </tr>\n",
       "    <tr>\n",
       "      <td>2</td>\n",
       "      <td>1.0</td>\n",
       "      <td>961</td>\n",
       "      <td>439</td>\n",
       "    </tr>\n",
       "    <tr>\n",
       "      <td>3</td>\n",
       "      <td>20.0</td>\n",
       "      <td>593</td>\n",
       "      <td>557</td>\n",
       "    </tr>\n",
       "    <tr>\n",
       "      <td>4</td>\n",
       "      <td>20.0</td>\n",
       "      <td>593</td>\n",
       "      <td>557</td>\n",
       "    </tr>\n",
       "  </tbody>\n",
       "</table>\n",
       "</div>"
      ],
      "text/plain": [
       "   Amount  user_id  charity_id\n",
       "0    25.0      959         439\n",
       "1     1.0      963         439\n",
       "2     1.0      961         439\n",
       "3    20.0      593         557\n",
       "4    20.0      593         557"
      ]
     },
     "execution_count": 23,
     "metadata": {},
     "output_type": "execute_result"
    }
   ],
   "source": [
    "data.head()"
   ]
  },
  {
   "cell_type": "code",
   "execution_count": 24,
   "metadata": {},
   "outputs": [],
   "source": [
    "# Create lists of all users, charities and amounts\n",
    "users = list(np.sort(data['user_id'].unique()))\n",
    "charities = list(np.sort(data['charity_id'].unique()))\n",
    "amounts = list(data.Amount)\n",
    "\n",
    "# Get the rows and columns for our new matrix\n",
    "rows = data['user_id'].astype(int)\n",
    "cols = data['charity_id'].astype(int)\n",
    "\n",
    "# Contruct a sparse matrix for our users and items containing amounts\n",
    "data_sparse = sparse.csr_matrix((amounts, (rows, cols)), shape=(len(users), len(charities)))"
   ]
  },
  {
   "cell_type": "code",
   "execution_count": 27,
   "metadata": {},
   "outputs": [
    {
     "name": "stdout",
     "output_type": "stream",
     "text": [
      "iteration 1 of 20\n",
      "iteration 2 of 20\n",
      "iteration 3 of 20\n",
      "iteration 4 of 20\n",
      "iteration 5 of 20\n",
      "iteration 6 of 20\n",
      "iteration 7 of 20\n",
      "iteration 8 of 20\n",
      "iteration 9 of 20\n",
      "iteration 10 of 20\n",
      "iteration 11 of 20\n",
      "iteration 12 of 20\n",
      "iteration 13 of 20\n",
      "iteration 14 of 20\n",
      "iteration 15 of 20\n",
      "iteration 16 of 20\n",
      "iteration 17 of 20\n",
      "iteration 18 of 20\n",
      "iteration 19 of 20\n",
      "iteration 20 of 20\n"
     ]
    }
   ],
   "source": [
    "# Training The Model \n",
    "# (Creating User-Latent Vector and Item-Latent Vector)\n",
    "user_vecs, item_vecs = implicit_als(data_sparse, iterations=20, features=20, alpha_val=40)"
   ]
  },
  {
   "cell_type": "code",
   "execution_count": 29,
   "metadata": {},
   "outputs": [
    {
     "data": {
      "text/html": [
       "<div>\n",
       "<style scoped>\n",
       "    .dataframe tbody tr th:only-of-type {\n",
       "        vertical-align: middle;\n",
       "    }\n",
       "\n",
       "    .dataframe tbody tr th {\n",
       "        vertical-align: top;\n",
       "    }\n",
       "\n",
       "    .dataframe thead th {\n",
       "        text-align: right;\n",
       "    }\n",
       "</style>\n",
       "<table border=\"1\" class=\"dataframe\">\n",
       "  <thead>\n",
       "    <tr style=\"text-align: right;\">\n",
       "      <th></th>\n",
       "      <th>charity_id</th>\n",
       "      <th>Advised Charity</th>\n",
       "    </tr>\n",
       "  </thead>\n",
       "  <tbody>\n",
       "    <tr>\n",
       "      <td>0</td>\n",
       "      <td>439</td>\n",
       "      <td>Room to Grow National Inc</td>\n",
       "    </tr>\n",
       "    <tr>\n",
       "      <td>3</td>\n",
       "      <td>557</td>\n",
       "      <td>Wildlife Conservation Society</td>\n",
       "    </tr>\n",
       "    <tr>\n",
       "      <td>14</td>\n",
       "      <td>396</td>\n",
       "      <td>Play Soccer to Give Corp</td>\n",
       "    </tr>\n",
       "    <tr>\n",
       "      <td>85</td>\n",
       "      <td>280</td>\n",
       "      <td>Lemon Bay Junior Golf Foundation Inc</td>\n",
       "    </tr>\n",
       "    <tr>\n",
       "      <td>89</td>\n",
       "      <td>410</td>\n",
       "      <td>Purple Heart Homes Inc</td>\n",
       "    </tr>\n",
       "  </tbody>\n",
       "</table>\n",
       "</div>"
      ],
      "text/plain": [
       "   charity_id                       Advised Charity\n",
       "0         439             Room to Grow National Inc\n",
       "3         557         Wildlife Conservation Society\n",
       "14        396              Play Soccer to Give Corp\n",
       "85        280  Lemon Bay Junior Golf Foundation Inc\n",
       "89        410                Purple Heart Homes Inc"
      ]
     },
     "execution_count": 29,
     "metadata": {},
     "output_type": "execute_result"
    }
   ],
   "source": [
    "item_lookup.head()"
   ]
  },
  {
   "cell_type": "code",
   "execution_count": 36,
   "metadata": {},
   "outputs": [
    {
     "data": {
      "text/html": [
       "<div>\n",
       "<style scoped>\n",
       "    .dataframe tbody tr th:only-of-type {\n",
       "        vertical-align: middle;\n",
       "    }\n",
       "\n",
       "    .dataframe tbody tr th {\n",
       "        vertical-align: top;\n",
       "    }\n",
       "\n",
       "    .dataframe thead th {\n",
       "        text-align: right;\n",
       "    }\n",
       "</style>\n",
       "<table border=\"1\" class=\"dataframe\">\n",
       "  <thead>\n",
       "    <tr style=\"text-align: right;\">\n",
       "      <th></th>\n",
       "      <th>charity_id</th>\n",
       "      <th>Advised Charity</th>\n",
       "    </tr>\n",
       "  </thead>\n",
       "  <tbody>\n",
       "    <tr>\n",
       "      <td>0</td>\n",
       "      <td>439</td>\n",
       "      <td>Room to Grow National Inc</td>\n",
       "    </tr>\n",
       "    <tr>\n",
       "      <td>3</td>\n",
       "      <td>557</td>\n",
       "      <td>Wildlife Conservation Society</td>\n",
       "    </tr>\n",
       "    <tr>\n",
       "      <td>14</td>\n",
       "      <td>396</td>\n",
       "      <td>Play Soccer to Give Corp</td>\n",
       "    </tr>\n",
       "    <tr>\n",
       "      <td>85</td>\n",
       "      <td>280</td>\n",
       "      <td>Lemon Bay Junior Golf Foundation Inc</td>\n",
       "    </tr>\n",
       "    <tr>\n",
       "      <td>89</td>\n",
       "      <td>410</td>\n",
       "      <td>Purple Heart Homes Inc</td>\n",
       "    </tr>\n",
       "    <tr>\n",
       "      <td>...</td>\n",
       "      <td>...</td>\n",
       "      <td>...</td>\n",
       "    </tr>\n",
       "    <tr>\n",
       "      <td>2354</td>\n",
       "      <td>571</td>\n",
       "      <td>Zen Hospice Project Inc</td>\n",
       "    </tr>\n",
       "    <tr>\n",
       "      <td>2356</td>\n",
       "      <td>322</td>\n",
       "      <td>Muscular Dystrophy Association</td>\n",
       "    </tr>\n",
       "    <tr>\n",
       "      <td>2357</td>\n",
       "      <td>520</td>\n",
       "      <td>Treatment Advocacy Center</td>\n",
       "    </tr>\n",
       "    <tr>\n",
       "      <td>2358</td>\n",
       "      <td>7</td>\n",
       "      <td>Ajiri Foundation</td>\n",
       "    </tr>\n",
       "    <tr>\n",
       "      <td>2359</td>\n",
       "      <td>220</td>\n",
       "      <td>Hearing Charities Of America</td>\n",
       "    </tr>\n",
       "  </tbody>\n",
       "</table>\n",
       "<p>574 rows × 2 columns</p>\n",
       "</div>"
      ],
      "text/plain": [
       "     charity_id                       Advised Charity\n",
       "0           439             Room to Grow National Inc\n",
       "3           557         Wildlife Conservation Society\n",
       "14          396              Play Soccer to Give Corp\n",
       "85          280  Lemon Bay Junior Golf Foundation Inc\n",
       "89          410                Purple Heart Homes Inc\n",
       "...         ...                                   ...\n",
       "2354        571               Zen Hospice Project Inc\n",
       "2356        322        Muscular Dystrophy Association\n",
       "2357        520             Treatment Advocacy Center\n",
       "2358          7                      Ajiri Foundation\n",
       "2359        220          Hearing Charities Of America\n",
       "\n",
       "[574 rows x 2 columns]"
      ]
     },
     "execution_count": 36,
     "metadata": {},
     "output_type": "execute_result"
    }
   ],
   "source": [
    "item_lookup"
   ]
  },
  {
   "cell_type": "code",
   "execution_count": 39,
   "metadata": {},
   "outputs": [
    {
     "data": {
      "text/plain": [
       "charity_id                              336\n",
       "Advised Charity    Navy Seal Foundation Inc\n",
       "Name: 2125, dtype: object"
      ]
     },
     "execution_count": 39,
     "metadata": {},
     "output_type": "execute_result"
    }
   ],
   "source": [
    "item_lookup.iloc[439]"
   ]
  },
  {
   "cell_type": "code",
   "execution_count": 44,
   "metadata": {},
   "outputs": [
    {
     "data": {
      "text/plain": [
       "'439'"
      ]
     },
     "execution_count": 44,
     "metadata": {},
     "output_type": "execute_result"
    }
   ],
   "source": [
    "# Charity Name --> Charity_id\n",
    "item_lookup['charity_id'].loc[item_lookup['Advised Charity'] == str('Room to Grow National Inc')].iloc[0]"
   ]
  },
  {
   "cell_type": "code",
   "execution_count": 38,
   "metadata": {},
   "outputs": [
    {
     "data": {
      "text/plain": [
       "'Room to Grow National Inc'"
      ]
     },
     "execution_count": 38,
     "metadata": {},
     "output_type": "execute_result"
    }
   ],
   "source": [
    "# Charity_id --> Charity Name\n",
    "item_lookup['Advised Charity'].loc[item_lookup.charity_id == str(439)].iloc[0]"
   ]
  },
  {
   "cell_type": "code",
   "execution_count": 49,
   "metadata": {},
   "outputs": [
    {
     "name": "stdout",
     "output_type": "stream",
     "text": [
      "Charities Similar to: Navy Seal Foundation Inc \n",
      "\n",
      "                                   charities     score\n",
      "0                               Lionsraw Inc  0.021511\n",
      "1  Everytown For Gun Safety Support Fund Inc  0.019936\n",
      "2                   Navy Seal Foundation Inc  0.019833\n",
      "3                            One Mission Inc  0.019671\n",
      "4                       Hungry for Music Inc  0.018806\n",
      "5                     Athlife Foundation Inc  0.015616\n",
      "6                       Habitat for Humanity  0.015547\n",
      "7                       Exhale to Inhale Inc  0.014914\n",
      "8                   Memphis Inner City Rugby  0.014672\n",
      "9                       Grateful Peoples Inc  0.014529\n"
     ]
    }
   ],
   "source": [
    "recommend_similar_charities(item_lookup,item_vec,item_name='Navy Seal Foundation Inc');"
   ]
  },
  {
   "cell_type": "code",
   "execution_count": 30,
   "metadata": {},
   "outputs": [
    {
     "name": "stdout",
     "output_type": "stream",
     "text": [
      "Charities Similar to: American Society For The Prevention Of Cruelty To Animals \n",
      "\n",
      "                                           charities     score\n",
      "0  American Society For The Prevention Of Cruelty...  0.012739\n",
      "1                       Dana-Farber Cancer Institute  0.009687\n",
      "2                           Play Soccer to Give Corp  0.008045\n",
      "3                      New York Shakespeare Festival  0.008029\n",
      "4  Alzheimers Disease And Related Disorders Assoc...  0.007571\n",
      "5                          The Animal Medical Center  0.007026\n",
      "6               Organization For Autism Research Inc  0.006788\n",
      "7                      Planned Parenthood Global Inc  0.006787\n",
      "8                       Hearing Charities Of America  0.006707\n",
      "9                                   Social Good Fund  0.006656\n"
     ]
    }
   ],
   "source": [
    "#------------------------------\n",
    "# FIND SIMILAR ITEMS\n",
    "#------------------------------\n",
    "\n",
    "# Let's find similar charities to __________ (Use item_lookup to locate charity_id). \n",
    "item_id = 30\n",
    "\n",
    "# Get the item row for selected charity.\n",
    "item_vec = item_vecs[item_id].T\n",
    "\n",
    "# Calculate the similarity score between selected charity and other charities\n",
    "# and select the top 10 most similar.\n",
    "scores = item_vecs.dot(item_vec).toarray().reshape(1,-1)[0]\n",
    "top_10 = np.argsort(scores)[::-1][:10]\n",
    "\n",
    "charities = []\n",
    "charity_scores = []\n",
    "\n",
    "print(\"Charities Similar to:\", item_lookup['Advised Charity'].loc[item_lookup.charity_id == str(item_id)].iloc[0],\"\\n\")\n",
    "\n",
    "# Get and print the actual charity names and scores\n",
    "for idx in top_10:\n",
    "    charities.append(item_lookup['Advised Charity'].loc[item_lookup.charity_id == str(idx)].iloc[0])\n",
    "    charity_scores.append(scores[idx])\n",
    "\n",
    "similar = pd.DataFrame({'charities': charities, 'score': charity_scores})\n",
    "\n",
    "print (similar)"
   ]
  },
  {
   "cell_type": "code",
   "execution_count": 58,
   "metadata": {},
   "outputs": [
    {
     "name": "stdout",
     "output_type": "stream",
     "text": [
      "    charity_id                  Advised Charity\n",
      "358        525  Trustees For Harvard University\n",
      "912        311         Memphis Inner City Rugby\n",
      "\n",
      " User-User Recommendations:\n",
      "                              charity     score\n",
      "0         Wounded Warrior Project Inc  0.941374\n",
      "1                Hungry for Music Inc  0.796742\n",
      "2                Bent On Learning Inc  0.686778\n",
      "3                    Bent On Learning  0.649153\n",
      "4              Pat Tillman Foundation  0.624113\n",
      "5  Bob Woodruff Family Foundation Inc  0.577210\n",
      "6                Kenya Education Fund  0.574245\n",
      "7   Temple Beth El Of Northern Valley  0.517592\n",
      "8                          Spirits Up  0.489190\n",
      "9                                 USO  0.482612\n"
     ]
    }
   ],
   "source": [
    "# Let's say we want to recommend charities for user\n",
    "user_id = 20\n",
    "\n",
    "#------------------------------\n",
    "# GET ITEMS Donated to BY USER\n",
    "#------------------------------\n",
    "\n",
    "# Let's print out what the user has donated to\n",
    "consumed_idx = data_sparse[user_id,:].nonzero()[1].astype(str)\n",
    "consumed_items = item_lookup.loc[item_lookup.charity_id.isin(consumed_idx)]\n",
    "print (consumed_items)\n",
    "\n",
    "\n",
    "# Let's generate and print our recommendations\n",
    "recommendations = recommend(user_id, data_sparse, user_vecs, item_vecs, item_lookup)\n",
    "print(\"\\n User-User Recommendations:\")\n",
    "print (recommendations)"
   ]
  },
  {
   "cell_type": "code",
   "execution_count": null,
   "metadata": {},
   "outputs": [],
   "source": []
  },
  {
   "cell_type": "code",
   "execution_count": null,
   "metadata": {},
   "outputs": [],
   "source": []
  },
  {
   "cell_type": "markdown",
   "metadata": {},
   "source": [
    "## Testing and Scoring the Model"
   ]
  },
  {
   "cell_type": "code",
   "execution_count": 84,
   "metadata": {},
   "outputs": [],
   "source": [
    "# Splitting Data into Train and Split based on Time Series\n",
    "train_df = (user_and_charity_df[user_and_charity_df['Date'] < pd.to_datetime('2019-04-01 08:24:10.798807-04:00')])\n",
    "test_df = (user_and_charity_df[user_and_charity_df['Date'] > pd.to_datetime('2019-04-01 08:24:10.798807-04:00')])"
   ]
  },
  {
   "cell_type": "code",
   "execution_count": 125,
   "metadata": {},
   "outputs": [
    {
     "name": "stdout",
     "output_type": "stream",
     "text": [
      "iteration 1 of 20\n",
      "iteration 2 of 20\n",
      "iteration 3 of 20\n",
      "iteration 4 of 20\n",
      "iteration 5 of 20\n",
      "iteration 6 of 20\n",
      "iteration 7 of 20\n",
      "iteration 8 of 20\n",
      "iteration 9 of 20\n",
      "iteration 10 of 20\n",
      "iteration 11 of 20\n",
      "iteration 12 of 20\n",
      "iteration 13 of 20\n",
      "iteration 14 of 20\n",
      "iteration 15 of 20\n",
      "iteration 16 of 20\n",
      "iteration 17 of 20\n",
      "iteration 18 of 20\n",
      "iteration 19 of 20\n",
      "iteration 20 of 20\n"
     ]
    }
   ],
   "source": [
    "# Train the model from training data -> Default 20 iterations ALS\n",
    "user_vecs, item_vecs, data_sparse, item_lookup, user_lookup = create_collab_filtering_model(train_df)"
   ]
  },
  {
   "cell_type": "code",
   "execution_count": 126,
   "metadata": {},
   "outputs": [
    {
     "data": {
      "text/html": [
       "<div>\n",
       "<style scoped>\n",
       "    .dataframe tbody tr th:only-of-type {\n",
       "        vertical-align: middle;\n",
       "    }\n",
       "\n",
       "    .dataframe tbody tr th {\n",
       "        vertical-align: top;\n",
       "    }\n",
       "\n",
       "    .dataframe thead th {\n",
       "        text-align: right;\n",
       "    }\n",
       "</style>\n",
       "<table border=\"1\" class=\"dataframe\">\n",
       "  <thead>\n",
       "    <tr style=\"text-align: right;\">\n",
       "      <th></th>\n",
       "      <th>user_id</th>\n",
       "      <th>User ID</th>\n",
       "    </tr>\n",
       "  </thead>\n",
       "  <tbody>\n",
       "    <tr>\n",
       "      <td>9</td>\n",
       "      <td>589</td>\n",
       "      <td>1629</td>\n",
       "    </tr>\n",
       "    <tr>\n",
       "      <td>11</td>\n",
       "      <td>610</td>\n",
       "      <td>1742</td>\n",
       "    </tr>\n",
       "    <tr>\n",
       "      <td>12</td>\n",
       "      <td>374</td>\n",
       "      <td>1152</td>\n",
       "    </tr>\n",
       "    <tr>\n",
       "      <td>13</td>\n",
       "      <td>409</td>\n",
       "      <td>1216</td>\n",
       "    </tr>\n",
       "    <tr>\n",
       "      <td>18</td>\n",
       "      <td>663</td>\n",
       "      <td>1988</td>\n",
       "    </tr>\n",
       "    <tr>\n",
       "      <td>...</td>\n",
       "      <td>...</td>\n",
       "      <td>...</td>\n",
       "    </tr>\n",
       "    <tr>\n",
       "      <td>2354</td>\n",
       "      <td>67</td>\n",
       "      <td>373</td>\n",
       "    </tr>\n",
       "    <tr>\n",
       "      <td>2356</td>\n",
       "      <td>64</td>\n",
       "      <td>356</td>\n",
       "    </tr>\n",
       "    <tr>\n",
       "      <td>2357</td>\n",
       "      <td>54</td>\n",
       "      <td>156</td>\n",
       "    </tr>\n",
       "    <tr>\n",
       "      <td>2358</td>\n",
       "      <td>8</td>\n",
       "      <td>30</td>\n",
       "    </tr>\n",
       "    <tr>\n",
       "      <td>2359</td>\n",
       "      <td>1</td>\n",
       "      <td>7</td>\n",
       "    </tr>\n",
       "  </tbody>\n",
       "</table>\n",
       "<p>698 rows × 2 columns</p>\n",
       "</div>"
      ],
      "text/plain": [
       "     user_id  User ID\n",
       "9        589     1629\n",
       "11       610     1742\n",
       "12       374     1152\n",
       "13       409     1216\n",
       "18       663     1988\n",
       "...      ...      ...\n",
       "2354      67      373\n",
       "2356      64      356\n",
       "2357      54      156\n",
       "2358       8       30\n",
       "2359       1        7\n",
       "\n",
       "[698 rows x 2 columns]"
      ]
     },
     "execution_count": 126,
     "metadata": {},
     "output_type": "execute_result"
    }
   ],
   "source": [
    "user_lookup"
   ]
  },
  {
   "cell_type": "code",
   "execution_count": 143,
   "metadata": {},
   "outputs": [],
   "source": [
    "# Get user_id from User ID in user_lookup table\n",
    "def get_user_id_from_table(user_lookup,User_ID):\n",
    "    '''\n",
    "    '''\n",
    "    try:\n",
    "        user_id = user_lookup[user_lookup['User ID'] == User_ID].user_id.iloc[0]\n",
    "    except:\n",
    "        user_id = -1\n",
    "    \n",
    "    return int(user_id)"
   ]
  },
  {
   "cell_type": "code",
   "execution_count": null,
   "metadata": {},
   "outputs": [],
   "source": []
  },
  {
   "cell_type": "code",
   "execution_count": 219,
   "metadata": {},
   "outputs": [
    {
     "data": {
      "text/plain": [
       "Advised Charity\n",
       "Tzahal Shalom Of N Westchester Incorporated    31471.50\n",
       "Social Good Fund                               10430.52\n",
       "Memphis Inner City Rugby                       10168.00\n",
       "Play Soccer to Give Corp                        8321.80\n",
       "Kenya Education Fund                            6852.00\n",
       "                                                 ...   \n",
       "Autism Speaks Inc                                  0.50\n",
       "Dayton Dragons Foundation                          0.50\n",
       "Trevor Day School                                  0.50\n",
       "New York Womens Foundation                         0.50\n",
       "Greater Newburgh Symphony Orchestra Corp           0.50\n",
       "Name: Amount, Length: 456, dtype: float64"
      ]
     },
     "execution_count": 219,
     "metadata": {},
     "output_type": "execute_result"
    }
   ],
   "source": [
    "top_3_from_train = train_df.groupby('Advised Charity')['Amount'].sum().sort_values(ascending=False).head(500)\n",
    "top_3_from_train"
   ]
  },
  {
   "cell_type": "code",
   "execution_count": 220,
   "metadata": {},
   "outputs": [],
   "source": [
    "top_3_pop_charities_list = list(top_3_from_train.index)"
   ]
  },
  {
   "cell_type": "code",
   "execution_count": 231,
   "metadata": {
    "scrolled": false
   },
   "outputs": [
    {
     "name": "stdout",
     "output_type": "stream",
     "text": [
      "Pop Score: 152\n",
      "Pop Total: 396\n",
      "Pop Accuracy %: 38.38\n",
      "\n",
      "\n",
      "Rec Score: 1\n",
      "Rec Total: 191\n",
      "Rec Accuracy %: 0.52\n"
     ]
    }
   ],
   "source": [
    "count = 0\n",
    "pop_total = 0\n",
    "rec_total = 0\n",
    "rec_score = 0\n",
    "pop_score = 0\n",
    "\n",
    "for i,row in test_df.iterrows():\n",
    "    user_id = get_user_id_from_table(user_lookup,int(row['User ID']))\n",
    "    \n",
    "    \n",
    "    top_3_recs_list = []\n",
    "    \n",
    "    if user_id == -1:\n",
    "        pop_total += 1\n",
    "        top_3_recs_list = top_3_pop_charities_list\n",
    "        if(row['Advised Charity']) in top_3_recs_list:\n",
    "            pop_score += 1\n",
    "    \n",
    "    if user_id != -1:\n",
    "        rec_total += 1\n",
    "        # Let's generate and print our recommendations\n",
    "        recommendations = recommend(user_id, data_sparse, user_vecs, item_vecs, item_lookup, top_3_from_train,num_items=3)\n",
    "        \n",
    "        #print(\"\\n User-User Recommendations:\")\n",
    "        for char in (recommendations.charity):\n",
    "            top_3_recs_list.append(char)\n",
    "    \n",
    "    #print (row['Advised Charity'])\n",
    "    \n",
    "        if(row['Advised Charity']) in top_3_recs_list:\n",
    "            rec_score += 1\n",
    "    \n",
    "print(\"Pop Score:\", pop_score)\n",
    "print(\"Pop Total:\", pop_total)\n",
    "print(\"Pop Accuracy %:\", round((pop_score/pop_total)*100,2))    \n",
    "\n",
    "print(\"\\n\")\n",
    "\n",
    "print(\"Rec Score:\", rec_score)\n",
    "print(\"Rec Total:\", rec_total)\n",
    "print(\"Rec Accuracy %:\", round((rec_score/rec_total)*100,2))"
   ]
  },
  {
   "cell_type": "code",
   "execution_count": null,
   "metadata": {},
   "outputs": [],
   "source": []
  }
 ],
 "metadata": {
  "kernelspec": {
   "display_name": "Python 3",
   "language": "python",
   "name": "python3"
  },
  "language_info": {
   "codemirror_mode": {
    "name": "ipython",
    "version": 3
   },
   "file_extension": ".py",
   "mimetype": "text/x-python",
   "name": "python",
   "nbconvert_exporter": "python",
   "pygments_lexer": "ipython3",
   "version": "3.7.4"
  }
 },
 "nbformat": 4,
 "nbformat_minor": 2
}
